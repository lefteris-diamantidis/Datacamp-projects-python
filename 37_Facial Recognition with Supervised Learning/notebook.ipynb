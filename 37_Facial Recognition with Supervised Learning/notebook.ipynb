{
 "cells": [
  {
   "cell_type": "markdown",
   "id": "88c639dc-bfcd-449e-bddd-55f8bd551dd5",
   "metadata": {},
   "source": [
    "![Facial Recognition](facialrecognition.jpg)"
   ]
  },
  {
   "cell_type": "markdown",
   "id": "0fd04b96-d360-411c-8b17-a10382c97d29",
   "metadata": {},
   "source": [
    "You are a member of an elite group of data scientists, specialising in advanced facial recognition technology, this firm is dedicated to identifying and safeguarding prominent individuals from various spheres—ranging from entertainment and sports to politics and philanthropy. The team's mission is to deploy AI-driven solutions that can accurately distinguish between images of notable personalities and the general populace, enhancing the personal security of such high-profile individuals. You're to focus on Arnold Schwarzenegger, a figure whose accomplishments span from bodybuilding champion to Hollywood icon, and from philanthropist to the Governor of California. "
   ]
  },
  {
   "cell_type": "markdown",
   "id": "be124832-8192-4f93-b487-247c3d03d23b",
   "metadata": {},
   "source": [
    "### **The Data**\n",
    "The `data/lfw_arnie_nonarnie.csv` dataset contains processed facial image data derived from the \"Labeled Faces in the Wild\" (LFW) dataset, focusing specifically on images of Arnold Schwarzenegger and other individuals not identified as him. This dataset has been prepared to aid in the development and evaluation of facial recognition models. There are 40 images of Arnold Schwarzenegger and 150 of other people.\n",
    "\n",
    "| Column Name | Description |\n",
    "|-------------|-------------|\n",
    "| PC1, PC2, ... PCN | Principal components from PCA, capturing key image features. |\n",
    "| Label | Binary indicator: `1` for Arnold Schwarzenegger, `0` for others. |"
   ]
  },
  {
   "cell_type": "code",
   "execution_count": 1,
   "id": "8e57f91a",
   "metadata": {},
   "outputs": [],
   "source": [
    "import pandas as pd\n",
    "from sklearn.pipeline import Pipeline\n",
    "from sklearn.preprocessing import StandardScaler\n",
    "from sklearn.model_selection import GridSearchCV, KFold, train_test_split\n",
    "from sklearn.metrics import accuracy_score, precision_score, recall_score, f1_score, confusion_matrix\n",
    "import seaborn as sns\n",
    "import matplotlib.pyplot as plt\n",
    "\n",
    "from sklearn.linear_model import LogisticRegression\n",
    "from sklearn.neighbors import KNeighborsClassifier\n",
    "from sklearn.tree import DecisionTreeClassifier\n",
    "\n",
    "import warnings\n",
    "warnings.filterwarnings(\"ignore\")\n",
    "\n",
    "pd.set_option(\"display.width\", 1000)"
   ]
  },
  {
   "cell_type": "code",
   "execution_count": 2,
   "id": "9dd8e45f",
   "metadata": {},
   "outputs": [
    {
     "name": "stdout",
     "output_type": "stream",
     "text": [
      "          0         1         2         3         4         5         6         7         8         9  ...       141       142       143       144       145       146       147       148       149  Label\n",
      "0 -2.061987  0.581320 -0.249115 -0.631340 -1.359899  0.751619 -0.029364  1.610456  0.341402  1.286709  ... -0.356844 -0.016488 -0.228473  0.258134  0.046834  0.135742 -0.068297  0.022038  0.090003      1\n",
      "1 -0.796838 -0.667228 -0.107889  0.019755 -0.686348  0.912779  0.463412 -0.238308 -0.294023  0.215470  ... -0.037243 -0.012105 -0.351285 -0.034968  0.192314 -0.015406 -0.089117  0.023588 -0.019998      1\n",
      "2  5.376779  1.142695  2.543111 -2.727212  0.272785 -0.972187  1.111221  1.645502 -2.556968 -0.648781  ...  0.157441 -0.333875 -0.303720 -0.085975  0.171346  0.128577 -0.118262  0.045881 -0.190158      1\n",
      "3  7.029235  1.242883 -2.628079  1.224479 -1.141370 -1.620647  0.205890  1.567561  0.736200  0.010782  ...  0.051040 -0.068796  0.141841 -0.227999  0.046044  0.013643 -0.125893  0.146396  0.013320      1\n",
      "4  5.484822  6.752706 -4.291114  1.740412 -1.603087 -1.075175  1.919936 -0.197615  1.030596  1.451936  ...  0.034412  0.265141  0.226000  0.032064 -0.113654  0.059126 -0.216803  0.025849  0.020456      1\n",
      "\n",
      "[5 rows x 151 columns]\n"
     ]
    }
   ],
   "source": [
    "df = pd.read_csv(\"data/lfw_arnie_nonarnie.csv\")\n",
    "\n",
    "print(df.head())"
   ]
  },
  {
   "cell_type": "markdown",
   "id": "a3dc22cc",
   "metadata": {},
   "source": [
    "Leverage machine learning to enhance the security of influential figures by distinguishing Arnold Schwarzenegger from others.\n",
    "\n",
    "- Construct machine learning pipelines for three classification models. Store these initialized models in a dictionary named `models`."
   ]
  },
  {
   "cell_type": "code",
   "execution_count": 3,
   "id": "dfb86d17",
   "metadata": {},
   "outputs": [],
   "source": [
    "X = df.drop('Label', axis=1)\n",
    "y = df['Label'] \n",
    "\n",
    "X_train, X_test, y_train, y_test = train_test_split(X, y, test_size=0.2, random_state=21, stratify=y)\n",
    "\n",
    "models = {\"LogisticRegression\": LogisticRegression(), \n",
    "        \"KNeighborsClassifier\": KNeighborsClassifier(),\n",
    "        \"DecisionTreeClassifier\": DecisionTreeClassifier()}"
   ]
  },
  {
   "cell_type": "markdown",
   "id": "3b7cc082",
   "metadata": {},
   "source": [
    "- Determine the best performing model based on cross-validation scores. Save the model's name as `best_model_name`, its parameters as `best_model_info`, and its cross-validation score as `best_model_cv_score`."
   ]
  },
  {
   "cell_type": "code",
   "execution_count": 4,
   "id": "e423d6aa",
   "metadata": {},
   "outputs": [
    {
     "name": "stdout",
     "output_type": "stream",
     "text": [
      "Best Model: LogisticRegression\n",
      "Best Model Parameters: {'LogisticRegression__C': 1}\n",
      "Best Model CV Score: 0.8288172043010752\n"
     ]
    }
   ],
   "source": [
    "param_grid = {\"LogisticRegression\": {\"LogisticRegression__C\": [0.01, 0.1, 1, 10]},\n",
    "            \"KNeighborsClassifier\": {\"KNeighborsClassifier__n_neighbors\": range(1,10)},\n",
    "            \"DecisionTreeClassifier\": {\"DecisionTreeClassifier__max_depth\": [2, 5, 10],\n",
    "            \"DecisionTreeClassifier__min_samples_split\": [2, 5, 10, 20],\n",
    "            \"DecisionTreeClassifier__random_state\": [42]}}\n",
    "\n",
    "kf = KFold(n_splits=5, random_state=42, shuffle=True)\n",
    "\n",
    "pipe_accuracies = {}\n",
    "pipe_params = {}\n",
    "pipelines = {}\n",
    "\n",
    "for name, model in models.items():\n",
    "    pipeline = Pipeline(steps=[\n",
    "        (\"scaler\", StandardScaler()),\n",
    "        (name, model)\n",
    "    ])\n",
    "\n",
    "    grid_search = GridSearchCV(pipeline, param_grid[name], cv=kf, scoring=\"accuracy\")\n",
    "    \n",
    "    grid_search.fit(X_train, y_train)\n",
    "    pipe_accuracies[name] = grid_search.best_score_\n",
    "    pipe_params[name] = grid_search.best_params_\n",
    "    pipelines[name] = grid_search\n",
    "\n",
    "best_model_name = max(pipe_accuracies)\n",
    "best_model_cv_score = max(pipe_accuracies.values())\n",
    "best_model_info = pipe_params[best_model_name]\n",
    "\n",
    "print(f\"Best Model: {best_model_name}\")\n",
    "print(f\"Best Model Parameters: {best_model_info}\")\n",
    "print(f\"Best Model CV Score: {best_model_cv_score}\")"
   ]
  },
  {
   "cell_type": "markdown",
   "id": "fdd8c02e",
   "metadata": {},
   "source": [
    "- Evaluate the selected model and store `accuracy`, `precision`, `recall`, and `f1` on the test set."
   ]
  },
  {
   "cell_type": "code",
   "execution_count": 5,
   "id": "d7a2293f",
   "metadata": {},
   "outputs": [
    {
     "name": "stdout",
     "output_type": "stream",
     "text": [
      "Accuracy: 0.8158\n",
      "Precision: 1.0000\n",
      "Recall: 0.1250\n",
      "F1 Score: 0.2222\n"
     ]
    }
   ],
   "source": [
    "y_pred = pipelines[best_model_name].predict(X_test)\n",
    "accuracy = accuracy_score(y_test, y_pred)\n",
    "precision = precision_score(y_test, y_pred)\n",
    "recall = recall_score(y_test, y_pred)\n",
    "f1 = f1_score(y_test, y_pred)\n",
    "\n",
    "print(f\"Accuracy: {accuracy:.4f}\")\n",
    "print(f\"Precision: {precision:.4f}\")\n",
    "print(f\"Recall: {recall:.4f}\")\n",
    "print(f\"F1 Score: {f1:.4f}\")"
   ]
  },
  {
   "cell_type": "markdown",
   "id": "10ab02bc",
   "metadata": {},
   "source": [
    "- Aim to achieve a minimum accuracy of 80% for at least one of the models. Save your best accuracy score as `score`.\n",
    "\n",
    "As an optional step, use Matplotlib to create a confusion matrix visualization for the predictions made by your best model."
   ]
  },
  {
   "cell_type": "code",
   "execution_count": null,
   "id": "31b1792f",
   "metadata": {},
   "outputs": [
    {
     "data": {
      "image/png": "[encoded data removed]",
      "text/plain": [
       "<Figure size 640x480 with 2 Axes>"
      ]
     },
     "metadata": {},
     "output_type": "display_data"
    }
   ],
   "source": [
    "conf_mat = confusion_matrix(y_test, y_pred)\n",
    "\n",
    "plt.imshow(conf_mat, interpolation='nearest', cmap=plt.cm.Blues)\n",
    "plt.title(f'Confusion Matrix for {best_model_name}')\n",
    "plt.colorbar()\n",
    "tick_marks = range(len(set(y_test)))\n",
    "plt.xticks(tick_marks, ['Non-Arnie', 'Arnie'], rotation=45)\n",
    "plt.yticks(tick_marks, ['Non-Arnie', 'Arnie'])\n",
    "plt.xlabel('Predicted Labels')\n",
    "plt.ylabel('True Labels')\n",
    "plt.tight_layout()\n",
    "plt.show()"
   ]
  }
 ],
 "metadata": {
  "colab": {
   "name": "Welcome to DataCamp Workspaces.ipynb",
   "provenance": []
  },
  "kernelspec": {
   "display_name": "base",
   "language": "python",
   "name": "python3"
  },
  "language_info": {
   "codemirror_mode": {
    "name": "ipython",
    "version": 3
   },
   "file_extension": ".py",
   "mimetype": "text/x-python",
   "name": "python",
   "nbconvert_exporter": "python",
   "pygments_lexer": "ipython3",
   "version": "3.12.7"
  }
 },
 "nbformat": 4,
 "nbformat_minor": 5
}
