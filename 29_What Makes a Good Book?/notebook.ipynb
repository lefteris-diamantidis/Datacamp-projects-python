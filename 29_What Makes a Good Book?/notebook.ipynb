{
 "cells": [
  {
   "cell_type": "markdown",
   "id": "fc61438f-c939-4adb-9feb-f32b41be70e8",
   "metadata": {},
   "source": [
    "![bookstore](bookstore.jpg)\n"
   ]
  },
  {
   "cell_type": "markdown",
   "id": "405dc77e-dfb4-44c5-a686-33ed3e845da1",
   "metadata": {},
   "source": [
    "Identifying popular products is incredibly important for e-commerce companies! Popular products generate more revenue and, therefore, play a key role in stock control.\n",
    "\n",
    "You've been asked to support an online bookstore by building a model to predict whether a book will be popular or not. They've supplied you with an extensive dataset containing information about all books they've sold, including:\n",
    "\n",
    "* `price`\n",
    "* `popularity` (target variable)\n",
    "* `review/summary`\n",
    "* `review/text`\n",
    "* `review/helpfulness`\n",
    "* `authors`\n",
    "* `categories`\n",
    "\n",
    "You'll need to build a model that predicts whether a book will be rated as popular or not.\n",
    "\n",
    "They have high expectations of you, so have set a target of at least 70% accuracy! You are free to use as many features as you like, and will need to engineer new features to achieve this level of performance."
   ]
  },
  {
   "cell_type": "code",
   "execution_count": 11,
   "id": "8a7588e4",
   "metadata": {},
   "outputs": [],
   "source": [
    "# Import some required packages\n",
    "import pandas as pd\n",
    "import seaborn as sns\n",
    "import matplotlib.pyplot as plt\n",
    "import numpy as np\n",
    "from sklearn.feature_extraction.text import CountVectorizer\n",
    "from sklearn.ensemble import RandomForestClassifier\n",
    "from sklearn.model_selection import train_test_split \n",
    "import warnings\n",
    "warnings.filterwarnings(\"ignore\")\n",
    "\n",
    "pd.set_option(\"display.width\", 1000)"
   ]
  },
  {
   "cell_type": "markdown",
   "id": "1020c34b",
   "metadata": {},
   "source": [
    "Help the online bookstore identify their bestsellers.\n",
    "\n",
    "- Create a binary classification model to predict whether a book is rated as `\"Popular\"` or `\"Unpopular\"`, achieving an accuracy score of over 70%.\n",
    "- The final output should be a variable called `model_accuracy` with a value of over 0.7."
   ]
  },
  {
   "cell_type": "code",
   "execution_count": 12,
   "id": "173266cf",
   "metadata": {},
   "outputs": [
    {
     "name": "stdout",
     "output_type": "stream",
     "text": [
      "                                               title  price review/helpfulness                                     review/summary                                        review/text                                        description                                    authors             categories popularity\n",
      "0  We Band of Angels: The Untold Story of America...  10.88                2/3                   A Great Book about women in WWII  I have alway been a fan of fiction books set i...  In the fall of 1941, the Philippines was a gar...                         'Elizabeth Norman'              'History'  Unpopular\n",
      "1  Prayer That Brings Revival: Interceding for Go...   9.35                0/0  Very helpful book for church prayer groups and...  Very helpful book to give you a better prayer ...  In Prayer That Brings Revival, best-selling au...                              'Yong-gi Cho'             'Religion'  Unpopular\n",
      "2          The Mystical Journey from Jesus to Christ  24.95              17/19  Universal Spiritual Awakening Guide With Some ...  The message of this book is to find yourself a...  THE MYSTICAL JOURNEY FROM JESUS TO CHRIST Disc...                              'Muata Ashby'  'Body, Mind & Spirit'  Unpopular\n",
      "3                                          Death Row   7.99                0/1            Ben Kincaid tries to stop an execution.  The hero of William Bernhardt's Ben Kincaid no...  Upon receiving his execution date, one of the ...                            'Lynden Harris'       'Social Science'  Unpopular\n",
      "4  Sound and Form in Modern Poetry: Second Editio...  32.50              18/20                good introduction to modern prosody  There's a lot in this book which the reader wi...  An updated and expanded version of a classic a...  'Harvey Seymour Gross', 'Robert McDowell'               'Poetry'  Unpopular\n"
     ]
    }
   ],
   "source": [
    "books = pd.read_csv(\"data/books.csv\")\n",
    "\n",
    "print(books.head())"
   ]
  },
  {
   "cell_type": "code",
   "execution_count": 13,
   "id": "bc9069a0",
   "metadata": {},
   "outputs": [
    {
     "name": "stdout",
     "output_type": "stream",
     "text": [
      "<class 'pandas.core.frame.DataFrame'>\n",
      "RangeIndex: 15719 entries, 0 to 15718\n",
      "Data columns (total 9 columns):\n",
      " #   Column              Non-Null Count  Dtype  \n",
      "---  ------              --------------  -----  \n",
      " 0   title               15719 non-null  object \n",
      " 1   price               15719 non-null  float64\n",
      " 2   review/helpfulness  15719 non-null  object \n",
      " 3   review/summary      15718 non-null  object \n",
      " 4   review/text         15719 non-null  object \n",
      " 5   description         15719 non-null  object \n",
      " 6   authors             15719 non-null  object \n",
      " 7   categories          15719 non-null  object \n",
      " 8   popularity          15719 non-null  object \n",
      "dtypes: float64(1), object(8)\n",
      "memory usage: 1.1+ MB\n"
     ]
    }
   ],
   "source": [
    "books.info()"
   ]
  },
  {
   "cell_type": "code",
   "execution_count": 14,
   "id": "2aa69ebc",
   "metadata": {},
   "outputs": [
    {
     "data": {
      "image/png": "[encoded data removed]",
      "text/plain": [
       "<Figure size 640x480 with 1 Axes>"
      ]
     },
     "metadata": {},
     "output_type": "display_data"
    }
   ],
   "source": [
    "sns.countplot(data=books, x=\"popularity\")\n",
    "plt.show()"
   ]
  },
  {
   "cell_type": "code",
   "execution_count": 15,
   "id": "ed4795ef",
   "metadata": {},
   "outputs": [
    {
     "name": "stdout",
     "output_type": "stream",
     "text": [
      "categories\n",
      "'Fiction'                      3520\n",
      "'Religion'                     1053\n",
      "'Biography & Autobiography'     852\n",
      "'Juvenile Fiction'              815\n",
      "'History'                       754\n",
      "                               ... \n",
      "'Sunflowers'                      1\n",
      "'Self-confidence'                 1\n",
      "'United States'                   1\n",
      "'Note-taking'                     1\n",
      "'Asthma'                          1\n",
      "Name: count, Length: 313, dtype: int64\n"
     ]
    }
   ],
   "source": [
    "print(books[\"categories\"].value_counts())"
   ]
  },
  {
   "cell_type": "code",
   "execution_count": 16,
   "id": "94d8611c",
   "metadata": {},
   "outputs": [],
   "source": [
    "books = books.groupby(\"categories\").filter(lambda x: len(x) > 100)\n",
    "\n",
    "categories = pd.get_dummies(books[\"categories\"], drop_first=True)\n",
    "\n",
    "books = pd.concat([books, categories], axis=1)\n",
    "books.drop(columns=[\"categories\"], inplace=True)"
   ]
  },
  {
   "cell_type": "code",
   "execution_count": 17,
   "id": "33b395c3",
   "metadata": {},
   "outputs": [],
   "source": [
    "books[\"num_reviews\"] = books[\"review/helpfulness\"].str.split(\"/\", expand=True)[1]\n",
    "books[\"num_helpful\"] = books[\"review/helpfulness\"].str.split(\"/\", expand=True)[0]\n",
    "\n",
    "for col in [\"num_reviews\", \"num_helpful\"]:\n",
    "    books[col] = books[col].astype(int)\n",
    "    \n",
    "# Add percentage of helpful reviews as a column to normalize the data\n",
    "books[\"perc_helpful_reviews\"] = books[\"num_helpful\"] / books[\"num_reviews\"]\n",
    "\n",
    "# Fill null values\n",
    "books[\"perc_helpful_reviews\"].fillna(0, inplace=True)\n",
    "\n",
    "# Drop original column\n",
    "books.drop(columns=[\"review/helpfulness\"], inplace=True)\n",
    "\n",
    "# Convert strings to lowercase\n",
    "for col in [\"review/summary\", \"review/text\", \"description\"]:\n",
    "    books[col] = books[col].str.lower()"
   ]
  },
  {
   "cell_type": "code",
   "execution_count": 19,
   "id": "c776cbcb",
   "metadata": {},
   "outputs": [
    {
     "name": "stdout",
     "output_type": "stream",
     "text": [
      "                                               title  price                                     review/summary                                        review/text                                        description                                    authors popularity  'Biography & Autobiography'  'Body, Mind & Spirit'  'Business & Economics'  ...  'Religion'  'Science'  'Self-Help'  'Social Science'  'Sports & Recreation'  'Travel'  'Young Adult Fiction'  num_reviews  num_helpful  perc_helpful_reviews\n",
      "0  We Band of Angels: The Untold Story of America...  10.88                   a great book about women in wwii  i have alway been a fan of fiction books set i...  in the fall of 1941, the philippines was a gar...                         'Elizabeth Norman'  Unpopular                        False                  False                   False  ...       False      False        False             False                  False     False                  False            3            2              0.666667\n",
      "1  Prayer That Brings Revival: Interceding for Go...   9.35  very helpful book for church prayer groups and...  very helpful book to give you a better prayer ...  in prayer that brings revival, best-selling au...                              'Yong-gi Cho'  Unpopular                        False                  False                   False  ...        True      False        False             False                  False     False                  False            0            0              0.000000\n",
      "2          The Mystical Journey from Jesus to Christ  24.95  universal spiritual awakening guide with some ...  the message of this book is to find yourself a...  the mystical journey from jesus to christ disc...                              'Muata Ashby'  Unpopular                        False                   True                   False  ...       False      False        False             False                  False     False                  False           19           17              0.894737\n",
      "3                                          Death Row   7.99            ben kincaid tries to stop an execution.  the hero of william bernhardt's ben kincaid no...  upon receiving his execution date, one of the ...                            'Lynden Harris'  Unpopular                        False                  False                   False  ...       False      False        False              True                  False     False                  False            1            0              0.000000\n",
      "4  Sound and Form in Modern Poetry: Second Editio...  32.50                good introduction to modern prosody  there's a lot in this book which the reader wi...  an updated and expanded version of a classic a...  'Harvey Seymour Gross', 'Robert McDowell'  Unpopular                        False                  False                   False  ...       False      False        False             False                  False     False                  False           20           18              0.900000\n",
      "\n",
      "[5 rows x 43 columns]\n"
     ]
    }
   ],
   "source": [
    "print(books.head())"
   ]
  },
  {
   "cell_type": "code",
   "execution_count": 20,
   "id": "a8010c2d-a710-4900-931d-96cc39499b25",
   "metadata": {
    "executionCancelledAt": null,
    "executionTime": null,
    "lastExecutedAt": null,
    "lastExecutedByKernel": null,
    "lastScheduledRunId": null,
    "lastSuccessfullyExecutedCode": null,
    "outputsMetadata": {
     "0": {
      "height": 353,
      "type": "stream"
     },
     "2": {
      "height": 269,
      "type": "stream"
     }
    }
   },
   "outputs": [],
   "source": [
    "positive_words = [\"great\", \"excellent\", \"good\", \"interesting\", \"enjoy\", \"helpful\", \"useful\", \"like\", \"love\", \"beautiful\", \"fantastic\", \"perfect\", \"wonderful\", \"impressive\", \"amazing\", \"outstanding\", \"remarkable\", \"brilliant\", \"exceptional\", \"positive\",\n",
    "    \"thrilling\"]\n",
    "\n",
    "# Instantiate a CountVectorizer\n",
    "vectorizer = CountVectorizer(vocabulary=positive_words)\n",
    "\n",
    "review_text = books[\"review/text\"]\n",
    "text_transformed = vectorizer.fit_transform(review_text.fillna(''))\n",
    "\n",
    "review_summary = books[\"review/summary\"]\n",
    "summary_transformed = vectorizer.fit_transform(review_summary.fillna(''))\n",
    "\n",
    "description = books[\"description\"]\n",
    "description_transformed = vectorizer.fit_transform(description.fillna(''))\n",
    "\n",
    "books[\"positive_words_text\"] = text_transformed.sum(axis=1).reshape(-1, 1)\n",
    "books[\"positive_words_summary\"] = summary_transformed.sum(axis=1).reshape(-1, 1)\n",
    "books[\"positive_words_description\"] = description_transformed.sum(axis=1).reshape(-1, 1)\n",
    "\n",
    "# Remove original columns\n",
    "books.drop(columns=[\"review/text\", \"review/summary\", \"description\"], inplace=True)"
   ]
  },
  {
   "cell_type": "code",
   "execution_count": null,
   "id": "21f865e2",
   "metadata": {},
   "outputs": [],
   "source": [
    "X = books.drop(columns=[\"title\", \"authors\", \"popularity\"]).values\n",
    "y = books[\"popularity\"].values.reshape(-1, 1)\n",
    "\n",
    "X_train, X_test, y_train, y_test = train_test_split(X, y, test_size=0.3, random_state=42)"
   ]
  },
  {
   "cell_type": "code",
   "execution_count": 22,
   "id": "c5da9ed4",
   "metadata": {},
   "outputs": [
    {
     "name": "stdout",
     "output_type": "stream",
     "text": [
      "0.9619184849732401\n",
      "0.7097238895558223\n"
     ]
    }
   ],
   "source": [
    "clf = RandomForestClassifier(n_estimators=120, max_depth=50, min_samples_split=5, random_state=42, class_weight=\"balanced\")\n",
    "clf.fit(X_train, y_train.ravel()) \n",
    "\n",
    "# Evaluate accuracy\n",
    "print(clf.score(X_train, y_train))\n",
    "print(clf.score(X_test, y_test))\n",
    "\n",
    "model_accuracy = clf.score(X_test, y_test)"
   ]
  }
 ],
 "metadata": {
  "colab": {
   "name": "Welcome to DataCamp Workspaces.ipynb",
   "provenance": []
  },
  "editor": "DataLab",
  "kernelspec": {
   "display_name": "base",
   "language": "python",
   "name": "python3"
  },
  "language_info": {
   "codemirror_mode": {
    "name": "ipython",
    "version": 3
   },
   "file_extension": ".py",
   "mimetype": "text/x-python",
   "name": "python",
   "nbconvert_exporter": "python",
   "pygments_lexer": "ipython3",
   "version": "3.12.7"
  }
 },
 "nbformat": 4,
 "nbformat_minor": 5
}
