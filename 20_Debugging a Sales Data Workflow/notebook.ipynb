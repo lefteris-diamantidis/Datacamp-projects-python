{
 "cells": [
  {
   "cell_type": "markdown",
   "id": "740d0831-d810-4985-86d2-a1efabbf669e",
   "metadata": {},
   "source": [
    "![Binary code with a magnifying glass](binary.jpg)\n",
    "\n",
    "As a data engineer, you often face unexpected challenges in workflows. In this scenario, the `load_and_check()` function, in charge of managing sales data, encounters issues after the latest update. Unfortunately, your colleague who usually handles this code is currently on holiday, leaving you to troubleshoot.\n",
    "\n",
    "Your task is to identify and address the issues in the sales data pipeline **without getting into every line of code.** The `load_and_check()` function loads the `sales.csv` dataset and performs several checks. Initially, it verifies the dataset's shape, ensuring it matches expectations. Subsequently, integrity checks are conducted to maintain data consistency and flag any anomalies.\n",
    "\n",
    "The `sales.csv` dataset has various columns, focusing on critical fields such as `Total`, `Quantity`, `Unit price`, `Tax`, and `Date`. It's essential that the `Tax` column accurately represents 5% of the subtotal, calculated from the `Unit Price` multiplied by `Quantity`.\n",
    "\n",
    "**Your goal is to sort out the pipeline issues, aiming for the code to return 2 success messages upon completion.** While at it, try to keep the original structure as much as possible. Only change existing columns if necessary, and make sure the data remains accurate. Be mindful of updating any relevant if statements in the checks as needed."
   ]
  },
  {
   "cell_type": "markdown",
   "id": "474a1d81",
   "metadata": {},
   "source": [
    "- **Run** the `load_and_check()` function first. Look for any error messages in the output - these will point you to what needs fixing. You should aim for exactly two success messages: \"Data loaded successfully\" and \"Data integrity check was successful!\""
   ]
  },
  {
   "cell_type": "code",
   "execution_count": 1,
   "id": "faaf2562",
   "metadata": {},
   "outputs": [
    {
     "name": "stdout",
     "output_type": "stream",
     "text": [
      "Data column mismatch! Expected 18, but got 17.\n",
      "Columns found: ['Invoice ID', 'Branch', 'City', 'Customer type', 'Gender', 'Product line', 'Unit price', 'Quantity', 'Tax', 'Total', 'Date', 'Time', 'Payment', 'cogs', 'gross margin percentage', 'gross income', 'Rating']\n",
      "Data integrity check failed! 0 rows failed Condition_1, 346 rows failed Condition_2.\n"
     ]
    }
   ],
   "source": [
    "import pandas as pd\n",
    "\n",
    "def load_and_check():\n",
    "    # Step 1: Load the data and check if it has the expected shape\n",
    "    data = pd.read_csv('sales.csv')  \n",
    "    \n",
    "    expected_columns = 18\n",
    "    actual_columns = data.shape[1]\n",
    "    if actual_columns != expected_columns:\n",
    "        print(f\"Data column mismatch! Expected {expected_columns}, but got {actual_columns}.\")\n",
    "        print(f\"Columns found: {list(data.columns)}\")\n",
    "    else:\n",
    "        print(\"Data loaded successfully.\")\n",
    "\n",
    "    # Step 2: Calculate statistical values and merge with the original data\n",
    "    grouped_data = data.groupby(['Date'])['Total'].agg(['mean', 'std'])\n",
    "    grouped_data['threshold'] = 3 * grouped_data['std']\n",
    "    grouped_data['max'] = grouped_data['mean'] + grouped_data.threshold\n",
    "    grouped_data['min'] = grouped_data[['mean', 'threshold']].apply(lambda row: max(0, row['mean'] - row['threshold']), axis=1)\n",
    "    data = pd.merge(data, grouped_data, on='Date', how='left')\n",
    "\n",
    "    # Condition_1 checks if 'Total' is within the acceptable range (min to max) for each date\n",
    "    data['Condition_1'] = (data['Total'] >= data['min']) & (data['Total'] <= data['max'])\n",
    "    data['Condition_1'].fillna(False, inplace=True)  \n",
    "\n",
    "    # Condition_2 checks if the 'Tax' column is properly calculated as 5% of (Quantity * Unit price)\n",
    "    data['Condition_2'] = round(data['Quantity'] * data['Unit price'] * 0.05, 1) == round(data['Tax'], 1)\n",
    "        \n",
    "    # Step 3: Check if all rows pass both Condition_1 and Condition_2\n",
    "    # Success indicates data integrity; failure suggests potential issues.\n",
    "    failed_condition_1 = data[~data['Condition_1']]\n",
    "    failed_condition_2 = data[~data['Condition_2']]\n",
    "\n",
    "    if failed_condition_1.shape[0] > 0 or failed_condition_2.shape[0] > 0:\n",
    "        print(f\"Data integrity check failed! {failed_condition_1.shape[0]} rows failed Condition_1, \"\n",
    "            f\"{failed_condition_2.shape[0]} rows failed Condition_2.\")\n",
    "    else:\n",
    "        print(\"Data integrity check was successful! All rows pass the integrity conditions.\")\n",
    "        \n",
    "    return data\n",
    "\n",
    "processed_data = load_and_check()"
   ]
  },
  {
   "cell_type": "markdown",
   "id": "301964f3",
   "metadata": {},
   "source": [
    "- **Review** the `load_and_check()` function code, paying special attention to the two integrity checks:\n",
    "The first check validates the column count.\n",
    "The second check validates data integrity based on `Condition_1` (Total values) and `Condition_2` (Tax calculations at 5%)\n",
    "\n",
    "Your task is to identify and fix issues within the `load_and_check()` function itself, not by modifying the raw `sales.csv` dataset. You are permitted and expected to correct any columns within the function. Ensure the function only returns two success messages when completed."
   ]
  },
  {
   "cell_type": "code",
   "execution_count": 2,
   "id": "64619d2f-1d45-418d-8ec6-37fd5db9a4c5",
   "metadata": {
    "executionCancelledAt": null,
    "executionTime": null,
    "lastExecutedAt": null,
    "lastExecutedByKernel": null,
    "lastScheduledRunId": null,
    "lastSuccessfullyExecutedCode": null,
    "outputsMetadata": {
     "0": {
      "height": 59,
      "type": "stream"
     }
    }
   },
   "outputs": [
    {
     "name": "stdout",
     "output_type": "stream",
     "text": [
      "Data loaded successfully.\n",
      "Data integrity check was successful! All rows pass the integrity conditions.\n"
     ]
    }
   ],
   "source": [
    "import pandas as pd\n",
    "\n",
    "def load_and_check():\n",
    "    # Step 1: Load the data and check if it has the expected shape\n",
    "    data = pd.read_csv('sales.csv')  \n",
    "    \n",
    "    # Issue 1 fixed: Correct number of expected columns\n",
    "    expected_columns = 17\n",
    "    actual_columns = data.shape[1]\n",
    "    if actual_columns != expected_columns:\n",
    "        print(f\"Data column mismatch! Expected {expected_columns}, but got {actual_columns}.\")\n",
    "        print(f\"Columns found: {list(data.columns)}\")\n",
    "    else:\n",
    "        print(\"Data loaded successfully.\")\n",
    "\n",
    "    # Step 2: Calculate statistical values and merge with the original data\n",
    "    grouped_data = data.groupby(['Date'])['Total'].agg(['mean', 'std'])\n",
    "    grouped_data['threshold'] = 3 * grouped_data['std']\n",
    "    grouped_data['max'] = grouped_data['mean'] + grouped_data.threshold\n",
    "    grouped_data['min'] = grouped_data[['mean', 'threshold']].apply(lambda row: max(0, row['mean'] - row['threshold']), axis=1)\n",
    "    data = pd.merge(data, grouped_data, on='Date', how='left')\n",
    "    \n",
    "    # Issue 2 fixed:  Recalculating the 'Tax' column\n",
    "    data['Tax'] = (data['Quantity'] * data['Unit price']).astype(float) * 0.05  # Assuming tax is 5% of the subtotal\n",
    "\n",
    "    # Condition_1 checks if 'Total' is within the acceptable range (min to max) for each date\n",
    "    data['Condition_1'] = (data['Total'] >= data['min']) & (data['Total'] <= data['max'])\n",
    "    data['Condition_1'].fillna(False, inplace=True)  \n",
    "\n",
    "    # Condition_2 checks if the 'Tax' column is properly calculated as 5% of (Quantity * Unit price)\n",
    "    data['Condition_2'] = round(data['Quantity'] * data['Unit price'] * 0.05, 1) == round(data['Tax'], 1)\n",
    "        \n",
    "    # Step 3: Check if all rows pass both Condition_1 and Condition_2\n",
    "    # Success indicates data integrity; failure suggests potential issues.\n",
    "    failed_condition_1 = data[~data['Condition_1']]\n",
    "    failed_condition_2 = data[~data['Condition_2']]\n",
    "\n",
    "    if failed_condition_1.shape[0] > 0 or failed_condition_2.shape[0] > 0:\n",
    "        print(f\"Data integrity check failed! {failed_condition_1.shape[0]} rows failed Condition_1, \"\n",
    "            f\"{failed_condition_2.shape[0]} rows failed Condition_2.\")\n",
    "    else:\n",
    "        print(\"Data integrity check was successful! All rows pass the integrity conditions.\")\n",
    "        \n",
    "    return data\n",
    "\n",
    "processed_data = load_and_check()"
   ]
  }
 ],
 "metadata": {
  "colab": {
   "name": "Welcome to DataCamp Workspaces.ipynb",
   "provenance": []
  },
  "kernelspec": {
   "display_name": "base",
   "language": "python",
   "name": "python3"
  },
  "language_info": {
   "codemirror_mode": {
    "name": "ipython",
    "version": 3
   },
   "file_extension": ".py",
   "mimetype": "text/x-python",
   "name": "python",
   "nbconvert_exporter": "python",
   "pygments_lexer": "ipython3",
   "version": "3.12.7"
  }
 },
 "nbformat": 4,
 "nbformat_minor": 5
}
