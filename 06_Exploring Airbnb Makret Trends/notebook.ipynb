{
 "cells": [
  {
   "cell_type": "markdown",
   "id": "c747d469-ee97-4b95-880f-feefd5456042",
   "metadata": {
    "id": "bA5ajAmk7XH6"
   },
   "source": [
    "![NYC Skyline](nyc.jpg)\n",
    "\n",
    "Welcome to New York City, one of the most-visited cities in the world. There are many Airbnb listings in New York City to meet the high demand for temporary lodging for travelers, which can be anywhere between a few nights to many months. In this project, we will take a closer look at the New York Airbnb market by combining data from multiple file types like `.csv`, `.tsv`, and `.xlsx`.\n",
    "\n",
    "Recall that **CSV**, **TSV**, and **Excel** files are three common formats for storing data. \n",
    "Three files containing data on 2019 Airbnb listings are available to you:\n",
    "\n",
    "**data/airbnb_price.csv**\n",
    "This is a CSV file containing data on Airbnb listing prices and locations.\n",
    "- **`listing_id`**: unique identifier of listing\n",
    "- **`price`**: nightly listing price in USD\n",
    "- **`nbhood_full`**: name of borough and neighborhood where listing is located\n",
    "\n",
    "**data/airbnb_room_type.xlsx**\n",
    "This is an Excel file containing data on Airbnb listing descriptions and room types.\n",
    "- **`listing_id`**: unique identifier of listing\n",
    "- **`description`**: listing description\n",
    "- **`room_type`**: Airbnb has three types of rooms: shared rooms, private rooms, and entire homes/apartments\n",
    "\n",
    "**data/airbnb_last_review.tsv**\n",
    "This is a TSV file containing data on Airbnb host names and review dates.\n",
    "- **`listing_id`**: unique identifier of listing\n",
    "- **`host_name`**: name of listing host\n",
    "- **`last_review`**: date when the listing was last reviewed"
   ]
  },
  {
   "cell_type": "markdown",
   "id": "243d0aea",
   "metadata": {},
   "source": [
    "There are three files in the data folder: airbnb_price.csv, airbnb_room_type.xlsx, airbnb_last_review.tsv."
   ]
  },
  {
   "cell_type": "code",
   "execution_count": 4,
   "id": "fd39b0f1",
   "metadata": {},
   "outputs": [],
   "source": [
    "# We've loaded your first package for you! You can add as many cells as you need.\n",
    "import numpy as np\n",
    "import pandas as pd\n",
    "\n",
    "pd.set_option(\"display.width\", 1000)\n",
    "\n",
    "# Begin coding here ...\n",
    "airbnb_price=pd.read_csv('data/airbnb_price.csv')\n",
    "airbnb_room_type=pd.read_excel('data/airbnb_room_type.xlsx')\n",
    "airbnb_last_review=pd.read_csv('data/airbnb_last_review.tsv',sep='\\t')"
   ]
  },
  {
   "cell_type": "code",
   "execution_count": 2,
   "id": "90a0268a",
   "metadata": {},
   "outputs": [],
   "source": [
    "# Join the three data frames together into one\n",
    "listings = pd.merge(airbnb_price, airbnb_room_type, on='listing_id')\n",
    "listings = pd.merge(listings, airbnb_last_review, on='listing_id')"
   ]
  },
  {
   "cell_type": "code",
   "execution_count": 5,
   "id": "9cdefc6f",
   "metadata": {},
   "outputs": [
    {
     "name": "stdout",
     "output_type": "stream",
     "text": [
      "   listing_id        price                nbhood_full                                description        room_type    host_name   last_review\n",
      "0        2595  225 dollars         Manhattan, Midtown                      Skylit Midtown Castle  Entire home/apt     Jennifer   May 21 2019\n",
      "1        3831   89 dollars     Brooklyn, Clinton Hill            Cozy Entire Floor of Brownstone  Entire home/apt  LisaRoxanne  July 05 2019\n",
      "2        5099  200 dollars     Manhattan, Murray Hill  Large Cozy 1 BR Apartment In Midtown East  Entire home/apt        Chris  June 22 2019\n",
      "3        5178   79 dollars  Manhattan, Hell's Kitchen            Large Furnished Room Near B'way     private room     Shunichi  June 24 2019\n",
      "4        5238  150 dollars       Manhattan, Chinatown         Cute & Cozy Lower East Side 1 bdrm  Entire home/apt          Ben  June 09 2019\n"
     ]
    }
   ],
   "source": [
    "print(listings.head())"
   ]
  },
  {
   "cell_type": "markdown",
   "id": "c169aac0",
   "metadata": {},
   "source": [
    "- What are the dates of the earliest and most recent reviews? Store these values as two separate variables with your preferred names."
   ]
  },
  {
   "cell_type": "code",
   "execution_count": 6,
   "id": "25c5829b",
   "metadata": {},
   "outputs": [
    {
     "name": "stdout",
     "output_type": "stream",
     "text": [
      "First review: 2019-01-01 00:00:00\n",
      "Most recent review: 2019-07-09 00:00:00\n"
     ]
    }
   ],
   "source": [
    "listings['last_review_date'] = pd.to_datetime(listings['last_review'], format='%B %d %Y')\n",
    "first_reviewed = listings['last_review_date'].min()\n",
    "last_reviewed = listings['last_review_date'].max()\n",
    "\n",
    "print(\"First review:\", first_reviewed)\n",
    "print(\"Most recent review:\", last_reviewed)"
   ]
  },
  {
   "cell_type": "markdown",
   "id": "7b75d4b4",
   "metadata": {},
   "source": [
    "- How many of the listings are private rooms? Save this into any variable."
   ]
  },
  {
   "cell_type": "code",
   "execution_count": 7,
   "id": "8c285469",
   "metadata": {},
   "outputs": [
    {
     "name": "stdout",
     "output_type": "stream",
     "text": [
      "11356\n"
     ]
    }
   ],
   "source": [
    "listings['room_type'] = listings['room_type'].str.lower()\n",
    "private_room_count = listings[listings['room_type'] == 'private room'].shape[0]\n",
    "\n",
    "print(private_room_count)"
   ]
  },
  {
   "cell_type": "markdown",
   "id": "b9ac4097",
   "metadata": {},
   "source": [
    "- What is the average listing price? Round to the nearest two decimal places and save into a variable."
   ]
  },
  {
   "cell_type": "code",
   "execution_count": 9,
   "id": "f95c387f",
   "metadata": {},
   "outputs": [
    {
     "name": "stdout",
     "output_type": "stream",
     "text": [
      "141.78\n"
     ]
    }
   ],
   "source": [
    "listings['price_clean'] = listings['price'].str.replace(' dollars', '').astype(float)\n",
    "avg_price = listings['price_clean'].mean().round(2)\n",
    "\n",
    "print(avg_price)"
   ]
  },
  {
   "cell_type": "markdown",
   "id": "b4343511",
   "metadata": {},
   "source": [
    "- Combine the new variables into one DataFrame called `review_dates` with four columns in the following order: `first_reviewed`, `last_reviewed`, `nb_private_rooms`, and `avg_price`. The DataFrame should only contain one row of values."
   ]
  },
  {
   "cell_type": "code",
   "execution_count": 10,
   "id": "1fdc5784-479e-46cb-b05b-68439dcc94a7",
   "metadata": {
    "executionCancelledAt": null,
    "executionTime": 1423,
    "lastExecutedAt": 1710700825589,
    "lastScheduledRunId": null,
    "lastSuccessfullyExecutedCode": "# We've loaded your first package for you! You can add as many cells as you need.\nimport numpy as np\nimport pandas as pd\n\n# Begin coding here ...\nairbnb_price=pd.read_csv('data/airbnb_price.csv')\nairbnb_room_type=pd.read_excel('data/airbnb_room_type.xlsx')\nairbnb_last_review=pd.read_csv('data/airbnb_last_review.tsv',sep='\\t')\n\nlistings=pd.merge(airbnb_price,airbnb_room_type,on='listing_id')\nlistings=pd.merge(listings,airbnb_last_review,on='listing_id')\n\n# What are the dates of the earliest and most recent reviews? Store these values as two separate variables with your preferred names.\nlistings['last_review_date']=pd.to_datetime(listings['last_review'],format='%B %d %Y')\nfirst_reviewed=listings['last_review_date'].min()\nlast_reviewed=listings['last_review_date'].max()\n\nlistings.head()\n\n# How many of the listings are private rooms? Save this into any variable.\nlistings['room_type']=listings['room_type'].str.lower()\nprivate_room_count=listings[listings['room_type']=='private room'].shape[0]\n\n# What is the average listing price? Round to the nearest penny and save into a variable.\nlistings['price_clean']=listings['price'].str.replace('dollars','').astype(float)\navg_price=round(listings['price_clean'].mean(),2)\n\n# Combine the new variables into one DataFrame called review_dates with four columns in the following order: first_reviewed, last_reviewed, nb_private_rooms, and avg_price. The DataFrame should only contain one row of values.\nreview_dates=pd.DataFrame({'first_reviewed':[first_reviewed],\n                           'last_reviewed':[last_reviewed],\n                          'nb_private_rooms':[private_room_count],\n                           'avg_price':[avg_price]})\nprint(review_dates)",
    "outputsMetadata": {
     "0": {
      "height": 57,
      "type": "stream"
     }
    }
   },
   "outputs": [
    {
     "name": "stdout",
     "output_type": "stream",
     "text": [
      "  first_reviewed last_reviewed  nb_private_rooms  avg_price\n",
      "0     2019-01-01    2019-07-09             11356     141.78\n"
     ]
    }
   ],
   "source": [
    "# Combine the new variables into one DataFrame called review_dates with four columns in the following order: first_reviewed, last_reviewed, nb_private_rooms, and avg_price. The DataFrame should only contain one row of values.\n",
    "review_dates=pd.DataFrame({'first_reviewed':[first_reviewed],\n",
    "                        'last_reviewed':[last_reviewed],\n",
    "                        'nb_private_rooms':[private_room_count],\n",
    "                        'avg_price':[avg_price]})\n",
    "print(review_dates)"
   ]
  }
 ],
 "metadata": {
  "colab": {
   "name": "Welcome to DataCamp Workspaces.ipynb",
   "provenance": []
  },
  "kernelspec": {
   "display_name": "base",
   "language": "python",
   "name": "python3"
  },
  "language_info": {
   "codemirror_mode": {
    "name": "ipython",
    "version": 3
   },
   "file_extension": ".py",
   "mimetype": "text/x-python",
   "name": "python",
   "nbconvert_exporter": "python",
   "pygments_lexer": "ipython3",
   "version": "3.12.7"
  }
 },
 "nbformat": 4,
 "nbformat_minor": 5
}
