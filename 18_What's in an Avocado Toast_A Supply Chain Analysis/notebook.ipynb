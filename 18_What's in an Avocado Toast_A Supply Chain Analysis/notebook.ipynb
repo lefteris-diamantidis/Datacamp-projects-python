{
 "cells": [
  {
   "cell_type": "markdown",
   "id": "32ec92a0-c21a-45b8-ac63-9f9c698a1291",
   "metadata": {},
   "source": [
    "# What's in an Avocado Toast: A Supply Chain Analysis\n",
    "\n",
    "![](avocado_wallpaper.jpeg)\n",
    "\n",
    "You find yourself in London, crafting a delectable avocado toast, a dish that has risen dramatically in popularity on breakfast menus since the 2010s. This straightforward recipe requires just five ingredients: a ripe avocado, half a lemon, a generous pinch of salt flakes, two slices of sourdough bread, and a good drizzle of extra virgin olive oil. Most of these ingredients are now staples in grocery stores, and as you will find with this project, that is no small feat!\n",
    "\n",
    "In this project, you'll conduct a supply chain analysis of three ingredients used in avocado toast using the Open Food Facts database. This database contains extensive, openly-sourced information on various foods, including their origins. Through this analysis, you will gain an in-depth understanding of the complex supply chain involved in producing a single dish.\n",
    "\n",
    "Three pairs of files are provided in the data folder:\n",
    "- A CSV file for each ingredient, such as `avocado.csv`, with data about each food item and countries of origin.\n",
    "- A TXT file for each ingredient, such as `relevant_avocado_categories`, containing only the category tags of interest for that food.\n",
    "\n",
    "Here are some other key points about these files:\n",
    "- Some of the rows of data in each of the three CSV files do not contain relevant data for your investigation. In each dataset, you will need to filter out rows with irrelevant data, based on values in the `categories_tags` column. Examples of categories are fruits, vegetables, and fruit-based oils. Filter the DataFrame to include only rows where `categories_tags` contains one of the tags in the relevant categories for that ingredient.\n",
    "- Each row of data usually has multiple category tags in the `categories_tags` column.\n",
    "There is a column in each CSV file called `origins_tags`, which contains strings for the country of origin of each item.\n",
    "\n",
    "After completing this project, you'll be armed with a list of ingredients and their countries of origin and be well-positioned to launch into other analyses that explore how long, on average, these ingredients spend at sea.\n",
    "\n",
    "[Open Food Facts database](https://world.openfoodfacts.org/)"
   ]
  },
  {
   "cell_type": "markdown",
   "id": "6fac8960",
   "metadata": {},
   "source": [
    "Apply your data manipulation and analysis skills to investigate the supply chain of ingredients for making avocado toast in the U.K. Your task is to determine the following information:\n",
    "\n",
    "- The name of the most common country of origin for each of the three key ingredients: avocados, olive oil, and sourdough.\n",
    "Store the most common country of origin for each ingredient in the following variables: `top_avocado_origin`, `top_olive_oil_origin`, and `top_sourdough_origin`. \n",
    "Ensure that the country names contain only letters (A-Z) and spaces, with no hyphens or other characters.\n",
    "\n",
    "To focus your analysis, subset each of the DataFrames to include only these relevant columns: 'code', 'lc', 'productnameen', 'quantity', 'servingsize', 'packagingtags', 'brands', 'brandstags', 'categoriestags', 'labelstags', 'countries', 'countriestags', 'origins', 'origins_tags'.\n",
    "\n",
    "After completing this project, feel free to explore other questions using the food data!"
   ]
  },
  {
   "cell_type": "code",
   "execution_count": 11,
   "id": "0021adbb",
   "metadata": {},
   "outputs": [
    {
     "name": "stdout",
     "output_type": "stream",
     "text": [
      "            code  lc product_name_de product_name_el                    product_name_en product_name_es product_name_fi        product_name_fr product_name_id product_name_it  ... off:ecoscore_data.adjustments.packaging.non_recyclable_and_non_biodegradable_materials off:ecoscore_data.adjustments.production_system.value off:ecoscore_data.adjustments.threatened_species.value sources_fields:org-database-usda:available_date sources_fields:org-database-usda:fdc_category sources_fields:org-database-usda:fdc_data_source sources_fields:org-database-usda:fdc_id sources_fields:org-database-usda:modified_date sources_fields:org-database-usda:publication_date                                     data_sources\n",
      "0  0059749979702  fr             NaN             NaN                                NaN             NaN             NaN  Naturalia Avocado Oil             NaN             NaN  ...                                                1.0                                                                                    0.0                                                   NaN                                                 NaN                                           NaN                                              NaN                                     NaN                                            NaN                                               NaN                                 App - yuka, Apps\n",
      "1  7610095131409  en             NaN             NaN                                NaN             NaN             NaN     Avocado Bowl chips             NaN             NaN  ...                                                1.0                                                                                    0.0                                                   NaN                                                 NaN                                           NaN                                              NaN                                     NaN                                            NaN                                               NaN  App - Yuka, Apps, Producers, Producer - zweifel\n",
      "2  4005514005578  en             NaN             NaN  Gelbe Linse Avocado Brotaufstrich             NaN             NaN                    NaN             NaN             NaN  ...                                                1.0                                                                                   15.0                                                   NaN                                                 NaN                                           NaN                                              NaN                                     NaN                                            NaN                                               NaN   App - yuka, Apps, App - smoothie-openfoodfacts\n",
      "3  0879890002513  en             NaN             NaN           Avocado toast chili lime             NaN             NaN                    NaN             NaN             NaN  ...                                                1.0                                                                                    0.0                                                   NaN                                                 NaN                                           NaN                                              NaN                                     NaN                                            NaN                                               NaN                   App - Yuka, Apps, App - InFood\n",
      "4  0223086613685  en             NaN             NaN                            Avocado             NaN             NaN                    NaN             NaN             NaN  ...                                                1.0                                                                                    0.0                                                   NaN                                                 NaN                                           NaN                                              NaN                                     NaN                                            NaN                                               NaN                                 App - Yuka, Apps\n",
      "\n",
      "[5 rows x 184 columns]\n"
     ]
    }
   ],
   "source": [
    "import pandas as pd\n",
    "import warnings\n",
    "warnings.filterwarnings(\"ignore\")\n",
    "\n",
    "pd.set_option(\"display.width\", 1000)\n",
    "\n",
    "avocado = pd.read_csv(\"data/avocado.csv\", sep=\"\\t\")\n",
    "print(avocado.head())"
   ]
  },
  {
   "cell_type": "code",
   "execution_count": 5,
   "id": "5a4face3",
   "metadata": {},
   "outputs": [
    {
     "name": "stdout",
     "output_type": "stream",
     "text": [
      "               code  lc      product_name_en   quantity serving_size packaging_tags                        brands                   brands_tags                                    categories_tags                                        labels_tags       countries     countries_tags            origins       origins_tags                                    categories_list\n",
      "5     3662994002063  fr                  NaN   3 fruits          NaN            NaN  la compagnie des fruits mûrs  la-compagnie-des-fruits-murs  en:plant-based-foods-and-beverages,en:plant-ba...                                                NaN          France          en:france                NaN                NaN  [en:plant-based-foods-and-beverages, en:plant-...\n",
      "6     8437013031011  fr                  NaN       1 kg          NaN            NaN                           NaN                           NaN  en:plant-based-foods-and-beverages,en:plant-ba...                                                NaN          France          en:france                NaN                NaN  [en:plant-based-foods-and-beverages, en:plant-...\n",
      "14    4016249238155  de                  NaN       135g         100g    de:gläschen                         Allos                         allos  en:plant-based-foods-and-beverages,en:plant-ba...  en:organic,en:vegetarian,en:eu-organic,en:no-g...     Deutschland         en:germany  Europäische Union  en:european-union  [en:plant-based-foods-and-beverages, en:plant-...\n",
      "17    8718963381532  de                  NaN        NaN          NaN            NaN                           NaN                           NaN  en:plant-based-foods-and-beverages,en:plant-ba...                                                NaN     Deutschland         en:germany                NaN                NaN  [en:plant-based-foods-and-beverages, en:plant-...\n",
      "23    8436002746707  es                  NaN        NaN          NaN            NaN                           NaN                           NaN  en:plant-based-foods-and-beverages,en:plant-ba...                                                NaN          España           en:spain                NaN                NaN  [en:plant-based-foods-and-beverages, en:plant-...\n",
      "...             ...  ..                  ...        ...          ...            ...                           ...                           ...                                                ...                                                ...             ...                ...                ...                ...                                                ...\n",
      "1751  3700353611218  fr                  NaN        NaN          NaN            NaN                           NaN                           NaN  en:plant-based-foods-and-beverages,en:plant-ba...                                                NaN          France          en:france                NaN                NaN  [en:plant-based-foods-and-beverages, en:plant-...\n",
      "1756  4311527575718  de                  NaN        NaN          NaN   de:aufkleber                         Edeka                         edeka  en:plant-based-foods-and-beverages,en:plant-ba...                                                NaN     Deutschland         en:germany               Peru            en:peru  [en:plant-based-foods-and-beverages, en:plant-...\n",
      "1757  4311527571499  en                  NaN        NaN          NaN   en:aufkleber                         Edeka                         edeka  en:plant-based-foods-and-beverages,en:plant-ba...                                                NaN         Germany         en:germany                NaN                NaN  [en:plant-based-foods-and-beverages, en:plant-...\n",
      "1769  3439496511399  fr                  NaN        NaN          NaN            NaN                           NaN                           NaN  en:plant-based-foods-and-beverages,en:plant-ba...                                                NaN          France          en:france                NaN                NaN  [en:plant-based-foods-and-beverages, en:plant-...\n",
      "1771  5010251741985  en  Extra large avocado  1 avocado          NaN            NaN                     Morrisons                     morrisons  en:plant-based-foods-and-beverages,en:plant-ba...                                                NaN  United Kingdom  en:united-kingdom                NaN                NaN  [en:plant-based-foods-and-beverages, en:plant-...\n",
      "\n",
      "[182 rows x 15 columns]\n"
     ]
    }
   ],
   "source": [
    "subset_columns = [ 'code', 'lc', 'product_name_en', 'quantity', 'serving_size', 'packaging_tags', 'brands', 'brands_tags', 'categories_tags', 'labels_tags', 'countries', 'countries_tags', 'origins','origins_tags']\n",
    "avocado = avocado[subset_columns]\n",
    "\n",
    "# Gather relevant categories data for avocados\n",
    "with open(\"data/relevant_avocado_categories.txt\", \"r\") as file:\n",
    "    relevant_avocado_categories = file.read().splitlines()\n",
    "    file.close()\n",
    "\n",
    "avocado['categories_list'] = avocado['categories_tags'].str.split(',')\n",
    "avocado = avocado.dropna(subset = 'categories_list')\n",
    "\n",
    "# Filter a DataFrame based on a column of lists\n",
    "avocado = avocado[avocado['categories_list'].apply(lambda x: any([i for i in x if i in relevant_avocado_categories]))]\n",
    "\n",
    "print(avocado)"
   ]
  },
  {
   "cell_type": "code",
   "execution_count": null,
   "id": "e0bc7622",
   "metadata": {},
   "outputs": [
    {
     "data": {
      "text/plain": [
       "'peru'"
      ]
     },
     "execution_count": 6,
     "metadata": {},
     "output_type": "execute_result"
    }
   ],
   "source": [
    "### Where do most avocados come from?\n",
    "# Filter DataFrame for UK data\n",
    "avocados_uk = avocado[(avocado['countries']=='United Kingdom')]\n",
    "\n",
    "# Find most common country for avocado origin\n",
    "avocado_origin = (avocados_uk['origins_tags'].value_counts().index[0])\n",
    "avocado_origin = avocado_origin.lstrip(\"en:\")\n",
    "\n",
    "avocado_origin"
   ]
  },
  {
   "cell_type": "code",
   "execution_count": 7,
   "id": "6f78b4fe",
   "metadata": {},
   "outputs": [],
   "source": [
    "def read_and_filter_data(filename, relevant_categories):\n",
    "    df = pd.read_csv('data/' + filename, sep='\\t')\n",
    "\n",
    "    subset_columns = [ 'code', 'lc', 'product_name_en', 'quantity', 'serving_size', 'packaging_tags', 'brands', 'brands_tags', 'categories_tags', 'labels_tags', 'countries', 'countries_tags', 'origins','origins_tags']\n",
    "    df = df[subset_columns]\n",
    "\n",
    "    # Split tags into lists\n",
    "    df['categories_list'] = df['categories_tags'].str.split(',')\n",
    "\n",
    "    # Drop rows with null categories data\n",
    "    df = df.dropna(subset = 'categories_list')\n",
    "\n",
    "    # Filter data for relevant categories\n",
    "    df = df[df['categories_list'].apply(lambda x: any([i for i in x if i in relevant_categories]))]\n",
    "        \n",
    "    # Filter data for the UK\n",
    "    df_uk = df[(df['countries']=='United Kingdom')]\n",
    "\n",
    "    # Find top origin country string with the highest count\n",
    "    top_origin_string = (df_uk['origins_tags'].value_counts().index[0])\n",
    "\n",
    "    # Clean up top origin country string\n",
    "    top_origin_country = top_origin_string.lstrip(\"en:\")\n",
    "    top_origin_country = top_origin_country.replace('-', ' ')\n",
    "\n",
    "    print(f'**{filename[:-4]} origins**','\\n', top_origin_country, '\\n')\n",
    "\n",
    "    print (\"Top origin country: \", top_origin_country)\n",
    "    print (\"\\n\")\n",
    "\n",
    "    # End of function - return top origin country for this ingredient\n",
    "    return top_origin_country"
   ]
  },
  {
   "cell_type": "code",
   "execution_count": 8,
   "id": "86af67c7",
   "metadata": {},
   "outputs": [
    {
     "name": "stdout",
     "output_type": "stream",
     "text": [
      "**avocado origins** \n",
      " peru \n",
      "\n",
      "Top origin country:  peru\n",
      "\n",
      "\n",
      "peru\n"
     ]
    }
   ],
   "source": [
    "top_avocado_origin = read_and_filter_data('avocado.csv', relevant_avocado_categories)\n",
    "\n",
    "print(top_avocado_origin)"
   ]
  },
  {
   "cell_type": "code",
   "execution_count": 12,
   "id": "339a6352-aed5-4b9e-a48f-1b91a7db9adb",
   "metadata": {
    "executionCancelledAt": null,
    "executionTime": 539,
    "lastExecutedAt": 1726900453490,
    "lastExecutedByKernel": "b7cb3d81-1f20-450b-9b34-61415e31f08b",
    "lastScheduledRunId": null,
    "lastSuccessfullyExecutedCode": "import pandas as pd\n\n### Read in the avocado data\n\n# Read tab-delimited data\nimport pandas as pd\navocado = pd.read_csv('data/avocado.csv', sep='\\t')\n\n# Subset large DataFrame to include only relevant columns\nsubset_columns = [ 'code', 'lc', 'product_name_en', 'quantity', 'serving_size', 'packaging_tags', 'brands', 'brands_tags', 'categories_tags', 'labels_tags', 'countries', 'countries_tags', 'origins','origins_tags']\navocado = avocado[subset_columns]\n\n# Gather relevant categories data for avocados\nwith open(\"data/relevant_avocado_categories.txt\", \"r\") as file:\n    relevant_avocado_categories = file.read().splitlines()\n    file.close()\n    \n### Filter avocado data using relevant category tags\n\n# Turn a column of comma-separated tags into a column of lists\navocado['categories_list'] = avocado['categories_tags'].str.split(',')\n\n# Drop rows with null values in a particular column\navocado = avocado.dropna(subset = 'categories_list')\n\n# Filter a DataFrame based on a column of lists\navocado = avocado[avocado['categories_list'].apply(lambda x: any([i for i in x if i in relevant_avocado_categories]))]\n\n### Where do most avocados come from?\n\n# Filter DataFrame for UK data\navocados_uk = avocado[(avocado['countries']=='United Kingdom')]\n\n# Find most common country for avocado origin\navocado_origin = (avocados_uk['origins_tags'].value_counts().index[0])\navocado_origin = avocado_origin.lstrip(\"en:\")\n\n\n### Create a general function to read and filter data for a particular ingredient, \n###    and return the top origin country for that food item\n\ndef read_and_filter_data(filename, relevant_categories):\n  df = pd.read_csv('data/' + filename, sep='\\t')\n  \n  # Subset large DataFrame to include only relevant columns\n  subset_columns = [ 'code', 'lc', 'product_name_en', 'quantity', 'serving_size', 'packaging_tags', 'brands', 'brands_tags', 'categories_tags', 'labels_tags', 'countries', 'countries_tags', 'origins','origins_tags']\n  df = df[subset_columns]\n\n  # Split tags into lists\n  df['categories_list'] = df['categories_tags'].str.split(',')\n\n  # Drop rows with null categories data\n  df = df.dropna(subset = 'categories_list')\n\n  # Filter data for relevant categories\n  df = df[df['categories_list'].apply(lambda x: any([i for i in x if i in relevant_categories]))]\n    \n  # Filter data for the UK\n  df_uk = df[(df['countries']=='United Kingdom')]\n\n  # Find top origin country string with the highest count\n  top_origin_string = (df_uk['origins_tags'].value_counts().index[0])\n\n  # Clean up top origin country string\n  top_origin_country = top_origin_string.lstrip(\"en:\")\n  top_origin_country = top_origin_country.replace('-', ' ')\n\n  print(f'**{filename[:-4]} origins**','\\n', top_origin_country, '\\n')\n\n  print (\"Top origin country: \", top_origin_country)\n  print (\"\\n\")\n\n  # End of function - return top origin country for this ingredient\n  return top_origin_country\n\n\n# Analyze avocado origins again, this time by calling function\ntop_avocado_origin = read_and_filter_data('avocado.csv',relevant_avocado_categories)\n\n### Repeat process above with new function for the other 2 ingredients\n\n# Gather relevant categories data for olive oil\nwith open(\"data/relevant_olive_oil_categories.txt\", \"r\") as file:\n    relevant_olive_oil_categories = file.read().splitlines()\n    file.close()\n\n# Call user-defined function on olive_oil.csv\ntop_olive_oil_origin = read_and_filter_data('olive_oil.csv',relevant_olive_oil_categories)\n\n# Gather relevant categories data for sourdough\nwith open(\"data/relevant_sourdough_categories.txt\", \"r\") as file:\n    relevant_sourdough_categories = file.read().splitlines()\n    file.close()\n\n# Call user-defined function on sourdough.csv\ntop_sourdough_origin = read_and_filter_data('sourdough.csv',relevant_sourdough_categories)\n",
    "outputsMetadata": {
     "0": {
      "height": 395,
      "type": "stream"
     }
    }
   },
   "outputs": [
    {
     "name": "stdout",
     "output_type": "stream",
     "text": [
      "**olive_oil origins** \n",
      " greece \n",
      "\n",
      "Top origin country:  greece\n",
      "\n",
      "\n",
      "greece\n"
     ]
    }
   ],
   "source": [
    "with open(\"data/relevant_olive_oil_categories.txt\", \"r\") as file:\n",
    "    relevant_olive_oil_categories = file.read().splitlines()\n",
    "    file.close()\n",
    "\n",
    "top_olive_oil_origin = read_and_filter_data('olive_oil.csv',relevant_olive_oil_categories)\n",
    "print(top_olive_oil_origin)"
   ]
  },
  {
   "cell_type": "code",
   "execution_count": 10,
   "id": "fde9d823",
   "metadata": {},
   "outputs": [
    {
     "name": "stdout",
     "output_type": "stream",
     "text": [
      "**sourdough origins** \n",
      " united kingdom \n",
      "\n",
      "Top origin country:  united kingdom\n",
      "\n",
      "\n",
      "united kingdom\n"
     ]
    }
   ],
   "source": [
    "with open(\"data/relevant_sourdough_categories.txt\", \"r\") as file:\n",
    "    relevant_sourdough_categories = file.read().splitlines()\n",
    "    file.close()\n",
    "\n",
    "# Call user-defined function on sourdough.csv\n",
    "top_sourdough_origin = read_and_filter_data('sourdough.csv',relevant_sourdough_categories)\n",
    "print(top_sourdough_origin)"
   ]
  }
 ],
 "metadata": {
  "colab": {
   "name": "Welcome to DataCamp Workspaces.ipynb",
   "provenance": []
  },
  "kernelspec": {
   "display_name": "base",
   "language": "python",
   "name": "python3"
  },
  "language_info": {
   "codemirror_mode": {
    "name": "ipython",
    "version": 3
   },
   "file_extension": ".py",
   "mimetype": "text/x-python",
   "name": "python",
   "nbconvert_exporter": "python",
   "pygments_lexer": "ipython3",
   "version": "3.12.7"
  }
 },
 "nbformat": 4,
 "nbformat_minor": 5
}
