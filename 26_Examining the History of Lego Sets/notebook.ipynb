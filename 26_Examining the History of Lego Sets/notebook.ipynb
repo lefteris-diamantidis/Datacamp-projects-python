{
 "cells": [
  {
   "cell_type": "markdown",
   "id": "55bc86ed-e40e-483a-a1e8-c6a666ed8a84",
   "metadata": {},
   "source": [
    "![star_wars_unsplash](star_wars_unsplash.jpg)\n",
    "\n",
    "Lego is a household name across the world, supported by a diverse toy line, hit movies, and a series of successful video games. In this project, we are going to explore a key development in the history of Lego: the introduction of licensed sets such as Star Wars, Super Heroes, and Harry Potter.\n",
    "\n",
    "The introduction of its first licensed series, Star Wars, was a hit that sparked a series of collaborations with more themed sets. The partnerships team has asked you to perform an analysis of this success, and before diving into the analysis, they have suggested reading the descriptions of the two datasets to use, reported below.\n",
    "\n",
    "## The Data\n",
    "\n",
    "You have been provided with two datasets to use. A summary and preview are provided below.\n",
    "\n",
    "## lego_sets.csv\n",
    "\n",
    "| Column     | Description              |\n",
    "|------------|--------------------------|\n",
    "| `\"set_num\"` | A code that is unique to each set in the dataset. This column is critical, and a missing value indicates the set is a duplicate or invalid! |\n",
    "| `\"name\"` | The name of the set. |\n",
    "| `\"year\"` | The date the set was released. |\n",
    "| `\"num_parts\"` | The number of parts contained in the set. This column is not central to our analyses, so missing values are acceptable. |\n",
    "| `\"theme_name\"` | The name of the sub-theme of the set. |\n",
    "| `\"parent_theme\"` | The name of the parent theme the set belongs to. Matches the name column of the parent_themes csv file.\n",
    "|\n",
    "\n",
    "## parent_themes.csv\n",
    "\n",
    "| Column     | Description              |\n",
    "|------------|--------------------------|\n",
    "| `\"id\"` | A code that is unique to every theme. |\n",
    "| `\"name\"` | The name of the parent theme. |\n",
    "| `\"is_licensed\"` | A Boolean column specifying whether the theme is a licensed theme. |"
   ]
  },
  {
   "cell_type": "code",
   "execution_count": 3,
   "id": "a92fafb0-d54b-44a4-bad0-e7bb8c0df342",
   "metadata": {
    "executionCancelledAt": null,
    "executionTime": 3606,
    "lastExecutedAt": 1726904320112,
    "lastExecutedByKernel": "0319d881-0683-4c8c-b1b8-9a1b26753661",
    "lastScheduledRunId": null,
    "lastSuccessfullyExecutedCode": "# Import pandas, read and inspect the datasets\nimport pandas as pd\n\nlego_sets = pd.read_csv('data/lego_sets.csv')\nlego_sets.head()",
    "outputsMetadata": {
     "0": {
      "height": 218,
      "type": "dataFrame"
     },
     "1": {
      "height": 196,
      "type": "dataFrame"
     }
    }
   },
   "outputs": [
    {
     "name": "stdout",
     "output_type": "stream",
     "text": [
      "  set_num                        name  year  num_parts    theme_name parent_theme\n",
      "0    00-1             Weetabix Castle  1970      471.0        Castle     Legoland\n",
      "1  0011-2           Town Mini-Figures  1978        NaN  Supplemental         Town\n",
      "2  0011-3  Castle 2 for 1 Bonus Offer  1987        NaN  Lion Knights       Castle\n",
      "3  0012-1          Space Mini-Figures  1979       12.0  Supplemental        Space\n",
      "4  0013-1          Space Mini-Figures  1979       12.0  Supplemental        Space\n"
     ]
    }
   ],
   "source": [
    "# Import pandas, read and inspect the datasets\n",
    "import pandas as pd\n",
    "pd.set_option(\"display.width\", 1000)\n",
    "\n",
    "lego_sets = pd.read_csv('data/lego_sets.csv')\n",
    "print(lego_sets.head())"
   ]
  },
  {
   "cell_type": "code",
   "execution_count": 2,
   "id": "bae28977-3536-43e7-9ac2-7fcebc4b68ee",
   "metadata": {
    "executionCancelledAt": null,
    "executionTime": 54,
    "lastExecutedAt": 1726904320166,
    "lastExecutedByKernel": "0319d881-0683-4c8c-b1b8-9a1b26753661",
    "lastScheduledRunId": null,
    "lastSuccessfullyExecutedCode": "parent_themes = pd.read_csv('data/parent_themes.csv')\nparent_themes.head()",
    "outputsMetadata": {
     "0": {
      "height": 218,
      "type": "dataFrame"
     }
    }
   },
   "outputs": [
    {
     "name": "stdout",
     "output_type": "stream",
     "text": [
      "    id     name  is_licensed\n",
      "0    1  Technic        False\n",
      "1   22  Creator        False\n",
      "2   50     Town        False\n",
      "3  112   Racers        False\n",
      "4  126    Space        False\n"
     ]
    }
   ],
   "source": [
    "parent_themes = pd.read_csv('data/parent_themes.csv')\n",
    "print(parent_themes.head())"
   ]
  },
  {
   "cell_type": "markdown",
   "id": "b5edf485",
   "metadata": {},
   "source": [
    "The team responsible for the Star Wars partnership has asked for specific information in preparation for their meeting:\n",
    "\n",
    "- What percentage of all **licensed** sets ever released were Star Wars themed? Save your answer as a variable `the_force`, as an integer (e.g. 25)."
   ]
  },
  {
   "cell_type": "code",
   "execution_count": 4,
   "id": "59da9b39",
   "metadata": {},
   "outputs": [
    {
     "name": "stdout",
     "output_type": "stream",
     "text": [
      "7                    Star Wars\n",
      "12                Harry Potter\n",
      "16    Pirates of the Caribbean\n",
      "17               Indiana Jones\n",
      "18                        Cars\n",
      "Name: name, dtype: object\n"
     ]
    }
   ],
   "source": [
    "licensed_themes = parent_themes[parent_themes['is_licensed']]['name']\n",
    "print(licensed_themes.head())"
   ]
  },
  {
   "cell_type": "code",
   "execution_count": 5,
   "id": "5dde8a1d",
   "metadata": {},
   "outputs": [
    {
     "name": "stdout",
     "output_type": "stream",
     "text": [
      "    set_num                           name  year  num_parts               theme_name  parent_theme\n",
      "44  10018-1                     Darth Maul  2001     1868.0                Star Wars     Star Wars\n",
      "45  10019-1    Rebel Blockade Runner - UCS  2001        NaN  Star Wars Episode 4/5/6     Star Wars\n",
      "54  10026-1        Naboo Starfighter - UCS  2002        NaN      Star Wars Episode 1     Star Wars\n",
      "57  10030-1  Imperial Star Destroyer - UCS  2002     3115.0  Star Wars Episode 4/5/6     Star Wars\n",
      "95  10075-1         Spider-Man Action Pack  2002       25.0               Spider-Man  Super Heroes\n"
     ]
    }
   ],
   "source": [
    "licensed = lego_sets['parent_theme'].isin(licensed_themes)\n",
    "licensed_sets = lego_sets[licensed]\n",
    "print(licensed_sets.head())"
   ]
  },
  {
   "cell_type": "code",
   "execution_count": 8,
   "id": "3db2e1c3",
   "metadata": {},
   "outputs": [
    {
     "name": "stdout",
     "output_type": "stream",
     "text": [
      "The percentage of licensed sets that are Star Wars themed is 45%.\n"
     ]
    }
   ],
   "source": [
    "all_sets = len(licensed_sets)\n",
    "star_wars_sets = len(licensed_sets[licensed_sets['parent_theme'] == 'Star Wars'])\n",
    "the_force = int((star_wars_sets / all_sets) * 100)\n",
    "print(f'The percentage of licensed sets that are Star Wars themed is {the_force}%.')"
   ]
  },
  {
   "cell_type": "markdown",
   "id": "1a5da8e1",
   "metadata": {},
   "source": [
    "- In which year was the highest number of Star Wars sets released? Save your answer as a variable `new_era`, as an integer (e.g. 2012)."
   ]
  },
  {
   "cell_type": "code",
   "execution_count": 13,
   "id": "050535e3-612c-4eee-a1c8-413928ff13ca",
   "metadata": {
    "executionCancelledAt": null,
    "executionTime": 54,
    "lastExecutedAt": 1726904320220,
    "lastExecutedByKernel": "0319d881-0683-4c8c-b1b8-9a1b26753661",
    "lastScheduledRunId": null,
    "lastSuccessfullyExecutedCode": "# Start coding here\n# Use as many cells as you need\n# Import pandas and read in the DataFrame, and inspect it\n\n# Drop relevant missing rows\nlego_sets_clean = lego_sets.dropna(subset=['set_num', 'name', 'theme_name'])\nlego_sets_clean.head()\n\n# Get list of licensed sets\nlicensed_themes = parent_themes[parent_themes['is_licensed']]['name']\nlicensed_themes.head()\n\n# Subset for licensed sets\nlicensed = lego_sets_clean['parent_theme'].isin(licensed_themes)\nlicensed_sets = lego_sets_clean[licensed]\nlicensed_sets.head()\n\n# Calculate the percentage of licensed sets that are Star Wars themed\nall_sets = len(licensed_sets)\nstar_wars_sets = len(licensed_sets[licensed_sets['parent_theme'] == 'Star Wars'])\nratio = star_wars_sets / all_sets\nthe_force = int(ratio * 100)\nprint(f'The percentage of licensed sets that are Star Wars themed is {the_force}%.')\n\n# Create a pivot table of sets released by theme per year\nlicensed_pivot = licensed_sets.pivot_table(index='year', columns='parent_theme', values='set_num', aggfunc='count')\n\n# Find the year when the most Star Wars sets were released\nlicensed_pivot.sort_values(by=\"Star Wars\", ascending=False)[\"Star Wars\"]\nnew_era = 2016\nprint(f'The year when the most Star Wars sets were released was {new_era}.')"
   },
   "outputs": [
    {
     "name": "stdout",
     "output_type": "stream",
     "text": [
      "year\n",
      "2016    61.0\n",
      "2015    58.0\n",
      "2017    55.0\n",
      "2014    45.0\n",
      "2012    43.0\n",
      "2009    39.0\n",
      "2013    35.0\n",
      "2003    32.0\n",
      "2011    32.0\n",
      "2010    30.0\n",
      "2002    28.0\n",
      "2005    28.0\n",
      "2000    26.0\n",
      "2008    23.0\n",
      "2004    20.0\n",
      "2007    16.0\n",
      "2001    14.0\n",
      "1999    13.0\n",
      "2006    11.0\n",
      "Name: Star Wars, dtype: float64\n"
     ]
    }
   ],
   "source": [
    "licensed_pivot = licensed_sets.pivot_table(index='year', columns='parent_theme', values='set_num', aggfunc='count')\n",
    "\n",
    "licensed_pivot_sorted = licensed_pivot.sort_values(by=\"Star Wars\", ascending=False)[\"Star Wars\"]\n",
    "print(licensed_pivot_sorted)"
   ]
  },
  {
   "cell_type": "code",
   "execution_count": 22,
   "id": "4e876d71",
   "metadata": {},
   "outputs": [
    {
     "name": "stdout",
     "output_type": "stream",
     "text": [
      "The year when the most Star Wars sets were released was 2016.\n"
     ]
    }
   ],
   "source": [
    "new_era = licensed_pivot_sorted.index[0]\n",
    "print(f'The year when the most Star Wars sets were released was {new_era}.')"
   ]
  }
 ],
 "metadata": {
  "colab": {
   "name": "Welcome to DataCamp Workspaces.ipynb",
   "provenance": []
  },
  "editor": "DataLab",
  "kernelspec": {
   "display_name": "base",
   "language": "python",
   "name": "python3"
  },
  "language_info": {
   "codemirror_mode": {
    "name": "ipython",
    "version": 3
   },
   "file_extension": ".py",
   "mimetype": "text/x-python",
   "name": "python",
   "nbconvert_exporter": "python",
   "pygments_lexer": "ipython3",
   "version": "3.12.7"
  }
 },
 "nbformat": 4,
 "nbformat_minor": 5
}
