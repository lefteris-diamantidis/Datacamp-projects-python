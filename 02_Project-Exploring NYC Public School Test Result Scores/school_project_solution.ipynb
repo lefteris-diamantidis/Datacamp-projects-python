{
 "cells": [
  {
   "cell_type": "markdown",
   "id": "fe0ea788-58dd-459e-8976-fafdb5c05c6d",
   "metadata": {},
   "source": [
    "![New York City schoolbus](schoolbus.jpg)\n",
    "\n",
    "Photo by [Jannis Lucas](https://unsplash.com/@jannis_lucas) on [Unsplash](https://unsplash.com).\n",
    "<br>\n",
    "\n",
    "Every year, American high school students take SATs, which are standardized tests intended to measure literacy, numeracy, and writing skills. There are three sections - reading, math, and writing, each with a **maximum score of 800 points**. These tests are extremely important for students and colleges, as they play a pivotal role in the admissions process.\n",
    "\n",
    "Analyzing the performance of schools is important for a variety of stakeholders, including policy and education professionals, researchers, government, and even parents considering which school their children should attend. \n",
    "\n",
    "You have been provided with a dataset called `schools.csv`, which is previewed below.\n",
    "\n",
    "You have been tasked with answering three key questions about New York City (NYC) public school SAT performance."
   ]
  },
  {
   "cell_type": "markdown",
   "id": "07aa9b57",
   "metadata": {},
   "source": [
    "# Analysis"
   ]
  },
  {
   "cell_type": "code",
   "execution_count": 65,
   "id": "09287136",
   "metadata": {},
   "outputs": [],
   "source": [
    "import pandas as pd\n",
    "import numpy as np\n",
    "import matplotlib.pyplot as plt\n",
    "import seaborn as sns\n",
    "import warnings\n",
    "warnings.filterwarnings(\"ignore\")\n",
    "\n",
    "pd.set_option('display.max_columns', None)  # Show all columns\n",
    "pd.set_option('display.width', 1000)        # Prevent line-wrapping"
   ]
  },
  {
   "cell_type": "code",
   "execution_count": 66,
   "id": "48e42530",
   "metadata": {},
   "outputs": [],
   "source": [
    "df = pd.read_csv('schools.csv')"
   ]
  },
  {
   "cell_type": "code",
   "execution_count": 67,
   "id": "9b8c71dd",
   "metadata": {},
   "outputs": [
    {
     "name": "stdout",
     "output_type": "stream",
     "text": [
      "                                         school_name    borough building_code  average_math  average_reading  average_writing  percent_tested\n",
      "0  New Explorations into Science, Technology and ...  Manhattan          M022           657              601              601             NaN\n",
      "1                               Essex Street Academy  Manhattan          M445           395              411              387            78.9\n",
      "2                       Lower Manhattan Arts Academy  Manhattan          M445           418              428              415            65.1\n",
      "3    High School for Dual Language and Asian Studies  Manhattan          M445           613              453              463            95.9\n",
      "4      Henry Street School for International Studies  Manhattan          M056           410              406              381            59.7\n"
     ]
    }
   ],
   "source": [
    "print(df.head())"
   ]
  },
  {
   "cell_type": "code",
   "execution_count": 68,
   "id": "5f38b22d",
   "metadata": {},
   "outputs": [
    {
     "name": "stdout",
     "output_type": "stream",
     "text": [
      "<class 'pandas.core.frame.DataFrame'>\n",
      "RangeIndex: 375 entries, 0 to 374\n",
      "Data columns (total 7 columns):\n",
      " #   Column           Non-Null Count  Dtype  \n",
      "---  ------           --------------  -----  \n",
      " 0   school_name      375 non-null    object \n",
      " 1   borough          375 non-null    object \n",
      " 2   building_code    375 non-null    object \n",
      " 3   average_math     375 non-null    int64  \n",
      " 4   average_reading  375 non-null    int64  \n",
      " 5   average_writing  375 non-null    int64  \n",
      " 6   percent_tested   355 non-null    float64\n",
      "dtypes: float64(1), int64(3), object(3)\n",
      "memory usage: 20.6+ KB\n"
     ]
    }
   ],
   "source": [
    "df.info()"
   ]
  },
  {
   "cell_type": "markdown",
   "id": "00ec69cb",
   "metadata": {},
   "source": [
    "# Q1"
   ]
  },
  {
   "cell_type": "markdown",
   "id": "9bb47018",
   "metadata": {},
   "source": [
    "Which NYC schools have the best math results?\n",
    "- The best math results are at least 80% of the *maximum possible score of 800* for math.\n",
    "- Save your results in a pandas DataFrame called best_math_schools, including \"school_name\" and \"average_math\" columns, sorted by \"average_math\" in descending order."
   ]
  },
  {
   "cell_type": "code",
   "execution_count": 69,
   "id": "1a0856de",
   "metadata": {},
   "outputs": [
    {
     "name": "stdout",
     "output_type": "stream",
     "text": [
      "Max math score: 754 and 80% of max: 603.2\n"
     ]
    }
   ],
   "source": [
    "max_math = df['average_math'].max() \n",
    "print(\"Max math score:\", max_math, \"and 80% of max:\", 0.8 * max_math)\n",
    "best_math_schools = df[df['average_math'] > 0.8 * max_math]"
   ]
  },
  {
   "cell_type": "code",
   "execution_count": 70,
   "id": "db8baa06",
   "metadata": {},
   "outputs": [],
   "source": [
    "best_math_schools = best_math_schools[['school_name', 'average_math']]\n",
    "best_math_schools = best_math_schools.sort_values(by='average_math', ascending=False)"
   ]
  },
  {
   "cell_type": "code",
   "execution_count": 71,
   "id": "0682fd76",
   "metadata": {},
   "outputs": [
    {
     "name": "stdout",
     "output_type": "stream",
     "text": [
      "                                           school_name  average_math\n",
      "88                              Stuyvesant High School           754\n",
      "170                       Bronx High School of Science           714\n",
      "93                 Staten Island Technical High School           711\n",
      "365  Queens High School for the Sciences at York Co...           701\n",
      "68   High School for Mathematics, Science, and Engi...           683\n"
     ]
    }
   ],
   "source": [
    "print(best_math_schools.head())"
   ]
  },
  {
   "cell_type": "markdown",
   "id": "b831ae78",
   "metadata": {},
   "source": [
    "# Q2"
   ]
  },
  {
   "cell_type": "markdown",
   "id": "9e7178d5",
   "metadata": {},
   "source": [
    "What are the top 10 performing schools based on the combined SAT scores?\n",
    "- Save your results as a pandas DataFrame called top_10_schools containing the \"school_name\" and a new column named \"total_SAT\", with results ordered by \"total_SAT\" in descending order (\"total_SAT\" being the sum of math, reading, and writing scores)."
   ]
  },
  {
   "cell_type": "code",
   "execution_count": 72,
   "id": "5248c771",
   "metadata": {},
   "outputs": [
    {
     "name": "stdout",
     "output_type": "stream",
     "text": [
      "                                         school_name    borough building_code  average_math  average_reading  average_writing  percent_tested\n",
      "0  New Explorations into Science, Technology and ...  Manhattan          M022           657              601              601             NaN\n",
      "1                               Essex Street Academy  Manhattan          M445           395              411              387            78.9\n",
      "2                       Lower Manhattan Arts Academy  Manhattan          M445           418              428              415            65.1\n",
      "3    High School for Dual Language and Asian Studies  Manhattan          M445           613              453              463            95.9\n",
      "4      Henry Street School for International Studies  Manhattan          M056           410              406              381            59.7\n"
     ]
    }
   ],
   "source": [
    "print(df.head())"
   ]
  },
  {
   "cell_type": "code",
   "execution_count": 73,
   "id": "fe5b3f62",
   "metadata": {},
   "outputs": [
    {
     "name": "stdout",
     "output_type": "stream",
     "text": [
      "                                           school_name  total_sat\n",
      "88                              Stuyvesant High School       2144\n",
      "170                       Bronx High School of Science       2041\n",
      "93                 Staten Island Technical High School       2041\n",
      "174  High School of American Studies at Lehman College       2013\n",
      "333                        Townsend Harris High School       1981\n",
      "365  Queens High School for the Sciences at York Co...       1947\n",
      "5                       Bard High School Early College       1914\n",
      "280                     Brooklyn Technical High School       1896\n",
      "45                       Eleanor Roosevelt High School       1889\n",
      "68   High School for Mathematics, Science, and Engi...       1889\n"
     ]
    }
   ],
   "source": [
    "df_sat = df.copy()\n",
    "\n",
    "df_sat[\"total_sat\"] = df_sat['average_math'] + df_sat['average_reading'] + df_sat['average_writing']\n",
    "\n",
    "df_sat_only = df_sat[['school_name', 'total_sat']]\n",
    "df_sat_only = df_sat_only.sort_values(by='total_sat', ascending=False)\n",
    "print(df_sat_only.head(10))"
   ]
  },
  {
   "cell_type": "markdown",
   "id": "af5bbab2",
   "metadata": {},
   "source": [
    "# Q3"
   ]
  },
  {
   "cell_type": "markdown",
   "id": "488f9694",
   "metadata": {},
   "source": [
    "Which single borough has the largest standard deviation in the combined SAT score?\n",
    "- Save your results as a pandas DataFrame called largest_std_dev.\n",
    "- The DataFrame should contain one row, with:\n",
    "    - \"borough\" - the name of the NYC borough with the largest standard deviation of \"total_SAT\".\n",
    "    -   \"num_schools\" - the number of schools in the borough.\n",
    "    -   \"average_SAT\" - the mean of \"total_SAT\".\n",
    "    -   \"std_SAT\" - the standard deviation of \"total_SAT\".\n",
    "    -   Round all numeric values to two decimal places."
   ]
  },
  {
   "cell_type": "code",
   "execution_count": 74,
   "id": "c96de432",
   "metadata": {},
   "outputs": [
    {
     "name": "stdout",
     "output_type": "stream",
     "text": [
      "                                         school_name    borough building_code  average_math  average_reading  average_writing  percent_tested  total_sat\n",
      "0  New Explorations into Science, Technology and ...  Manhattan          M022           657              601              601             NaN       1859\n",
      "1                               Essex Street Academy  Manhattan          M445           395              411              387            78.9       1193\n",
      "2                       Lower Manhattan Arts Academy  Manhattan          M445           418              428              415            65.1       1261\n",
      "3    High School for Dual Language and Asian Studies  Manhattan          M445           613              453              463            95.9       1529\n",
      "4      Henry Street School for International Studies  Manhattan          M056           410              406              381            59.7       1197\n"
     ]
    }
   ],
   "source": [
    "print(df_sat.head())"
   ]
  },
  {
   "cell_type": "code",
   "execution_count": null,
   "id": "f256559d",
   "metadata": {},
   "outputs": [],
   "source": [
    "borough_stats = df_sat.groupby('borough')['total_sat'].agg(['count', 'mean', 'std']).round(2)"
   ]
  },
  {
   "cell_type": "code",
   "execution_count": 87,
   "id": "7ed30466",
   "metadata": {},
   "outputs": [],
   "source": [
    "borough_stats.columns = ['num_schools', 'average_SAT', 'std_SAT']\n",
    "\n",
    "# Find the borough with the largest standard deviation in SAT scores\n",
    "largest_std_dev = borough_stats[borough_stats['std_SAT'] == borough_stats['std_SAT'].max()]"
   ]
  },
  {
   "cell_type": "code",
   "execution_count": 90,
   "id": "64b01e4c",
   "metadata": {},
   "outputs": [
    {
     "name": "stdout",
     "output_type": "stream",
     "text": [
      "           num_schools  average_SAT  std_SAT\n",
      "borough                                     \n",
      "Manhattan           89      1340.13   230.29\n"
     ]
    }
   ],
   "source": [
    "print(largest_std_dev)"
   ]
  }
 ],
 "metadata": {
  "editor": "DataCamp Workspace",
  "kernelspec": {
   "display_name": "base",
   "language": "python",
   "name": "python3"
  },
  "language_info": {
   "codemirror_mode": {
    "name": "ipython",
    "version": 3
   },
   "file_extension": ".py",
   "mimetype": "text/x-python",
   "name": "python",
   "nbconvert_exporter": "python",
   "pygments_lexer": "ipython3",
   "version": "3.12.7"
  }
 },
 "nbformat": 4,
 "nbformat_minor": 5
}
