{
 "cells": [
  {
   "cell_type": "markdown",
   "id": "b6bb71db-d177-4226-a70e-f1340d7c5a3a",
   "metadata": {},
   "source": [
    "## Help your hedge fund manager!\n",
    "\n",
    "You have two datasets at your disposal: `Balance_Sheet.xlsx` and `Income_Statement.xlsx`. Both these datasets have three columns in common:\n",
    "- `\"Company\"`: The company's ticker name.\n",
    "- `\"comp_type\"` The type of industry the company in question belongs to. It is either `\"tech\"` for companies in the technology industry, `\"fmcg\"` for companies in the fast-moving consumer goods industry, and `\"real_est\"` for companies in the real estate industry. \n",
    "- `\"Year\"`: The year the company's information is from.\n",
    "\n",
    "The rest of the columns in the datasets contain information from the financial statement of the `\"Company\"` in question. Note that the columns in `Balance_Sheet.xlsx` only contain financial information from the balance sheet. Similarly, the columns in `Income_Statement.xlsx` only contain financial information from the income statement. The columns are named accordingly. For instance, the column `\"Total Liab\"` from `Balance_Sheet.xlsx` is the total liability."
   ]
  },
  {
   "cell_type": "markdown",
   "id": "f95fb431",
   "metadata": {},
   "source": [
    "To successfully complete the project for your manager, please compute two ratios:\n",
    "\n",
    "- A debt-to-equity ratio or an equity multiplier ratio. Save this ratio in a column named `\"leverage_ratio\"` in a DataFrame called `df_ratios`.\n",
    "\n",
    "- A gross margin ratio or an operating margin ratio. Save this ratio in a column named `\"profitability_ratio\"`, in a DataFrame called `df_ratios`."
   ]
  },
  {
   "cell_type": "code",
   "execution_count": 13,
   "id": "55d2a777-02c9-4448-8ecf-bff17c2e2aa1",
   "metadata": {
    "executionCancelledAt": null,
    "executionTime": 65,
    "lastExecutedAt": 1746881674164,
    "lastExecutedByKernel": "fd1ed060-b943-4a58-85c0-b7f1ba62668a",
    "lastScheduledRunId": null,
    "lastSuccessfullyExecutedCode": "import numpy as np\nimport pandas as pd\nimport seaborn as sns\n\ndf_balance_sheet = pd.read_excel(\"data/Balance_Sheet.xlsx\")\ndf_income_statement = pd.read_excel(\"data/Income_Statement.xlsx\")",
    "outputsMetadata": {
     "0": {
      "height": 211,
      "type": "stream"
     }
    }
   },
   "outputs": [],
   "source": [
    "import numpy as np\n",
    "import pandas as pd\n",
    "import seaborn as sns\n",
    "\n",
    "pd.set_option(\"display.width\", 1000)\n",
    "\n",
    "df_balance_sheet = pd.read_excel(\"data/Balance_Sheet.xlsx\")\n",
    "df_income_statement = pd.read_excel(\"data/Income_Statement.xlsx\")"
   ]
  },
  {
   "cell_type": "code",
   "execution_count": 10,
   "id": "f01f3018-c360-40b9-9998-7eb4d8c3ee8b",
   "metadata": {
    "executionCancelledAt": null,
    "executionTime": 49,
    "lastExecutedAt": 1746881674214,
    "lastExecutedByKernel": "fd1ed060-b943-4a58-85c0-b7f1ba62668a",
    "lastScheduledRunId": null,
    "lastSuccessfullyExecutedCode": "df_balance_sheet.columns",
    "outputsMetadata": {
     "0": {
      "height": 500,
      "tableState": {},
      "type": "dataFrame"
     }
    }
   },
   "outputs": [
    {
     "name": "stdout",
     "output_type": "stream",
     "text": [
      "Index(['Unnamed: 0', 'Year', 'comp_type', 'company', 'Accounts Payable',\n",
      "       'Cash', 'Inventory', 'Property Plant Equipment',\n",
      "       'Short Term Investments', 'Total Assets', 'Total Current Assets',\n",
      "       'Total Current Liabilities', 'Total Liab', 'Total Stockholder Equity'],\n",
      "      dtype='object') \n",
      "\n",
      "Index(['Unnamed: 0', 'Year', 'comp_type', 'company', 'Cost Of Goods Sold',\n",
      "       'Gross Profit', 'Operating Income', 'Total Operating Expenses',\n",
      "       'Total Revenue'],\n",
      "      dtype='object')\n"
     ]
    }
   ],
   "source": [
    "print(df_balance_sheet.columns, \"\\n\")\n",
    "print(df_income_statement.columns)"
   ]
  },
  {
   "cell_type": "code",
   "execution_count": 14,
   "id": "3f831507-7a25-4cf5-81e0-b6b23ec5406f",
   "metadata": {
    "executionCancelledAt": null,
    "executionTime": 56,
    "lastExecutedAt": 1746881674318,
    "lastExecutedByKernel": "fd1ed060-b943-4a58-85c0-b7f1ba62668a",
    "lastScheduledRunId": null,
    "lastSuccessfullyExecutedCode": "df_ratios = pd.merge(df_income_statement, df_balance_sheet, on=[\"comp_type\", \"company\", \"Year\"])\ndf_ratios.head()",
    "outputsMetadata": {
     "0": {
      "height": 500,
      "tableState": {},
      "type": "dataFrame"
     }
    }
   },
   "outputs": [
    {
     "name": "stdout",
     "output_type": "stream",
     "text": [
      "   Unnamed: 0_x  Year comp_type company  Cost Of Goods Sold  Gross Profit  Operating Income  Total Operating Expenses  Total Revenue  Unnamed: 0_y  Accounts Payable         Cash     Inventory  Property Plant Equipment  Short Term Investments  Total Assets  Total Current Assets  Total Current Liabilities    Total Liab  Total Stockholder Equity\n",
      "0             0  2019      tech    AAPL        161782000000   98392000000       63930000000              196244000000   260174000000             0       46236000000  48844000000  4.106000e+09               37378000000            5.171300e+10  338516000000          162819000000               105718000000  248028000000               90488000000\n",
      "1             1  2020      tech    AAPL        169559000000  104956000000       66288000000              208227000000   274515000000             1       42296000000  38016000000  4.061000e+09               45336000000            5.292700e+10  323888000000          143713000000               105392000000  258549000000               65339000000\n",
      "2             2  2021      tech    AAPL        212981000000  152836000000      108949000000              256868000000   365817000000             2       54763000000  34940000000  6.580000e+09               49527000000            2.769900e+10  351002000000          134836000000               125481000000  287912000000               63090000000\n",
      "3             3  2022      tech    AAPL        223546000000  170782000000      119437000000              274891000000   394328000000             3       64115000000  23646000000  4.946000e+09               84234000000            2.465800e+10  352755000000          135405000000               153982000000  302083000000               50672000000\n",
      "4             4  2019      tech    MSFT         42910000000   82933000000       42959000000               82884000000   125843000000             4        9382000000  11356000000  2.063000e+09               43856000000            1.224760e+11  286556000000          175552000000                69420000000  184226000000              102330000000\n"
     ]
    }
   ],
   "source": [
    "df_ratios = pd.merge(df_income_statement, df_balance_sheet, on=[\"comp_type\", \"company\", \"Year\"])\n",
    "\n",
    "print(df_ratios.head())"
   ]
  },
  {
   "cell_type": "code",
   "execution_count": 15,
   "id": "fcd33801-c022-4b90-96c9-cfd3902f0134",
   "metadata": {
    "executionCancelledAt": null,
    "executionTime": 51,
    "lastExecutedAt": 1746881674370,
    "lastExecutedByKernel": "fd1ed060-b943-4a58-85c0-b7f1ba62668a",
    "lastScheduledRunId": null,
    "lastSuccessfullyExecutedCode": "df_ratios[\"leverage_ratio\"] = df_ratios[\"Total Liab\"] / df_ratios[\"Total Stockholder Equity\"]\ndf_ratios[\"profitability_ratio\"] = (df_ratios[\"Total Revenue\"] - df_ratios[\"Total Operating Expenses\"])/df_ratios[\"Total Revenue\"]"
   },
   "outputs": [],
   "source": [
    "df_ratios[\"leverage_ratio\"] = df_ratios[\"Total Liab\"] / df_ratios[\"Total Stockholder Equity\"]\n",
    "df_ratios[\"profitability_ratio\"] = (df_ratios[\"Total Revenue\"] - df_ratios[\"Total Operating Expenses\"])/df_ratios[\"Total Revenue\"]"
   ]
  },
  {
   "cell_type": "markdown",
   "id": "677be1d1",
   "metadata": {},
   "source": [
    "The datasets provided to you have information on the type of industry a company belongs to in a column called comp_type. Your manager also needs you to answer these three questions:\n",
    "\n",
    "- Which company type (`comp_type`) has the lowest profitability ratio? Save this `comp_type` value as a string in a variable called `lowest_profitability`."
   ]
  },
  {
   "cell_type": "code",
   "execution_count": 16,
   "id": "5c082091-262c-457a-9894-93bbaca314fe",
   "metadata": {
    "executionCancelledAt": null,
    "executionTime": 61,
    "lastExecutedAt": 1746881674431,
    "lastExecutedByKernel": "fd1ed060-b943-4a58-85c0-b7f1ba62668a",
    "lastScheduledRunId": null,
    "lastSuccessfullyExecutedCode": "df_lowest = df_ratios.pivot_table(index=\"comp_type\", values=\"profitability_ratio\")\ndf_lowest = df_lowest.sort_values(by=\"profitability_ratio\").reset_index()\nlowest_profitability = str(df_lowest.head(1)[\"comp_type\"][0])\nprint(lowest_profitability)\nprint(type(lowest_profitability))",
    "outputsMetadata": {
     "0": {
      "height": 50,
      "tableState": {
       "customFilter": {
        "const": {
         "type": "boolean",
         "valid": true,
         "value": true
        },
        "id": "9f50e487-025f-4c12-b3a1-8d17f1bffc62",
        "nodeType": "const"
       }
      },
      "type": "dataFrame"
     }
    }
   },
   "outputs": [
    {
     "name": "stdout",
     "output_type": "stream",
     "text": [
      "fmcg\n",
      "<class 'str'>\n"
     ]
    }
   ],
   "source": [
    "df_lowest = df_ratios.pivot_table(index=\"comp_type\", values=\"profitability_ratio\")\n",
    "df_lowest = df_lowest.sort_values(by=\"profitability_ratio\").reset_index()\n",
    "lowest_profitability = str(df_lowest.head(1)[\"comp_type\"][0])\n",
    "\n",
    "print(lowest_profitability)\n",
    "print(type(lowest_profitability))"
   ]
  },
  {
   "cell_type": "markdown",
   "id": "74ab8100",
   "metadata": {},
   "source": [
    "- Which company type has the highest leverage ratio? Save this `comp_type` value as a string in a variable called `highest_leverage`."
   ]
  },
  {
   "cell_type": "code",
   "execution_count": 17,
   "id": "5ca443ce-8c81-421f-9849-ac1b8978e58d",
   "metadata": {
    "executionCancelledAt": null,
    "executionTime": 54,
    "lastExecutedAt": 1746881674486,
    "lastExecutedByKernel": "fd1ed060-b943-4a58-85c0-b7f1ba62668a",
    "lastScheduledRunId": null,
    "lastSuccessfullyExecutedCode": "df_highest = df_ratios.pivot_table(index=\"comp_type\", values=\"leverage_ratio\")\ndf_highest = df_highest.sort_values(by=\"leverage_ratio\", ascending=False).reset_index()\nhighest_leverage = str(df_highest.head(1)[\"comp_type\"][0])\nprint(highest_leverage)\nprint(type(highest_leverage))",
    "outputsMetadata": {
     "0": {
      "height": 500,
      "tableState": {},
      "type": "dataFrame"
     }
    }
   },
   "outputs": [
    {
     "name": "stdout",
     "output_type": "stream",
     "text": [
      "real_est\n",
      "<class 'str'>\n"
     ]
    }
   ],
   "source": [
    "df_highest = df_ratios.pivot_table(index=\"comp_type\", values=\"leverage_ratio\")\n",
    "df_highest = df_highest.sort_values(by=\"leverage_ratio\", ascending=False).reset_index()\n",
    "highest_leverage = str(df_highest.head(1)[\"comp_type\"][0])\n",
    "print(highest_leverage)\n",
    "print(type(highest_leverage))"
   ]
  },
  {
   "cell_type": "markdown",
   "id": "afc29003",
   "metadata": {},
   "source": [
    "- What is the relationship between leverage and profitability in the real estate companies represented in this data? Is it \"positive,\" \"negative,\" or \"no relationship?\" Save one of these three strings in a variable called `relationship`."
   ]
  },
  {
   "cell_type": "code",
   "execution_count": 18,
   "id": "3ebf56dc-9a2a-4c99-b58b-85ac9562dbf1",
   "metadata": {
    "executionCancelledAt": null,
    "executionTime": 61,
    "lastExecutedAt": 1746881674547,
    "lastExecutedByKernel": "fd1ed060-b943-4a58-85c0-b7f1ba62668a",
    "lastScheduledRunId": null,
    "lastSuccessfullyExecutedCode": "df_real_est = df_ratios.loc[df_ratios[\"comp_type\"]==\"real_est\"]\nprint(df_real_est.head())",
    "outputsMetadata": {
     "0": {
      "height": 500,
      "tableState": {},
      "type": "dataFrame"
     }
    }
   },
   "outputs": [
    {
     "name": "stdout",
     "output_type": "stream",
     "text": [
      "    Unnamed: 0_x  Year comp_type company  Cost Of Goods Sold  Gross Profit  Operating Income  Total Operating Expenses  Total Revenue  Unnamed: 0_y  ...     Inventory  Property Plant Equipment  Short Term Investments  Total Assets  Total Current Assets  Total Current Liabilities    Total Liab  Total Stockholder Equity  leverage_ratio  profitability_ratio\n",
      "20            20  2018  real_est     BAM         45519000000   12970000000        9764000000               48725000000    58489000000            20  ...  6.989000e+09              151936000000                     NaN  256281000000           35980000000                19284000000  159131000000               25647000000        6.204663             0.166937\n",
      "21            21  2019  real_est     BAM         52728000000   18881000000       13907000000               57702000000    71609000000            21  ...  1.027200e+10              186059000000                     NaN  323969000000           40771000000                27752000000  207123000000               30868000000        6.709959             0.194207\n",
      "22            22  2020  real_est     BAM         53177000000    9496000000        9395000000               53278000000    62673000000            22  ...  1.036000e+10              196876000000                     NaN  343696000000           47749000000                34004000000  221054000000               31693000000        6.974852             0.149905\n",
      "23            23  2021  real_est     BAM         64000000000   14182000000       14066000000               64116000000    78182000000            23  ...  1.141500e+10              216354000000                     NaN  391003000000           60664000000                48353000000  256262000000               42210000000        6.071121             0.179914\n",
      "24            24  2018  real_est     AMT          2177800000    5262300000        2742300000                4697800000     7440100000            24  ...           NaN               11247100000                     NaN   33010400000            2385100000                 4689900000   26106000000                5336100000        4.892337             0.368584\n",
      "\n",
      "[5 rows x 22 columns]\n"
     ]
    }
   ],
   "source": [
    "df_real_est = df_ratios.loc[df_ratios[\"comp_type\"]==\"real_est\"]\n",
    "print(df_real_est.head())"
   ]
  },
  {
   "cell_type": "code",
   "execution_count": 19,
   "id": "aee8df86-1bc2-49bb-986e-8aa9386a0462",
   "metadata": {
    "executionCancelledAt": null,
    "executionTime": 308,
    "lastExecutedAt": 1746881674855,
    "lastExecutedByKernel": "fd1ed060-b943-4a58-85c0-b7f1ba62668a",
    "lastScheduledRunId": null,
    "lastSuccessfullyExecutedCode": "sns.regplot(data=df_real_est, x=\"leverage_ratio\", y=\"profitability_ratio\")"
   },
   "outputs": [
    {
     "data": {
      "text/plain": [
       "<Axes: xlabel='leverage_ratio', ylabel='profitability_ratio'>"
      ]
     },
     "execution_count": 19,
     "metadata": {},
     "output_type": "execute_result"
    },
    {
     "data": {
      "image/png": "[encoded data removed]",
      "text/plain": [
       "<Figure size 640x480 with 1 Axes>"
      ]
     },
     "metadata": {},
     "output_type": "display_data"
    }
   ],
   "source": [
    "sns.regplot(data=df_real_est, x=\"leverage_ratio\", y=\"profitability_ratio\")"
   ]
  },
  {
   "cell_type": "code",
   "execution_count": 20,
   "id": "a1861855-7b51-480e-8402-079fda86f433",
   "metadata": {
    "executionCancelledAt": null,
    "executionTime": 47,
    "lastExecutedAt": 1746881674902,
    "lastExecutedByKernel": "fd1ed060-b943-4a58-85c0-b7f1ba62668a",
    "lastScheduledRunId": null,
    "lastSuccessfullyExecutedCode": "relationship = \"positive\""
   },
   "outputs": [
    {
     "name": "stdout",
     "output_type": "stream",
     "text": [
      "positive\n"
     ]
    }
   ],
   "source": [
    "relationship = \"positive\"\n",
    "print(relationship)"
   ]
  }
 ],
 "metadata": {
  "colab": {
   "name": "Welcome to DataCamp Workspaces.ipynb",
   "provenance": []
  },
  "kernelspec": {
   "display_name": "base",
   "language": "python",
   "name": "python3"
  },
  "language_info": {
   "codemirror_mode": {
    "name": "ipython",
    "version": 3
   },
   "file_extension": ".py",
   "mimetype": "text/x-python",
   "name": "python",
   "nbconvert_exporter": "python",
   "pygments_lexer": "ipython3",
   "version": "3.12.7"
  }
 },
 "nbformat": 4,
 "nbformat_minor": 5
}
