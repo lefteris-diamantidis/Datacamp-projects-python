{
 "cells": [
  {
   "cell_type": "markdown",
   "id": "8b752817-8333-446e-9790-73d85b0aa14f",
   "metadata": {},
   "source": [
    "![Traffic](traffic.png)\n",
    "\n",
    "Traffic data fluctuates constantly or is affected by time. Predicting it can be challenging, but this task will help sharpen your time-series skills. With deep learning, you can use abstract patterns in data that can help boost predictability.\n",
    "\n",
    "Your task is to build a system that can be applied to help you predict traffic volume or the number of vehicles passing at a specific point and time. Determining this can help reduce road congestion, support new designs for roads or intersections, improve safety, and more! Or, you can use to help plan your commute to avoid traffic!\n",
    "\n",
    "The dataset provided contains the hourly traffic volume on an interstate highway in Minnesota, USA. It also includes weather features and holidays, which often impact traffic volume.\n",
    "\n",
    "Time to predict some traffic!\n",
    "\n",
    "### The data:\n",
    "\n",
    "The dataset is collected and maintained by UCI Machine Learning Repository. The target variable is `traffic_volume`. The dataset contains the following and has already been normalized and saved into training and test sets:\n",
    "\n",
    "`train_scaled.csv`, `test_scaled.csv`\n",
    "| Column     | Type       | Description              |\n",
    "|------------|------------|--------------------------|\n",
    "|`temp`                   |Numeric            |Average temp in kelvin|\n",
    "|`rain_1h`                |Numeric            |Amount in mm of rain that occurred in the hour|\n",
    "|`snow_1h`                |Numeric            |Amount in mm of snow that occurred in the hour|\n",
    "|`clouds_all`             |Numeric            |Percentage of cloud cover|\n",
    "|`date_time`              |DateTime           |Hour of the data collected in local CST time|\n",
    "|`holiday_` (11 columns)  |Categorical        |US National holidays plus regional holiday, Minnesota State Fair|\n",
    "|`weather_main_` (11 columns)|Categorical     |Short textual description of the current weather|\n",
    "|`weather_description_` (35 columns)|Categorical|Longer textual description of the current weather|\n",
    "|`traffic_volume`         |Numeric            |Hourly I-94 ATR 301 reported westbound traffic volume|\n",
    "|`hour_of_day`|Numeric|The hour of the day|\n",
    "|`day_of_week`|Numeric|The day of the week (0=Monday, Sunday=6)|\n",
    "|`day_of_month`|Numeric|The day of the month|\n",
    "|`month`|Numeric|The number of the month|\n",
    "|`traffic_volume`         |Numeric            |Hourly I-94 ATR 301 reported westbound traffic volume|"
   ]
  },
  {
   "cell_type": "code",
   "execution_count": 9,
   "id": "d2e54daa-828a-420a-a204-f855de2ae375",
   "metadata": {
    "executionCancelledAt": null,
    "executionTime": 5422,
    "lastExecutedAt": 1730396168304,
    "lastExecutedByKernel": "d58cdc47-b7ea-4d62-93e5-9d9c7d4c3863",
    "lastScheduledRunId": null,
    "lastSuccessfullyExecutedCode": "# Import the relevant libraries\nimport numpy as np\nimport pandas as pd\n\nimport torch\nimport torch.nn as nn\nimport torch.nn.functional as F\nimport torch.optim as optim\nfrom torch.utils.data import TensorDataset, DataLoader",
    "outputsMetadata": {
     "0": {
      "height": 223,
      "type": "dataFrame"
     },
     "1": {
      "height": 222,
      "type": "dataFrame"
     }
    }
   },
   "outputs": [],
   "source": [
    "# Import the relevant libraries\n",
    "import numpy as np\n",
    "import pandas as pd\n",
    "import warnings\n",
    "warnings.filterwarnings(\"ignore\")\n",
    "\n",
    "import torch\n",
    "import torch.nn as nn\n",
    "import torch.nn.functional as F\n",
    "import torch.optim as optim\n",
    "from torch.utils.data import TensorDataset, DataLoader"
   ]
  },
  {
   "cell_type": "code",
   "execution_count": 2,
   "id": "58e3a3b9-9367-43e7-b13b-1f111447478e",
   "metadata": {
    "executionCancelledAt": null,
    "executionTime": 230,
    "lastExecutedAt": 1730396192882,
    "lastExecutedByKernel": "d58cdc47-b7ea-4d62-93e5-9d9c7d4c3863",
    "lastScheduledRunId": null,
    "lastSuccessfullyExecutedCode": "# Read the traffic data from the CSV training and test files\ntrain_scaled_df = pd.read_csv('train_scaled.csv')\ntest_scaled_df = pd.read_csv('test_scaled.csv')\n\n# Convert the DataFrame to NumPy arrays\ntrain_scaled = train_scaled_df.to_numpy()\ntest_scaled = test_scaled_df.to_numpy()",
    "outputsMetadata": {
     "0": {
      "height": 223,
      "type": "dataFrame"
     }
    }
   },
   "outputs": [],
   "source": [
    "# Read the traffic data from the CSV training and test files\n",
    "train_scaled_df = pd.read_csv('train_scaled.csv')\n",
    "test_scaled_df = pd.read_csv('test_scaled.csv')\n",
    "\n",
    "# Convert the DataFrame to NumPy arrays\n",
    "train_scaled = train_scaled_df.to_numpy()\n",
    "test_scaled = test_scaled_df.to_numpy()"
   ]
  },
  {
   "cell_type": "code",
   "execution_count": 3,
   "id": "bd3fbffb",
   "metadata": {},
   "outputs": [
    {
     "name": "stdout",
     "output_type": "stream",
     "text": [
      "[[0.93524526 0.         0.         ... 0.03333333 0.81818182 0.76167582]\n",
      " [0.93874903 0.         0.         ... 0.03333333 0.81818182 0.62032967]\n",
      " [0.93946276 0.         0.         ... 0.03333333 0.81818182 0.65480769]\n",
      " ...\n",
      " [0.80979107 0.         0.         ... 1.         1.         0.34107143]\n",
      " [0.80943421 0.         0.         ... 1.         1.         0.28035714]\n",
      " [0.809272   0.         0.         ... 1.         1.         0.21703297]]\n"
     ]
    }
   ],
   "source": [
    "print(train_scaled)"
   ]
  },
  {
   "cell_type": "markdown",
   "id": "35307f49",
   "metadata": {},
   "source": [
    "Build a deep learning model that predicts traffic volume and helps tackle challenges like congestion, road design, and smarter commutes:\n",
    "\n",
    "- Build a deep learning model using `PyTorch` to predict the traffic volume using the provided dataset. Initialize and save this model as `traffic_model`."
   ]
  },
  {
   "cell_type": "code",
   "execution_count": 4,
   "id": "67d23bdf",
   "metadata": {},
   "outputs": [],
   "source": [
    "def create_sequences(data, seq_length, y_col_idx):\n",
    "    xs, ys = [], []\n",
    "    for i in range(len(data) - seq_length):\n",
    "        x = data[i:(i+seq_length)]\n",
    "        y = data[i+seq_length, y_col_idx]\n",
    "        xs.append(x)\n",
    "        ys.append(y)\n",
    "    return np.array(xs), np.array(ys)"
   ]
  },
  {
   "cell_type": "code",
   "execution_count": 5,
   "id": "c196a3ea",
   "metadata": {},
   "outputs": [],
   "source": [
    "X_train, y_train = create_sequences(train_scaled, 12, -1)\n",
    "X_test, y_test = create_sequences(test_scaled, 12, -1)\n",
    "\n",
    "dataset_train = TensorDataset(\n",
    "    torch.tensor(X_train.astype(np.float32)).float(), torch.tensor(y_train.astype(np.float32)).float(),\n",
    ")\n",
    "dataset_test = TensorDataset(\n",
    "    torch.tensor(X_test.astype(np.float32)).float(), torch.tensor(y_test.astype(np.float32)).float(),\n",
    ")"
   ]
  },
  {
   "cell_type": "code",
   "execution_count": 6,
   "id": "2c802034",
   "metadata": {},
   "outputs": [],
   "source": [
    "dataloader_train = DataLoader(dataset_train, batch_size=64, shuffle=True)\n",
    "dataloader_test = DataLoader(dataset_test, batch_size=64, shuffle=False)"
   ]
  },
  {
   "cell_type": "code",
   "execution_count": 7,
   "id": "90446fb7",
   "metadata": {},
   "outputs": [],
   "source": [
    "class TrafficVolume(nn.Module):\n",
    "    def __init__(self):\n",
    "        super().__init__()\n",
    "        self.lstm = nn.LSTM(\n",
    "            input_size=66,\n",
    "            hidden_size=64,\n",
    "            num_layers=2,\n",
    "            batch_first=True\n",
    "        )\n",
    "        self.relu = nn.LeakyReLU()\n",
    "        \n",
    "        self.fc1 = nn.Linear(64, 1)\n",
    "\n",
    "    def forward(self, x):\n",
    "        # Capture the final hidden state\n",
    "        _, (h_0, _) = self.lstm(x)\n",
    "        # Take the hidden state from the last layer\n",
    "        out = h_0[-1]\n",
    "        # Apply ReLU\n",
    "        return self.relu(self.fc1(out))\n",
    "    \n",
    "# Set-up for training \n",
    "n_features = 66\n",
    "hidden_size = 64\n",
    "num_layers = 2\n",
    "\n",
    "# Initialize the model, saving it to traffic_model\n",
    "traffic_model = TrafficVolume()\n",
    "\n",
    "# Define the loss function and optimizer\n",
    "criterion = nn.MSELoss()\n",
    "optimizer = optim.Adam(traffic_model.parameters(), lr=0.0001)"
   ]
  },
  {
   "cell_type": "markdown",
   "id": "93c72b24",
   "metadata": {},
   "source": [
    "- Train and evaluate your model using an appropriate loss function. Save the final training loss as a tensor variable, `final_training_loss` (aim for less than 20)."
   ]
  },
  {
   "cell_type": "code",
   "execution_count": 10,
   "id": "57a85e4b",
   "metadata": {},
   "outputs": [
    {
     "name": "stdout",
     "output_type": "stream",
     "text": [
      "Epoch: 1, train loss: 0.07874\n",
      "Epoch: 2, train loss: 0.07333\n"
     ]
    },
    {
     "data": {
      "text/plain": [
       "TrafficVolume(\n",
       "  (lstm): LSTM(66, 64, num_layers=2, batch_first=True)\n",
       "  (relu): LeakyReLU(negative_slope=0.01)\n",
       "  (fc1): Linear(in_features=64, out_features=1, bias=True)\n",
       ")"
      ]
     },
     "execution_count": 10,
     "metadata": {},
     "output_type": "execute_result"
    }
   ],
   "source": [
    "# Train the model with 2 epochs\n",
    "final_training_loss = 0\n",
    "for epoch in range(2):\n",
    "    for batch_x, batch_y in dataloader_train:\n",
    "        optimizer.zero_grad()\n",
    "        outputs = traffic_model(batch_x)\n",
    "        loss = criterion(outputs, batch_y)\n",
    "        optimizer.zero_grad()\n",
    "        loss.backward()\n",
    "        optimizer.step()\n",
    "    print(\"Epoch: %d, train loss: %1.5f\" % (epoch+1, loss))\n",
    "    final_training_loss = loss\n",
    "\n",
    "# Set the model to evaluation mode\n",
    "traffic_model.eval()"
   ]
  },
  {
   "cell_type": "markdown",
   "id": "d0af2ef9",
   "metadata": {},
   "source": [
    "- Predict the traffic volume against the test set and evaluate the performance using Mean Squared Error (MSE). Save your result as a tensor float, `test_mse`."
   ]
  },
  {
   "cell_type": "code",
   "execution_count": 11,
   "id": "d29357d1-6cbb-4c86-ba49-ea31f6d8415e",
   "metadata": {
    "executionCancelledAt": null,
    "executionTime": null,
    "lastExecutedAt": null,
    "lastExecutedByKernel": null,
    "lastScheduledRunId": null,
    "lastSuccessfullyExecutedCode": null,
    "outputsMetadata": {
     "0": {
      "height": 38,
      "type": "stream"
     }
    }
   },
   "outputs": [
    {
     "name": "stdout",
     "output_type": "stream",
     "text": [
      "Test MSE: 0.0722706988453865\n"
     ]
    }
   ],
   "source": [
    "all_predictions = []\n",
    "all_labels = []\n",
    "\n",
    "with torch.no_grad():\n",
    "    for seqs, labels in dataloader_test:\n",
    "        outputs = traffic_model(seqs).squeeze()\n",
    "        all_predictions.append(outputs)\n",
    "        all_labels.append(labels)\n",
    "\n",
    "# Concatenate all predictions and labels as PyTorch tensors\n",
    "all_predictions = torch.cat(all_predictions)\n",
    "all_labels = torch.cat(all_labels)\n",
    "\n",
    "# Calculate MSE directly with PyTorch\n",
    "test_mse = F.mse_loss(all_predictions, all_labels)\n",
    "\n",
    "print(f'Test MSE: {test_mse.item()}')"
   ]
  }
 ],
 "metadata": {
  "colab": {
   "name": "Welcome to DataCamp Workspaces.ipynb",
   "provenance": []
  },
  "editor": "DataLab",
  "kernelspec": {
   "display_name": "base",
   "language": "python",
   "name": "python3"
  },
  "language_info": {
   "codemirror_mode": {
    "name": "ipython",
    "version": 3
   },
   "file_extension": ".py",
   "mimetype": "text/x-python",
   "name": "python",
   "nbconvert_exporter": "python",
   "pygments_lexer": "ipython3",
   "version": "3.12.7"
  }
 },
 "nbformat": 4,
 "nbformat_minor": 5
}
