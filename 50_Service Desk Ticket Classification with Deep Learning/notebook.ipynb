{
 "cells": [
  {
   "cell_type": "markdown",
   "id": "e5870ae0-6165-459e-9c40-0f282883be7b",
   "metadata": {
    "executionCancelledAt": null,
    "executionTime": 165,
    "lastExecutedAt": 1707667023665,
    "lastScheduledRunId": null,
    "lastSuccessfullyExecutedCode": "CleverSupport is a company at the forefront of AI innovation, specializing in the development of AI-driven solutions to enhance customer support services. Their latest endeavor is to engineer a text classification system that can autonomously categorize customer complaints. \n\nYour role as a data scientist involves the creation of a sophisticated machine learning model that can accurately assign complaints to specific categories, such as technical issues, billing inquiries, cancellation requests, refunds, and product information requests."
   },
   "source": [
    "![servicedesk](servicedesk.png)\n",
    "\n",
    "CleverSupport is a company at the forefront of AI innovation, specializing in the development of AI-driven solutions to enhance customer support services. Their latest endeavor is to engineer a text classification system that can automatically categorize customer complaints. \n",
    "\n",
    "Your role as a data scientist involves the creation of a sophisticated machine learning model that can accurately assign complaints to specific categories, such as mortgage, credit card, money transfers, debt collection, etc."
   ]
  },
  {
   "cell_type": "code",
   "execution_count": 1,
   "id": "0dd4beb4-2329-4b0d-8a34-2354ee9c7fb4",
   "metadata": {
    "collapsed": true,
    "executionCancelledAt": null,
    "executionTime": 3807,
    "jupyter": {
     "outputs_hidden": true,
     "source_hidden": false
    },
    "lastExecutedAt": 1735895188850,
    "lastExecutedByKernel": "1d3afd80-56d1-4297-809d-f947cce9e2f1",
    "lastScheduledRunId": null,
    "lastSuccessfullyExecutedCode": "!pip install torchmetrics",
    "outputsMetadata": {
     "0": {
      "height": 616,
      "type": "stream"
     }
    }
   },
   "outputs": [],
   "source": [
    "# !pip install torchmetrics"
   ]
  },
  {
   "cell_type": "code",
   "execution_count": 2,
   "id": "2fa90b61-0244-4236-aa93-e33a7a088eec",
   "metadata": {
    "collapsed": false,
    "executionCancelledAt": null,
    "executionTime": 55,
    "jupyter": {
     "outputs_hidden": false,
     "source_hidden": false
    },
    "lastExecutedAt": 1735895188907,
    "lastExecutedByKernel": "1d3afd80-56d1-4297-809d-f947cce9e2f1",
    "lastScheduledRunId": null,
    "lastSuccessfullyExecutedCode": "from collections import Counter\nimport nltk, json\nimport numpy as np\nimport pandas as pd\nfrom sklearn.model_selection import train_test_split\nimport torch\nimport torch.nn as nn\nimport torch.nn.functional as F\nfrom torch.utils.data import TensorDataset, DataLoader\nfrom torchmetrics import Accuracy, Precision, Recall"
   },
   "outputs": [],
   "source": [
    "from collections import Counter\n",
    "import nltk, json\n",
    "import numpy as np\n",
    "import pandas as pd\n",
    "from sklearn.model_selection import train_test_split\n",
    "import torch\n",
    "import torch.nn as nn\n",
    "import torch.nn.functional as F\n",
    "from torch.utils.data import TensorDataset, DataLoader\n",
    "from torchmetrics import Accuracy, Precision, Recall"
   ]
  },
  {
   "cell_type": "code",
   "execution_count": 3,
   "id": "37a51a81-1301-4a80-b8c6-716faaff4c5c",
   "metadata": {
    "collapsed": true,
    "executionCancelledAt": null,
    "executionTime": 165,
    "jupyter": {
     "outputs_hidden": true,
     "source_hidden": false
    },
    "lastExecutedAt": 1735895189072,
    "lastExecutedByKernel": "1d3afd80-56d1-4297-809d-f947cce9e2f1",
    "lastScheduledRunId": null,
    "lastSuccessfullyExecutedCode": "nltk.download('punkt')",
    "outputsMetadata": {
     "0": {
      "height": 80,
      "type": "stream"
     }
    }
   },
   "outputs": [
    {
     "name": "stderr",
     "output_type": "stream",
     "text": [
      "[nltk_data] Downloading package punkt to\n",
      "[nltk_data]     /Users/lefteris_karathanasis/nltk_data...\n",
      "[nltk_data]   Package punkt is already up-to-date!\n"
     ]
    },
    {
     "data": {
      "text/plain": [
       "True"
      ]
     },
     "execution_count": 3,
     "metadata": {},
     "output_type": "execute_result"
    }
   ],
   "source": [
    "nltk.download('punkt')"
   ]
  },
  {
   "cell_type": "code",
   "execution_count": 4,
   "id": "e1b12eaf-e55c-422c-94a2-b0197c465a1b",
   "metadata": {
    "executionCancelledAt": null,
    "executionTime": 170,
    "lastExecutedAt": 1735895189242,
    "lastExecutedByKernel": "1d3afd80-56d1-4297-809d-f947cce9e2f1",
    "lastScheduledRunId": null,
    "lastSuccessfullyExecutedCode": "# Import data and labels\nwith open(\"words.json\", 'r') as f1:\n    words = json.load(f1)\nwith open(\"text.json\", 'r') as f2:\n    text = json.load(f2)\nlabels = np.load('labels.npy')"
   },
   "outputs": [],
   "source": [
    "# Import data and labels\n",
    "with open(\"words.json\", 'r') as f1:\n",
    "    words = json.load(f1)\n",
    "with open(\"text.json\", 'r') as f2:\n",
    "    text = json.load(f2)\n",
    "labels = np.load('labels.npy')"
   ]
  },
  {
   "cell_type": "code",
   "execution_count": 5,
   "id": "d630badb-23dd-4368-9a96-e2b478ad5cff",
   "metadata": {
    "executionCancelledAt": null,
    "executionTime": 347,
    "lastExecutedAt": 1735895189591,
    "lastExecutedByKernel": "1d3afd80-56d1-4297-809d-f947cce9e2f1",
    "lastScheduledRunId": null,
    "lastSuccessfullyExecutedCode": "# Dictionaries to store the word to index mappings and vice versa\nword2idx = {o:i for i,o in enumerate(words)}\nidx2word = {i:o for i,o in enumerate(words)}\n\n# Looking up the mapping dictionary and assigning the index to the respective words\nfor i, sentence in enumerate(text):\n    text[i] = [word2idx[word] if word in word2idx else 0 for word in sentence]\n    \n# Defining a function that either shortens sentences or pads sentences with 0 to a fixed length\ndef pad_input(sentences, seq_len):\n    features = np.zeros((len(sentences), seq_len),dtype=int)\n    for ii, review in enumerate(sentences):\n        if len(review) != 0:\n            features[ii, -len(review):] = np.array(review)[:seq_len]\n    return features\n\ntext = pad_input(text, 50)"
   },
   "outputs": [],
   "source": [
    "# Dictionaries to store the word to index mappings and vice versa\n",
    "word2idx = {o:i for i,o in enumerate(words)}\n",
    "idx2word = {i:o for i,o in enumerate(words)}\n",
    "\n",
    "# Looking up the mapping dictionary and assigning the index to the respective words\n",
    "for i, sentence in enumerate(text):\n",
    "    text[i] = [word2idx[word] if word in word2idx else 0 for word in sentence]\n",
    "    \n",
    "# Defining a function that either shortens sentences or pads sentences with 0 to a fixed length\n",
    "def pad_input(sentences, seq_len):\n",
    "    features = np.zeros((len(sentences), seq_len),dtype=int)\n",
    "    for ii, review in enumerate(sentences):\n",
    "        if len(review) != 0:\n",
    "            features[ii, -len(review):] = np.array(review)[:seq_len]\n",
    "    return features\n",
    "\n",
    "text = pad_input(text, 50)"
   ]
  },
  {
   "cell_type": "code",
   "execution_count": 6,
   "id": "f2654836-631f-415e-9922-5ab3bafaaafa",
   "metadata": {
    "executionCancelledAt": null,
    "executionTime": 51,
    "lastExecutedAt": 1735895189644,
    "lastExecutedByKernel": "1d3afd80-56d1-4297-809d-f947cce9e2f1",
    "lastScheduledRunId": null,
    "lastSuccessfullyExecutedCode": "# Splitting dataset\ntrain_text, test_text, train_label, test_label = train_test_split(text, labels, test_size=0.2, random_state=42)\n\ntrain_data = TensorDataset(torch.from_numpy(train_text), torch.from_numpy(train_label).long())\ntest_data = TensorDataset(torch.from_numpy(test_text), torch.from_numpy(test_label).long())"
   },
   "outputs": [],
   "source": [
    "# Splitting dataset\n",
    "train_text, test_text, train_label, test_label = train_test_split(text, labels, test_size=0.2, random_state=42)\n",
    "\n",
    "train_data = TensorDataset(torch.from_numpy(train_text), torch.from_numpy(train_label).long())\n",
    "test_data = TensorDataset(torch.from_numpy(test_text), torch.from_numpy(test_label).long())"
   ]
  },
  {
   "cell_type": "markdown",
   "id": "2205b89e",
   "metadata": {},
   "source": [
    "Classify service desk tickets into categories using a CNN to streamline customer services.\n",
    "\n",
    "- Define a CNN classifier with the following layers: an embedding layer, a 1D convolution layer, and a linear layer."
   ]
  },
  {
   "cell_type": "code",
   "execution_count": 7,
   "id": "79f92df7",
   "metadata": {},
   "outputs": [],
   "source": [
    "batch_size = 400\n",
    "train_loader = DataLoader(train_data, shuffle=True, batch_size=batch_size)\n",
    "test_loader = DataLoader(test_data, shuffle=False, batch_size=batch_size)\n",
    "\n",
    "# Define the classifier class\n",
    "class TicketClassifier(nn.Module):\n",
    "    def __init__(self, vocab_size, embed_dim, target_size):\n",
    "        super(TicketClassifier, self).__init__()\n",
    "        self.embedding = nn.Embedding(vocab_size, embed_dim)\n",
    "        self.conv = nn.Conv1d(embed_dim, embed_dim, kernel_size=3, stride=1, padding=1)\n",
    "        self.fc = nn.Linear(embed_dim, target_size)\n",
    "\n",
    "    def forward(self, text):\n",
    "        embedded = self.embedding(text).permute(0, 2, 1)\n",
    "        conved = F.relu(self.conv(embedded))\n",
    "        conved = conved.mean(dim=2) \n",
    "        return self.fc(conved)\n",
    "\n",
    "\n",
    "vocab_size = len(word2idx) + 1\n",
    "target_size = len(np.unique(labels))\n",
    "embedding_dim = 64"
   ]
  },
  {
   "cell_type": "markdown",
   "id": "5822a0a0",
   "metadata": {},
   "source": [
    "- Train your classifier on `train_data` using a suitable optimizer. Run your training for **only 3 epochs**."
   ]
  },
  {
   "cell_type": "code",
   "execution_count": 8,
   "id": "366e6d81",
   "metadata": {},
   "outputs": [
    {
     "name": "stdout",
     "output_type": "stream",
     "text": [
      "Epoch: 1, Loss: 0.003903932511806488\n",
      "Epoch: 2, Loss: 0.0016801932901144027\n",
      "Epoch: 3, Loss: 0.0007771366536617279\n"
     ]
    }
   ],
   "source": [
    "# Create an instance of the TicketClassifier class\n",
    "model = TicketClassifier(vocab_size, embedding_dim, target_size)\n",
    "\n",
    "lr = 0.05\n",
    "criterion = nn.CrossEntropyLoss()\n",
    "optimizer = torch.optim.Adam(model.parameters(), lr=lr)\n",
    "\n",
    "epochs = 3\n",
    "\n",
    "# Train the model\n",
    "model.train()\n",
    "for i in range(epochs):\n",
    "    running_loss, num_processed = 0,0\n",
    "    for inputs, labels in train_loader:\n",
    "        model.zero_grad()\n",
    "        output = model(inputs)\n",
    "        loss = criterion(output, labels)\n",
    "        loss.backward()\n",
    "        optimizer.step()\n",
    "        running_loss += loss.item()\n",
    "        num_processed += len(inputs)\n",
    "    print(f\"Epoch: {i+1}, Loss: {running_loss/num_processed}\")\n",
    "\n",
    "\n",
    "accuracy_metric = Accuracy(task='multiclass', num_classes=5)\n",
    "precision_metric = Precision(task='multiclass', num_classes=5, average=None)\n",
    "recall_metric = Recall(task='multiclass', num_classes=5, average=None)"
   ]
  },
  {
   "cell_type": "markdown",
   "id": "628e2d03",
   "metadata": {},
   "source": [
    "Test your classifier on `test_data`, storing your predictions in a list called `predictions`."
   ]
  },
  {
   "cell_type": "code",
   "execution_count": 9,
   "id": "c86a2ed9",
   "metadata": {},
   "outputs": [],
   "source": [
    "# Evaluate model on test set\n",
    "model.eval()\n",
    "predicted = []\n",
    "\n",
    "for i, (inputs, labels) in enumerate(test_loader):\n",
    "    output = model(inputs)\n",
    "    cat = torch.argmax(output, dim=-1)\n",
    "    predicted.extend(cat.tolist())\n",
    "    accuracy_metric(cat, labels)\n",
    "    precision_metric(cat, labels)\n",
    "    recall_metric(cat, labels)"
   ]
  },
  {
   "cell_type": "markdown",
   "id": "d0a3744b",
   "metadata": {},
   "source": [
    "Calculate the accuracy, per-class precision, and recall for your trained classifier on the `test_data`. Save the metrics as variables with the corresponding names: `accuracy`, `precision`, and `recall`, with precision and recall saved as lists."
   ]
  },
  {
   "cell_type": "code",
   "execution_count": 10,
   "id": "44d54391",
   "metadata": {},
   "outputs": [
    {
     "name": "stdout",
     "output_type": "stream",
     "text": [
      "Accuracy: 0.7799999713897705\n",
      "Precision (per class): [0.7262569665908813, 0.6548672318458557, 0.8527919054031372, 0.8867924809455872, 0.8075313568115234]\n",
      "Recall (per class): [0.6770833134651184, 0.7789473533630371, 0.7777777910232544, 0.734375, 0.9190475940704346]\n"
     ]
    }
   ],
   "source": [
    "accuracy = accuracy_metric.compute().item()\n",
    "precision = precision_metric.compute().tolist()\n",
    "recall = recall_metric.compute().tolist()\n",
    "\n",
    "print('Accuracy:', accuracy)\n",
    "print('Precision (per class):', precision)\n",
    "print('Recall (per class):', recall)"
   ]
  }
 ],
 "metadata": {
  "colab": {
   "name": "Welcome to DataCamp Workspaces.ipynb",
   "provenance": []
  },
  "kernelspec": {
   "display_name": "base",
   "language": "python",
   "name": "python3"
  },
  "language_info": {
   "codemirror_mode": {
    "name": "ipython",
    "version": 3
   },
   "file_extension": ".py",
   "mimetype": "text/x-python",
   "name": "python",
   "nbconvert_exporter": "python",
   "pygments_lexer": "ipython3",
   "version": "3.12.7"
  }
 },
 "nbformat": 4,
 "nbformat_minor": 5
}
