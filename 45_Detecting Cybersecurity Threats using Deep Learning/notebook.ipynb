{
 "cells": [
  {
   "cell_type": "markdown",
   "id": "d547b11f-1ed0-4d71-9b39-514ba85079ec",
   "metadata": {},
   "source": [
    "![cyber_photo](cyber_photo.jpg)\n",
    "\n",
    "Cyber threats are a growing concern for organizations worldwide. These threats take many forms, including malware, phishing, and denial-of-service (DOS) attacks, compromising sensitive information and disrupting operations. The increasing sophistication and frequency of these attacks make it imperative for organizations to adopt advanced security measures. Traditional threat detection methods often fall short due to their inability to adapt to new and evolving threats. This is where deep learning models come into play.\n",
    "\n",
    "Deep learning models can analyze vast amounts of data and identify patterns that may not be immediately obvious to human analysts. By leveraging these models, organizations can proactively detect and mitigate cyber threats, safeguarding their sensitive information and ensuring operational continuity.\n",
    "\n",
    "As a cybersecurity analyst, you identify and mitigate these threats. In this project, you will design and implement a deep learning model to detect cyber threats. The BETH dataset simulates real-world logs, providing a rich source of information for training and testing your model. The data has already undergone preprocessing, and we have a target label, `sus_label`, indicating whether an event is malicious (1) or benign (0).\n",
    "\n",
    "By successfully developing this model, you will contribute to enhancing cybersecurity measures and protecting organizations from potentially devastating cyber attacks."
   ]
  },
  {
   "cell_type": "markdown",
   "id": "d2967110-9515-4a1b-8ab6-f7bfd5c84d83",
   "metadata": {},
   "source": [
    "\n",
    "### The Data\n",
    "\n",
    "| Column     | Description              |\n",
    "|------------|--------------------------|\n",
    "|`processId`|The unique identifier for the process that generated the event - int64 |\n",
    "|`threadId`|ID for the thread spawning the log - int64|\n",
    "|`parentProcessId`|Label for the process spawning this log - int64|\n",
    "|`userId`|ID of user spawning the log|Numerical - int64|\n",
    "|`mountNamespace`|Mounting restrictions the process log works within - int64|\n",
    "|`argsNum`|Number of arguments passed to the event - int64|\n",
    "|`returnValue`|Value returned from the event log (usually 0) - int64|\n",
    "|`sus_label`|Binary label as suspicous event (1 is suspicious, 0 is not) - int64|\n",
    "\n",
    "More information on the dataset: [BETH dataset](accreditation.md)"
   ]
  },
  {
   "cell_type": "code",
   "execution_count": 2,
   "id": "35558034-b7b7-4ab7-8d59-5e6ed281f838",
   "metadata": {
    "executionCancelledAt": null,
    "executionTime": null,
    "lastExecutedAt": null,
    "lastExecutedByKernel": null,
    "lastScheduledRunId": null,
    "lastSuccessfullyExecutedCode": null,
    "outputsMetadata": {
     "0": {
      "height": 500,
      "type": "stream"
     }
    }
   },
   "outputs": [],
   "source": [
    "# !pip install torchmetrics"
   ]
  },
  {
   "cell_type": "markdown",
   "id": "0b55d155",
   "metadata": {},
   "source": [
    "Train a neural network model to detect cyber attacks using PyTorch.\n",
    "\n",
    "- Define and train a model to detect anomalies in network traffic.\n",
    "- Calculate the validation accuracy and save the metric as `val_accuracy` as an integer, aim for atleast 0.6 accuracy.\n",
    "\n",
    "Only run your training loop for 10 epochs due to the small dataset size."
   ]
  },
  {
   "cell_type": "code",
   "execution_count": 5,
   "id": "e3121b05-9873-431d-812c-62bceffbf1b3",
   "metadata": {
    "executionCancelledAt": null,
    "executionTime": 52,
    "lastExecutedAt": 1731762969844,
    "lastExecutedByKernel": "e0cd9672-438e-41db-b867-c9c2be32a2d9",
    "lastScheduledRunId": null,
    "lastSuccessfullyExecutedCode": "# Import required libraries\nimport pandas as pd\nfrom sklearn.preprocessing import StandardScaler\nimport torch\nimport torch.nn as nn\nimport torch.nn.functional as functional\nfrom torch.utils.data import DataLoader, TensorDataset\nimport torch.optim as optim\nfrom torchmetrics import Accuracy  # comment out torchmetrics import\nfrom sklearn.metrics import accuracy_score  # uncomment to use sklearn"
   },
   "outputs": [],
   "source": [
    "# Import required libraries\n",
    "import pandas as pd\n",
    "from sklearn.preprocessing import StandardScaler\n",
    "import torch\n",
    "import torch.nn as nn\n",
    "import torch.nn.functional as functional\n",
    "from torch.utils.data import DataLoader, TensorDataset\n",
    "import torch.optim as optim\n",
    "from torchmetrics import Accuracy  \n",
    "from sklearn.metrics import accuracy_score\n",
    "\n",
    "pd.set_option(\"display.width\", 1000)"
   ]
  },
  {
   "cell_type": "code",
   "execution_count": 6,
   "id": "08bfe2bf-3132-490e-9c16-9026f82b8d73",
   "metadata": {
    "executionCancelledAt": null,
    "executionTime": 360,
    "lastExecutedAt": 1731762970204,
    "lastExecutedByKernel": "e0cd9672-438e-41db-b867-c9c2be32a2d9",
    "lastScheduledRunId": null,
    "lastSuccessfullyExecutedCode": "# Load preprocessed data\ntrain_df = pd.read_csv('labelled_train.csv')\ntest_df = pd.read_csv('labelled_test.csv')\nval_df = pd.read_csv('labelled_validation.csv')\n\n# View the first 5 rows of training set\ntrain_df.head()",
    "outputsMetadata": {
     "0": {
      "height": 264,
      "type": "dataFrame"
     }
    }
   },
   "outputs": [
    {
     "name": "stdout",
     "output_type": "stream",
     "text": [
      "   processId  threadId  parentProcessId  userId  mountNamespace  argsNum  returnValue  sus_label\n",
      "0        381      7337                1     100      4026532231        5            0          1\n",
      "1        381      7337                1     100      4026532231        1            0          1\n",
      "2        381      7337                1     100      4026532231        0            0          1\n",
      "3       7347      7347             7341       0      4026531840        2           -2          1\n",
      "4       7347      7347             7341       0      4026531840        4            0          1\n"
     ]
    }
   ],
   "source": [
    "# Load preprocessed data\n",
    "train_df = pd.read_csv('labelled_train.csv')\n",
    "test_df = pd.read_csv('labelled_test.csv')\n",
    "val_df = pd.read_csv('labelled_validation.csv')\n",
    "\n",
    "# View the first 5 rows of training set\n",
    "print(train_df.head())"
   ]
  },
  {
   "cell_type": "code",
   "execution_count": 7,
   "id": "630d6d85",
   "metadata": {},
   "outputs": [],
   "source": [
    "X_train = train_df.drop('sus_label', axis=1).values\n",
    "y_train = train_df['sus_label'].values\n",
    "X_test = test_df.drop('sus_label', axis=1).values\n",
    "y_test = test_df['sus_label'].values\n",
    "X_val = val_df.drop('sus_label', axis=1).values\n",
    "y_val = val_df['sus_label'].values"
   ]
  },
  {
   "cell_type": "code",
   "execution_count": 8,
   "id": "f25d3f5b",
   "metadata": {},
   "outputs": [],
   "source": [
    "scaler = StandardScaler()\n",
    "\n",
    "X_train = scaler.fit_transform(X_train)\n",
    "X_test = scaler.transform(X_test)\n",
    "X_val = scaler.transform(X_val)"
   ]
  },
  {
   "cell_type": "code",
   "execution_count": 9,
   "metadata": {},
   "outputs": [],
   "source": [
    "X_train_tensor = torch.tensor(X_train, dtype=torch.float32)\n",
    "y_train_tensor = torch.tensor(y_train, dtype=torch.float32).view(-1, 1)\n",
    "X_test_tensor = torch.tensor(X_test, dtype=torch.float32)\n",
    "y_test_tensor = torch.tensor(y_test, dtype=torch.float32).view(-1, 1)\n",
    "X_val_tensor = torch.tensor(X_val, dtype=torch.float32)\n",
    "y_val_tensor = torch.tensor(y_val, dtype=torch.float32).view(-1, 1)"
   ]
  },
  {
   "cell_type": "code",
   "execution_count": 10,
   "id": "0020d1de",
   "metadata": {},
   "outputs": [],
   "source": [
    "model = nn.Sequential(\n",
    "    nn.Linear(X_train.shape[1], 128),  # First fully connected layer\n",
    "    nn.ReLU(),  # ReLU activation\n",
    "    nn.Linear(128, 64),  # Second fully connected layer\n",
    "    nn.ReLU(),  # ReLU activation\n",
    "    nn.Linear(64, 1),  # Third fully connected layer\n",
    "    nn.Sigmoid()  # Sigmoid activation for binary classification\n",
    ")"
   ]
  },
  {
   "cell_type": "code",
   "execution_count": 11,
   "id": "b2bb7919",
   "metadata": {},
   "outputs": [],
   "source": [
    "criterion = nn.CrossEntropyLoss() \n",
    "\n",
    "optimizer = optim.SGD(model.parameters(), lr=1e-3, weight_decay=1e-4)"
   ]
  },
  {
   "cell_type": "code",
   "execution_count": 12,
   "id": "ce281fa5",
   "metadata": {},
   "outputs": [],
   "source": [
    "num_epoch = 10\n",
    "for epoch in range(num_epoch):\n",
    "    model.train()  # Set the model to training mode\n",
    "    optimizer.zero_grad()  # Clear the gradients\n",
    "    outputs = model(X_train_tensor)  # Forward pass: compute the model output\n",
    "    loss = criterion(outputs, y_train_tensor)  # Compute the loss\n",
    "    loss.backward()  # Backward pass: compute the gradients\n",
    "    optimizer.step()  # Update the model parameters"
   ]
  },
  {
   "cell_type": "code",
   "execution_count": 13,
   "id": "8ff12705",
   "metadata": {},
   "outputs": [],
   "source": [
    "model.eval()  # Set the model to evaluation mode\n",
    "with torch.no_grad():  # Disable gradient calculation for efficiency\n",
    "    y_predict_train = model(X_train_tensor).round()  # Predict on training data and round the outputs\n",
    "    y_predict_test = model(X_test_tensor).round()  # Predict on test data and round the outputs\n",
    "    y_predict_val = model(X_val_tensor).round()  # Predict on validation data and round the outputs\n",
    "\n",
    "# Calculate accuracy using torchmetrics\n",
    "accuracy = Accuracy(task=\"binary\")"
   ]
  },
  {
   "cell_type": "code",
   "execution_count": 14,
   "id": "a8b264e9-bbf0-40ec-9b21-6c167220bb61",
   "metadata": {
    "executionCancelledAt": null,
    "executionTime": null,
    "lastExecutedAt": null,
    "lastExecutedByKernel": null,
    "lastScheduledRunId": null,
    "lastSuccessfullyExecutedCode": null,
    "outputsMetadata": {
     "0": {
      "height": 80,
      "type": "stream"
     }
    }
   },
   "outputs": [
    {
     "name": "stdout",
     "output_type": "stream",
     "text": [
      "Training accuracy: 0.36119264364242554\n",
      "Validation accuracy: 0.8614466786384583\n",
      "Testing accuracy: 0.9394285678863525\n"
     ]
    }
   ],
   "source": [
    "train_accuracy = accuracy(y_predict_train, y_train_tensor)\n",
    "test_accuracy = accuracy(y_predict_test, y_test_tensor)\n",
    "val_accuracy = accuracy(y_predict_val, y_val_tensor)\n",
    "\n",
    "train_accuracy = train_accuracy.item()\n",
    "test_accuracy = test_accuracy.item()\n",
    "val_accuracy = val_accuracy.item()\n",
    "\n",
    "print(\"Training accuracy: {0}\".format(train_accuracy))\n",
    "print(\"Validation accuracy: {0}\".format(val_accuracy))\n",
    "print(\"Testing accuracy: {0}\".format(test_accuracy))"
   ]
  }
 ],
 "metadata": {
  "colab": {
   "name": "Welcome to DataCamp Workspaces.ipynb",
   "provenance": []
  },
  "editor": "DataLab",
  "kernelspec": {
   "display_name": "base",
   "language": "python",
   "name": "python3"
  },
  "language_info": {
   "codemirror_mode": {
    "name": "ipython",
    "version": 3
   },
   "file_extension": ".py",
   "mimetype": "text/x-python",
   "name": "python",
   "nbconvert_exporter": "python",
   "pygments_lexer": "ipython3",
   "version": "3.12.7"
  }
 },
 "nbformat": 4,
 "nbformat_minor": 5
}
