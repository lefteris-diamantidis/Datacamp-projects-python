{
 "cells": [
  {
   "cell_type": "markdown",
   "id": "a09e6d54-bf3f-4632-b299-bd49d5c80d5f",
   "metadata": {},
   "source": [
    "![Two data scientists working on a dashboard.](hr-image-small.png)\n",
    "\n",
    "A common problem when creating models to generate business value from data is that the datasets can be so large that it can take days for the model to generate predictions. Ensuring that your dataset is stored as efficiently as possible is crucial for allowing these models to run on a more reasonable timescale without having to reduce the size of the dataset.\n",
    "\n",
    "You've been hired by a major online data science training provider called *Training Data Ltd.* to clean up one of their largest customer datasets. This dataset will eventually be used to predict whether their students are looking for a new job or not, information that they will then use to direct them to prospective recruiters.\n",
    "\n",
    "You've been given access to `customer_train.csv`, which is a subset of their entire customer dataset, so you can create a proof-of-concept of a much more efficient storage solution. The dataset contains anonymized student information, and whether they were looking for a new job or not during training:\n",
    "\n",
    "| Column       | Description                                  |\n",
    "|------------- |--------------------------------------------- |\n",
    "| `student_id`   | A unique ID for each student.                 |\n",
    "| `city`  | A code for the city the student lives in.  |\n",
    "| `city_development_index` | A scaled development index for the city.       |\n",
    "| `gender` | The student's gender.       |\n",
    "| `relevant_experience` | An indicator of the student's work relevant experience.       |\n",
    "| `enrolled_university` | The type of university course enrolled in (if any).       |\n",
    "| `education_level` | The student's education level.       |\n",
    "| `major_discipline` | The educational discipline of the student.       |\n",
    "| `experience` | The student's total work experience (in years).       |\n",
    "| `company_size` | The number of employees at the student's current employer.       |\n",
    "| `last_new_job` | The number of years between the student's current and previous jobs.       |\n",
    "| `training_hours` | The number of hours of training completed.       |\n",
    "| `job_change` | An indicator of whether the student is looking for a new job (`1`) or not (`0`).       |"
   ]
  },
  {
   "cell_type": "code",
   "execution_count": 1,
   "id": "73f7f8f1",
   "metadata": {},
   "outputs": [
    {
     "name": "stdout",
     "output_type": "stream",
     "text": [
      "   student_id      city  city_development_index gender      relevant_experience enrolled_university education_level major_discipline experience company_size    company_type last_new_job  training_hours  job_change\n",
      "0        8949  city_103                   0.920   Male  Has relevant experience       no_enrollment        Graduate             STEM        >20          NaN             NaN            1              36           1\n",
      "1       29725   city_40                   0.776   Male   No relevant experience       no_enrollment        Graduate             STEM         15        50-99         Pvt Ltd           >4              47           0\n",
      "2       11561   city_21                   0.624    NaN   No relevant experience    Full time course        Graduate             STEM          5          NaN             NaN        never              83           0\n",
      "3       33241  city_115                   0.789    NaN   No relevant experience                 NaN        Graduate  Business Degree         <1          NaN         Pvt Ltd        never              52           1\n",
      "4         666  city_162                   0.767   Male  Has relevant experience       no_enrollment         Masters             STEM        >20        50-99  Funded Startup            4               8           0\n"
     ]
    }
   ],
   "source": [
    "# Start your code here!\n",
    "import pandas as pd\n",
    "\n",
    "pd.set_option('display.max_columns', None)  # Show all columns in the DataFrame\n",
    "pd.set_option(\"display.width\", 1000)\n",
    "\n",
    "# Load the dataset and create a copy\n",
    "ds_jobs = pd.read_csv(\"customer_train.csv\")\n",
    "ds_jobs_transformed = ds_jobs.copy()\n",
    "print(ds_jobs_transformed.head())"
   ]
  },
  {
   "cell_type": "markdown",
   "id": "27fa7579",
   "metadata": {},
   "source": [
    "The Head Data Scientist at Training Data Ltd. has asked you to create a DataFrame called `ds_jobs_transformed` that stores the data in `customer_train.csv` much more efficiently. Specifically, they have set the following requirements:\n",
    "\n",
    "- Columns containing categories with only two factors must be stored as Booleans (`bool`).\n",
    "- Columns containing integers only must be stored as 32-bit integers (`int32`).\n",
    "- Columns containing floats must be stored as 16-bit floats (`float16`).\n",
    "- Columns containing nominal categorical data must be stored as the `category` data type.\n",
    "- Columns containing ordinal categorical data must be stored as ordered categories, and not mapped to numerical values, with an order that reflects the natural order of the column.\n",
    "- The DataFrame should be filtered to only contain students with 10 or more years of experience at companies with at least 1000 employees, as their recruiter base is suited to more experienced professionals at enterprise companies."
   ]
  },
  {
   "cell_type": "code",
   "execution_count": 2,
   "id": "9df8e078",
   "metadata": {},
   "outputs": [
    {
     "name": "stdout",
     "output_type": "stream",
     "text": [
      "['Has relevant experience' 'No relevant experience']\n",
      "['no_enrollment' 'Full time course' nan 'Part time course']\n",
      "['Graduate' 'Masters' 'High School' nan 'Phd' 'Primary School']\n",
      "['STEM' 'Business Degree' nan 'Arts' 'Humanities' 'No Major' 'Other']\n",
      "['>20' '15' '5' '<1' '11' '13' '7' '17' '2' '16' '1' '4' '10' '14' '18'\n",
      " '19' '12' '3' '6' '9' '8' '20' nan]\n",
      "[nan '50-99' '<10' '10000+' '5000-9999' '1000-4999' '10-49' '100-499'\n",
      " '500-999']\n",
      "['1' '>4' 'never' '4' '3' '2' nan]\n",
      "[1 0]\n"
     ]
    }
   ],
   "source": [
    "print(ds_jobs_transformed.relevant_experience.unique())\n",
    "print(ds_jobs_transformed.enrolled_university.unique())\n",
    "print(ds_jobs_transformed.education_level.unique())\n",
    "print(ds_jobs_transformed.major_discipline.unique())\n",
    "print(ds_jobs_transformed.experience.unique())\n",
    "print(ds_jobs_transformed.company_size.unique())\n",
    "print(ds_jobs_transformed.last_new_job.unique())\n",
    "print(ds_jobs_transformed.job_change.unique())"
   ]
  },
  {
   "cell_type": "code",
   "execution_count": 3,
   "id": "5f182667",
   "metadata": {},
   "outputs": [],
   "source": [
    "ordered_cats = {\n",
    "    'enrolled_university': ['no_enrollment', 'Part time course', 'Full time course'],\n",
    "    'education_level': ['Primary School', 'High School', 'Graduate', 'Masters', 'Phd'],\n",
    "    'experience': ['<1'] + list(map(str, range(1, 21))) + ['>20'],\n",
    "    'company_size': ['<10', '10-49', '50-99', '100-499', '500-999', '1000-4999', '5000-9999', '10000+'],\n",
    "    'last_new_job': ['never', '1', '2', '3', '4', '>4']\n",
    "}\n",
    "\n",
    "# Create a mapping dictionary of columns containing two-factor categories to convert to Booleans\n",
    "two_factor_cats = {\n",
    "    'relevant_experience': {'No relevant experience': False, 'Has relevant experience': True},\n",
    "    'job_change': {0.0: False, 1.0: True}\n",
    "}"
   ]
  },
  {
   "cell_type": "code",
   "execution_count": 19,
   "id": "ce7b3433",
   "metadata": {},
   "outputs": [],
   "source": [
    "for col in ds_jobs_transformed:\n",
    "    \n",
    "    # Convert two-factor categories to bool\n",
    "    if col in ['relevant_experience', 'job_change']:\n",
    "        ds_jobs_transformed[col] = ds_jobs_transformed[col].map(two_factor_cats[col])\n",
    "    \n",
    "    # Convert integer columns to int32\n",
    "    elif col in ['student_id', 'training_hours']:\n",
    "        ds_jobs_transformed[col] = ds_jobs_transformed[col].astype('int32')\n",
    "    \n",
    "    # Convert float columns to float16\n",
    "    elif col == 'city_development_index':\n",
    "        ds_jobs_transformed[col] = ds_jobs_transformed[col].astype('float16')\n",
    "    \n",
    "    # Convert columns containing ordered categorical data to ordered categories using dict\n",
    "    elif col in ordered_cats.keys():\n",
    "        category = pd.CategoricalDtype(ordered_cats[col], ordered=True)\n",
    "        ds_jobs_transformed[col] = ds_jobs_transformed[col].astype(category)\n",
    "    \n",
    "    # Convert remaining columns to standard categories\n",
    "    else:\n",
    "        ds_jobs_transformed[col] = ds_jobs_transformed[col].astype('category')\n",
    "        \n",
    "# Filter students with 10 or more years experience at companies with at least 1000 employees\n",
    "ds_jobs_transformed = ds_jobs_transformed[(ds_jobs_transformed['experience'] >= '10') & (ds_jobs_transformed['company_size'] >= '1000-4999')]"
   ]
  },
  {
   "cell_type": "code",
   "execution_count": 20,
   "id": "28fb72c9",
   "metadata": {},
   "outputs": [
    {
     "name": "stdout",
     "output_type": "stream",
     "text": [
      "<class 'pandas.core.frame.DataFrame'>\n",
      "Index: 2201 entries, 9 to 19143\n",
      "Data columns (total 14 columns):\n",
      " #   Column                  Non-Null Count  Dtype   \n",
      "---  ------                  --------------  -----   \n",
      " 0   student_id              2201 non-null   int32   \n",
      " 1   city                    2201 non-null   category\n",
      " 2   city_development_index  2201 non-null   float16 \n",
      " 3   gender                  1821 non-null   category\n",
      " 4   relevant_experience     0 non-null      object  \n",
      " 5   enrolled_university     2185 non-null   category\n",
      " 6   education_level         2184 non-null   category\n",
      " 7   major_discipline        2097 non-null   category\n",
      " 8   experience              2201 non-null   category\n",
      " 9   company_size            2201 non-null   category\n",
      " 10  company_type            2144 non-null   category\n",
      " 11  last_new_job            2184 non-null   category\n",
      " 12  training_hours          2201 non-null   int32   \n",
      " 13  job_change              0 non-null      object  \n",
      "dtypes: category(9), float16(1), int32(2), object(2)\n",
      "memory usage: 97.3+ KB\n"
     ]
    }
   ],
   "source": [
    "ds_jobs_transformed.info()"
   ]
  },
  {
   "cell_type": "markdown",
   "id": "668e1019",
   "metadata": {},
   "source": [
    "If you call `.info()` or `.memory_usage()` methods on `ds_jobs` and `ds_jobs_transformed` after you've preprocessed it, you should notice a substantial decrease in memory usage."
   ]
  }
 ],
 "metadata": {
  "editor": "DataCamp Workspace",
  "kernelspec": {
   "display_name": "base",
   "language": "python",
   "name": "python3"
  },
  "language_info": {
   "codemirror_mode": {
    "name": "ipython",
    "version": 3
   },
   "file_extension": ".py",
   "mimetype": "text/x-python",
   "name": "python",
   "nbconvert_exporter": "python",
   "pygments_lexer": "ipython3",
   "version": "3.12.7"
  }
 },
 "nbformat": 4,
 "nbformat_minor": 5
}
