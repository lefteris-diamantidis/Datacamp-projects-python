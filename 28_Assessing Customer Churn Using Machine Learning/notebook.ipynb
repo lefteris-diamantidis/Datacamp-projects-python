{
 "cells": [
  {
   "cell_type": "markdown",
   "id": "cdd466f9-a72a-44df-9e00-6926a97a4923",
   "metadata": {},
   "source": [
    "![Cartoon of telecom customers](IMG_8811.png)\n"
   ]
  },
  {
   "cell_type": "markdown",
   "id": "dafa483a-e084-4ba8-9236-5c0468364e0d",
   "metadata": {},
   "source": [
    "The telecommunications (telecom) sector in India is rapidly changing, with more and more telecom businesses being created and many customers deciding to switch between providers. \"Churn\" refers to the process where customers or subscribers stop using a company's services or products. Understanding the factors that influence keeping a customer as a client in predicting churn is crucial for telecom companies to enhance their service quality and customer satisfaction. As the data scientist on this project, you aim to explore the intricate dynamics of customer behavior and demographics in the Indian telecom sector in predicting customer churn, utilizing two comprehensive datasets from four major telecom partners: Airtel, Reliance Jio, Vodafone, and BSNL:\n",
    "\n",
    "- `telecom_demographics.csv` contains information related to Indian customer demographics:\n",
    "\n",
    "| Variable             | Description                                      |\n",
    "|----------------------|--------------------------------------------------|\n",
    "| `customer_id `         | Unique identifier for each customer.             |\n",
    "| `telecom_partner `     | The telecom partner associated with the customer.|\n",
    "| `gender `              | The gender of the customer.                      |\n",
    "| `age `                 | The age of the customer.                         |\n",
    "| `state`                | The Indian state in which the customer is located.|\n",
    "| `city`                 | The city in which the customer is located.       |\n",
    "| `pincode`              | The pincode of the customer's location.          |\n",
    "| `registration_event` | When the customer registered with the telecom partner.|\n",
    "| `num_dependents`      | The number of dependents (e.g., children) the customer has.|\n",
    "| `estimated_salary`     | The customer's estimated salary.                 |\n",
    "\n",
    "- `telecom_usage` contains information about the usage patterns of Indian customers:\n",
    "\n",
    "| Variable   | Description                                                  |\n",
    "|------------|--------------------------------------------------------------|\n",
    "| `customer_id` | Unique identifier for each customer.                         |\n",
    "| `calls_made` | The number of calls made by the customer.                    |\n",
    "| `sms_sent`   | The number of SMS messages sent by the customer.             |\n",
    "| `data_used`  | The amount of data used by the customer.                     |\n",
    "| `churn`    | Binary variable indicating whether the customer has churned or not (1 = churned, 0 = not churned).|\n"
   ]
  },
  {
   "cell_type": "code",
   "execution_count": 17,
   "id": "8be04dd8",
   "metadata": {},
   "outputs": [],
   "source": [
    "# Import required libraries and methods/functions\n",
    "import pandas as pd\n",
    "from sklearn.preprocessing import StandardScaler, OneHotEncoder \n",
    "# OneHotEncoder is not needed if using pd.get_dummies()\n",
    "from sklearn.model_selection import train_test_split\n",
    "from sklearn.linear_model import LogisticRegression \n",
    "from sklearn.ensemble import RandomForestClassifier\n",
    "from sklearn.metrics import classification_report, confusion_matrix\n",
    "\n",
    "import warnings\n",
    "warnings.filterwarnings(\"ignore\")\n",
    "\n",
    "pd.set_option(\"display.width\", 1000)"
   ]
  },
  {
   "cell_type": "markdown",
   "id": "468533f5",
   "metadata": {},
   "source": [
    "Does Logistic Regression or Random Forest produce a higher accuracy score in predicting telecom churn in India?\n",
    "\n",
    "- Load the two CSV files into separate DataFrames. Merge them into a DataFrame named `churn_df`. Calculate the proportion of customers who have churned, and identify the categorical variables in `churn_df`."
   ]
  },
  {
   "cell_type": "code",
   "execution_count": 11,
   "id": "e32d55c9",
   "metadata": {},
   "outputs": [
    {
     "name": "stdout",
     "output_type": "stream",
     "text": [
      "Index(['customer_id', 'telecom_partner', 'gender', 'age', 'state', 'city', 'pincode', 'registration_event', 'num_dependents', 'estimated_salary'], dtype='object')\n",
      "Index(['customer_id', 'calls_made', 'sms_sent', 'data_used', 'churn'], dtype='object')\n"
     ]
    }
   ],
   "source": [
    "telecom_demog = pd.read_csv(\"telecom_demographics.csv\")\n",
    "telecom_usage = pd.read_csv(\"telecom_usage.csv\")\n",
    "\n",
    "print(telecom_demog.columns)\n",
    "print(telecom_usage.columns)"
   ]
  },
  {
   "cell_type": "code",
   "execution_count": 12,
   "id": "90228568",
   "metadata": {},
   "outputs": [
    {
     "name": "stdout",
     "output_type": "stream",
     "text": [
      "   customer_id telecom_partner gender  age             state       city  pincode registration_event  num_dependents  estimated_salary  calls_made  sms_sent  data_used  churn\n",
      "0        15169          Airtel      F   26  Himachal Pradesh      Delhi   667173         2020-03-16               4             85979          75        21       4532      1\n",
      "1       149207          Airtel      F   74       Uttarakhand  Hyderabad   313997         2022-01-16               0             69445          35        38        723      1\n",
      "2       148119          Airtel      F   54         Jharkhand    Chennai   549925         2022-01-11               2             75949          70        47       4688      1\n",
      "3       187288    Reliance Jio      M   29             Bihar  Hyderabad   230636         2022-07-26               3             34272          95        32      10241      1\n",
      "4        14016        Vodafone      M   45          Nagaland  Bangalore   188036         2020-03-11               4             34157          66        23       5246      1\n"
     ]
    }
   ],
   "source": [
    "churn_df = telecom_demog.merge(telecom_usage, on='customer_id')\n",
    "print(churn_df.head())"
   ]
  },
  {
   "cell_type": "code",
   "execution_count": 13,
   "id": "06d5a8c5",
   "metadata": {},
   "outputs": [
    {
     "name": "stdout",
     "output_type": "stream",
     "text": [
      "churn\n",
      "0    0.799538\n",
      "1    0.200462\n",
      "Name: count, dtype: float64\n"
     ]
    }
   ],
   "source": [
    "churn_rate = churn_df['churn'].value_counts() / len(churn_df)\n",
    "print(churn_rate)"
   ]
  },
  {
   "cell_type": "code",
   "execution_count": 14,
   "id": "fc411aff",
   "metadata": {},
   "outputs": [
    {
     "name": "stdout",
     "output_type": "stream",
     "text": [
      "<class 'pandas.core.frame.DataFrame'>\n",
      "RangeIndex: 6500 entries, 0 to 6499\n",
      "Data columns (total 14 columns):\n",
      " #   Column              Non-Null Count  Dtype \n",
      "---  ------              --------------  ----- \n",
      " 0   customer_id         6500 non-null   int64 \n",
      " 1   telecom_partner     6500 non-null   object\n",
      " 2   gender              6500 non-null   object\n",
      " 3   age                 6500 non-null   int64 \n",
      " 4   state               6500 non-null   object\n",
      " 5   city                6500 non-null   object\n",
      " 6   pincode             6500 non-null   int64 \n",
      " 7   registration_event  6500 non-null   object\n",
      " 8   num_dependents      6500 non-null   int64 \n",
      " 9   estimated_salary    6500 non-null   int64 \n",
      " 10  calls_made          6500 non-null   int64 \n",
      " 11  sms_sent            6500 non-null   int64 \n",
      " 12  data_used           6500 non-null   int64 \n",
      " 13  churn               6500 non-null   int64 \n",
      "dtypes: int64(9), object(5)\n",
      "memory usage: 711.1+ KB\n",
      "None\n"
     ]
    }
   ],
   "source": [
    "print(churn_df.info())"
   ]
  },
  {
   "cell_type": "markdown",
   "id": "fe140d87",
   "metadata": {},
   "source": [
    "- Convert categorical features in `churn_df` into `features_scaled`. Perform feature scaling separating the appropriate features and scale them. Define your scaled features and `target` variable for the churn prediction model."
   ]
  },
  {
   "cell_type": "code",
   "execution_count": 15,
   "id": "5aa616c0",
   "metadata": {},
   "outputs": [],
   "source": [
    "churn_df = pd.get_dummies(churn_df, columns=['telecom_partner', 'gender', 'state', 'city', 'registration_event'])\n",
    "\n",
    "scaler = StandardScaler()\n",
    "\n",
    "features = churn_df.drop(['customer_id', 'churn'], axis=1)\n",
    "features_scaled = scaler.fit_transform(features)\n",
    "\n",
    "target = churn_df['churn']"
   ]
  },
  {
   "cell_type": "markdown",
   "id": "74e78158",
   "metadata": {},
   "source": [
    "- Split the processed data into training and testing sets giving names of `X_train`, `X_test`, `y_train`, and `y_test` using an 80-20 split, setting a random state of `42` for reproducibility."
   ]
  },
  {
   "cell_type": "code",
   "execution_count": 16,
   "id": "7a83ee94",
   "metadata": {},
   "outputs": [],
   "source": [
    "X_train, X_test, y_train, y_test = train_test_split(features_scaled, target, test_size=0.2, random_state=42)"
   ]
  },
  {
   "cell_type": "markdown",
   "id": "ae36c8a3",
   "metadata": {},
   "source": [
    "- Train Logistic Regression and Random Forest Classifier models, setting a random seed of `42`. Store model predictions in `logreg_pred` and `rf_pred`."
   ]
  },
  {
   "cell_type": "code",
   "execution_count": 19,
   "id": "197fa65f",
   "metadata": {},
   "outputs": [
    {
     "name": "stdout",
     "output_type": "stream",
     "text": [
      "[[911 116]\n",
      " [243  30]]\n",
      "              precision    recall  f1-score   support\n",
      "\n",
      "           0       0.79      0.89      0.84      1027\n",
      "           1       0.21      0.11      0.14       273\n",
      "\n",
      "    accuracy                           0.72      1300\n",
      "   macro avg       0.50      0.50      0.49      1300\n",
      "weighted avg       0.67      0.72      0.69      1300\n",
      "\n"
     ]
    }
   ],
   "source": [
    "logreg = LogisticRegression(random_state=42)\n",
    "logreg.fit(X_train, y_train)\n",
    "\n",
    "logreg_pred = logreg.predict(X_test)\n",
    "\n",
    "print(confusion_matrix(y_test, logreg_pred))\n",
    "print(classification_report(y_test, logreg_pred))"
   ]
  },
  {
   "cell_type": "code",
   "execution_count": 20,
   "id": "7f1644bb",
   "metadata": {},
   "outputs": [
    {
     "name": "stdout",
     "output_type": "stream",
     "text": [
      "[[1026    1]\n",
      " [ 273    0]]\n",
      "              precision    recall  f1-score   support\n",
      "\n",
      "           0       0.79      1.00      0.88      1027\n",
      "           1       0.00      0.00      0.00       273\n",
      "\n",
      "    accuracy                           0.79      1300\n",
      "   macro avg       0.39      0.50      0.44      1300\n",
      "weighted avg       0.62      0.79      0.70      1300\n",
      "\n"
     ]
    }
   ],
   "source": [
    "# Instantiate the Random Forest model\n",
    "rf = RandomForestClassifier(random_state=42)\n",
    "rf.fit(X_train, y_train)\n",
    "\n",
    "# Random Forest predictions\n",
    "rf_pred = rf.predict(X_test)\n",
    "\n",
    "# Random Forest evaluation\n",
    "print(confusion_matrix(y_test, rf_pred))\n",
    "print(classification_report(y_test, rf_pred))"
   ]
  },
  {
   "cell_type": "markdown",
   "id": "52e5adc3",
   "metadata": {},
   "source": [
    "- Assess the models on test data. Assign the model's name with higher accuracy (`\"LogisticRegression\"` or `\"RandomForest\"`) to `higher_accuracy`."
   ]
  },
  {
   "cell_type": "code",
   "execution_count": 21,
   "id": "69a1642e",
   "metadata": {},
   "outputs": [
    {
     "name": "stdout",
     "output_type": "stream",
     "text": [
      "RandomForest\n"
     ]
    }
   ],
   "source": [
    "higher_accuracy = 'RandomForest'\n",
    "print(higher_accuracy)"
   ]
  }
 ],
 "metadata": {
  "colab": {
   "name": "Welcome to DataCamp Workspaces.ipynb",
   "provenance": []
  },
  "kernelspec": {
   "display_name": "base",
   "language": "python",
   "name": "python3"
  },
  "language_info": {
   "codemirror_mode": {
    "name": "ipython",
    "version": 3
   },
   "file_extension": ".py",
   "mimetype": "text/x-python",
   "name": "python",
   "nbconvert_exporter": "python",
   "pygments_lexer": "ipython3",
   "version": "3.12.7"
  }
 },
 "nbformat": 4,
 "nbformat_minor": 5
}
