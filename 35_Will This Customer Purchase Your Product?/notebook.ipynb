{
 "cells": [
  {
   "cell_type": "markdown",
   "id": "67065ba3-366a-4275-ba63-22c0e066d136",
   "metadata": {},
   "source": [
    "<img src=\"rupixen-Q59HmzK38eQ-unsplash.jpg\" alt=\"Someone is trying to purchase a produce online\" width=\"500\"/>"
   ]
  },
  {
   "cell_type": "markdown",
   "id": "fe2cbf96-ad4d-4165-8981-1b301108f5bc",
   "metadata": {
    "collapsed": false,
    "jupyter": {
     "outputs_hidden": false,
     "source_hidden": false
    }
   },
   "source": [
    "Online shopping decisions rely on how consumers engage with online store content. You work for a new startup company that has just launched a new online shopping website. The marketing team asks you, a new data scientist, to review a dataset of online shoppers' purchasing intentions gathered over the last year. Specifically, the team wants you to generate some insights into customer browsing behaviors in November and December, the busiest months for shoppers. You have decided to identify two groups of customers: those with a low purchase rate and returning customers. After identifying these groups, you want to determine the probability that any of these customers will make a purchase in a new marketing campaign to help gauge potential success for next year's sales.\n",
    "\n",
    "### Data description:\n",
    "\n",
    "You are given an `online_shopping_session_data.csv` that contains several columns about each shopping session. Each shopping session corresponded to a single user. \n",
    "\n",
    "|Column|Description|\n",
    "|--------|-----------|\n",
    "|`SessionID`|unique session ID|\n",
    "|`Administrative`|number of pages visited related to the customer account|\n",
    "|`Administrative_Duration`|total amount of time spent (in seconds) on administrative pages|\n",
    "|`Informational`|number of pages visited related to the website and the company|\n",
    "|`Informational_Duration`|total amount of time spent (in seconds) on informational pages|\n",
    "|`ProductRelated`|number of pages visited related to available products|\n",
    "|`ProductRelated_Duration`|total amount of time spent (in seconds) on product-related pages|\n",
    "|`BounceRates`|average bounce rate of pages visited by the customer|\n",
    "|`ExitRates`|average exit rate of pages visited by the customer|\n",
    "|`PageValues`|average page value of pages visited by the customer|\n",
    "|`SpecialDay`|closeness of the site visiting time to a specific special day|\n",
    "|`Weekend`|indicator whether the session is on a weekend|\n",
    "|`Month`|month of the session date|\n",
    "|`CustomerType`|customer type|\n",
    "|`Purchase`|class label whether the customer make a purchase|"
   ]
  },
  {
   "cell_type": "code",
   "execution_count": 1,
   "id": "b841fb9f-4e70-4796-9f35-7c6bbba3cca2",
   "metadata": {
    "executionCancelledAt": null,
    "executionTime": null,
    "lastExecutedAt": null,
    "lastExecutedByKernel": null,
    "lastScheduledRunId": null,
    "lastSuccessfullyExecutedCode": null,
    "outputsMetadata": {
     "0": {
      "height": 218,
      "type": "dataFrame"
     }
    }
   },
   "outputs": [
    {
     "name": "stdout",
     "output_type": "stream",
     "text": [
      "   SessionID  Administrative  Administrative_Duration  Informational  Informational_Duration  ProductRelated  ProductRelated_Duration  BounceRates  ExitRates  PageValues  SpecialDay  Weekend Month        CustomerType  Purchase\n",
      "0          1               0                      0.0              0                     0.0               1                 0.000000         0.20       0.20         0.0         0.0    False   Feb  Returning_Customer       0.0\n",
      "1          2               0                      0.0              0                     0.0               2                64.000000         0.00       0.10         0.0         0.0    False   Feb  Returning_Customer       0.0\n",
      "2          3               0                      0.0              0                     0.0               1                 0.000000         0.20       0.20         0.0         0.0    False   Feb  Returning_Customer       0.0\n",
      "3          4               0                      0.0              0                     0.0               2                 2.666667         0.05       0.14         0.0         0.0    False   Feb  Returning_Customer       0.0\n",
      "4          5               0                      0.0              0                     0.0              10               627.500000         0.02       0.05         0.0         0.0     True   Feb  Returning_Customer       0.0\n"
     ]
    }
   ],
   "source": [
    "# Import required libraries\n",
    "import pandas as pd\n",
    "import numpy as np\n",
    "import matplotlib.pyplot as plt\n",
    "from scipy import stats\n",
    "import warnings\n",
    "warnings.filterwarnings(\"ignore\")\n",
    "\n",
    "pd.set_option(\"display.width\", 1000)\n",
    "\n",
    "# Load and view your data\n",
    "shopping_data = pd.read_csv(\"online_shopping_session_data.csv\")\n",
    "print(shopping_data.head())"
   ]
  },
  {
   "cell_type": "markdown",
   "id": "aaaa3a9c",
   "metadata": {},
   "source": [
    "The marketing team asked you to analyze the behavior of online customers during November and December, the busiest months for shoppers.\n",
    "\n",
    "What are the purchase rates for online shopping sessions by customer type for November and December? Store the result in a dictionary called `purchase_rates` in the format below using the exact names for keys.\n",
    "`purchase_rates = {\"Returning_Customer\": 0.254, \"New_Customer\": 0.276}`"
   ]
  },
  {
   "cell_type": "code",
   "execution_count": 2,
   "id": "5b24209a",
   "metadata": {},
   "outputs": [
    {
     "name": "stdout",
     "output_type": "stream",
     "text": [
      "      SessionID  Administrative  Administrative_Duration  Informational  Informational_Duration  ProductRelated  ProductRelated_Duration  BounceRates  ExitRates  PageValues  SpecialDay  Weekend Month        CustomerType  Purchase\n",
      "5463       5464               1                     39.2              2                   120.8               7                80.500000     0.000000   0.010000    0.000000         0.0     True   Nov        New_Customer       0.0\n",
      "5464       5465               3                     89.6              0                     0.0              57              1721.906667     0.000000   0.005932  204.007949         0.0     True   Nov  Returning_Customer       1.0\n",
      "5467       5468               4                    204.2              0                     0.0              31               652.376667     0.012121   0.016162    0.000000         0.0    False   Nov  Returning_Customer       0.0\n",
      "5479       5480               0                      0.0              0                     0.0              13               710.066667     0.000000   0.007692   72.522838         0.0    False   Nov  Returning_Customer       1.0\n",
      "5494       5495               0                      0.0              0                     0.0              24               968.692424     0.000000   0.000000  106.252517         0.0    False   Nov  Returning_Customer       1.0\n"
     ]
    }
   ],
   "source": [
    "shopping_Nov_Dec = shopping_data[shopping_data['Month'].isin(['Nov', 'Dec'])]\n",
    "print(shopping_Nov_Dec.head())"
   ]
  },
  {
   "cell_type": "code",
   "execution_count": 3,
   "id": "9f1bf037",
   "metadata": {},
   "outputs": [
    {
     "name": "stdout",
     "output_type": "stream",
     "text": [
      "['Nov' 'Dec']\n"
     ]
    }
   ],
   "source": [
    "print(shopping_Nov_Dec['Month'].unique())"
   ]
  },
  {
   "cell_type": "code",
   "execution_count": 4,
   "id": "5ee55fbb",
   "metadata": {},
   "outputs": [
    {
     "name": "stdout",
     "output_type": "stream",
     "text": [
      "CustomerType        Purchase\n",
      "New_Customer        0.0          529\n",
      "                    1.0          199\n",
      "Returning_Customer  0.0         2994\n",
      "                    1.0          728\n",
      "Name: count, dtype: int64\n"
     ]
    }
   ],
   "source": [
    "count_session = shopping_Nov_Dec.groupby(['CustomerType'])['Purchase'].value_counts()\n",
    "print(count_session)"
   ]
  },
  {
   "cell_type": "code",
   "execution_count": 5,
   "id": "7ec0fd79",
   "metadata": {},
   "outputs": [
    {
     "name": "stdout",
     "output_type": "stream",
     "text": [
      "{'Returning_Customer': 0.1955937667920473, 'New_Customer': 0.2733516483516483}\n"
     ]
    }
   ],
   "source": [
    "# Total number of session by CustomerType\n",
    "total_new_customer = np.sum(count_session['New_Customer'])\n",
    "total_returning_customer = np.sum(count_session['Returning_Customer'])\n",
    "\n",
    "# Total number of purchase by CustomerType\n",
    "purchase_new_customer = count_session[('New_Customer', 1)]\n",
    "purchase_returning_customer = count_session[('Returning_Customer', 1)]\n",
    "\n",
    "# Calculate purchase rates\n",
    "purchase_rate_new = purchase_new_customer / total_new_customer\n",
    "purchase_rate_returning = purchase_returning_customer / total_returning_customer\n",
    "\n",
    "# Therefore, the online purchase for the returning customers is lower than that of the new customers.\n",
    "purchase_rates = {\"Returning_Customer\": purchase_rate_returning, \"New_Customer\": purchase_rate_new}\n",
    "print(purchase_rates)"
   ]
  },
  {
   "cell_type": "markdown",
   "id": "8f83acf7",
   "metadata": {},
   "source": [
    "What is the strongest correlation in total time spent among page types by returning customers in November and December? Store the result in a dictionary called `top_correlation` in the format below using the exact names for keys.\n",
    "`top_correlation = {\"pair\": (x_duration, y_duration), \"correlation\": 0.345}`"
   ]
  },
  {
   "cell_type": "code",
   "execution_count": 6,
   "id": "640acfb2",
   "metadata": {},
   "outputs": [
    {
     "name": "stdout",
     "output_type": "stream",
     "text": [
      "0.24468855792839223\n",
      "0.3898546003206961\n",
      "0.36712552534442083\n",
      "{'pair': ('Administrative_Duration', 'ProductRelated_Duration'), 'correlation': 0.3898546003206961}\n"
     ]
    }
   ],
   "source": [
    "cor_admin_info = shopping_Nov_Dec['Administrative_Duration'].corr(shopping_Nov_Dec['Informational_Duration'])\n",
    "cor_admin_product = shopping_Nov_Dec['Administrative_Duration'].corr(shopping_Nov_Dec['ProductRelated_Duration'])\n",
    "cor_product_info = shopping_Nov_Dec['ProductRelated_Duration'].corr(shopping_Nov_Dec['Informational_Duration'])\n",
    "\n",
    "print(cor_admin_info)\n",
    "print(cor_admin_product)\n",
    "print(cor_product_info)\n",
    "\n",
    "top_correlation = {\"pair\": ('Administrative_Duration', 'ProductRelated_Duration'), \"correlation\": cor_admin_product}\n",
    "print(top_correlation)"
   ]
  },
  {
   "cell_type": "markdown",
   "id": "15ec1732",
   "metadata": {},
   "source": [
    "A new campaign for the returning customers will boost the purchase rate by 15%. What is the likelihood of achieving at least 100 sales out of 500 online shopping sessions for the returning customers? Store the result in a variable called `prob_at_least_100_sales`. Optional: plot a binomial probability distribution chart to visualize your chances."
   ]
  },
  {
   "cell_type": "code",
   "execution_count": 7,
   "id": "2fd7809b-b635-4db1-9d56-29391ff1cb00",
   "metadata": {
    "executionCancelledAt": null,
    "executionTime": 1131,
    "lastExecutedAt": 1726905513514,
    "lastExecutedByKernel": "da5842ad-ca13-4716-979d-c8c469204c98",
    "lastScheduledRunId": null,
    "lastSuccessfullyExecutedCode": "# Start your code here!\n# Use as many cells as you like\n\n## Calculate the online purchase rates during online shopping sessions by customer type for November and December.\n# Subset dataframe for November and December data\nshopping_Nov_Dec = shopping_data[shopping_data['Month'].isin(['Nov', 'Dec'])]\n\n# Preview to make sure the subset is correct\nprint(shopping_Nov_Dec.head())\n\n# Make sure we only have November and December data\nprint(shopping_Nov_Dec['Month'].unique())\n\n# Get session frequency stats by CustomerType and Purchase\ncount_session = shopping_Nov_Dec.groupby(['CustomerType'])['Purchase'].value_counts()\nprint(count_session)\n\n# Total number of session by CustomerType\ntotal_new_customer = np.sum(count_session['New_Customer'])\ntotal_returning_customer = np.sum(count_session['Returning_Customer'])\n\n# Total number of purchase by CustomerType\npurchase_new_customer = count_session[('New_Customer', 1)]\npurchase_returning_customer = count_session[('Returning_Customer', 1)]\n\n# Calculate purchase rates\npurchase_rate_new = purchase_new_customer / total_new_customer\npurchase_rate_returning = purchase_returning_customer / total_returning_customer\n\n# Therefore, the online purchase for the returning customers is lower than that of the new customers.\npurchase_rates = {\"Returning_Customer\": purchase_rate_returning, \"New_Customer\": purchase_rate_new}\nprint(purchase_rates)\n\n## Identify the strongest correlation in total time spent between different types of pages visited by the returning customers during the months of November and December. \n# Calculate correlation with pandas\ncor_admin_info = shopping_Nov_Dec['Administrative_Duration'].corr(shopping_Nov_Dec['Informational_Duration'])\ncor_admin_product = shopping_Nov_Dec['Administrative_Duration'].corr(shopping_Nov_Dec['ProductRelated_Duration'])\ncor_product_info = shopping_Nov_Dec['ProductRelated_Duration'].corr(shopping_Nov_Dec['Informational_Duration'])\n\nprint(cor_admin_info)\nprint(cor_admin_product)\nprint(cor_product_info)\n\n# Another way to solve this is to use Scipy pearsonr function\n# cor_admin_info = stats.pearsonr(shopping_Nov_Dec['Administrative_Duration'], shopping_Nov_Dec['Informational_Duration'])\n\n# Another way to solve this is to use Pandas correlation matrix\n# shopping_Nov_Dec[['Administrative_Duration','Informational_Duration','ProductRelated_Duration' ]].corr()\n\n# Store top correlation\ntop_correlation = {\"pair\": ('Administrative_Duration', 'ProductRelated_Duration'), \"correlation\": cor_admin_product}\nprint(top_correlation)\n\n## A new campaign for the returning customers will boost the purchase rate by 15%. \n## What is the likelihood of achieving at least 100 sales out of 500 online shopping sessions for the returning customers?\n\n# Purchase is a binomial random variable taking the value of either 0 or 1\n# We know that the current purchase rate for the returning customers is\nprint(\"Current purchase rate for the returning customer:\", purchase_rate_returning)\n\n# 15% Increase in this rate would be\nincreased_purchase_rate_returning = 1.15 * purchase_rate_returning\nprint(\"Increased purchase rate for the returning customer:\", increased_purchase_rate_returning)\n\n# First, we find the likelihood of having <100 sales of 500 sessions\n# We can find this from binomial cdf\nprob_sales_100_less = stats.binom.cdf(k=100, n=500, p=increased_purchase_rate_returning)\nprint(\"probability of having <100 sales:\", prob_sales_100_less)\n\n# Then, to find the probability of having 100 or more sales is 1-prob_sales_100_less\nprob_at_least_100_sales = 1 - prob_sales_100_less\nprint(\"probability of having at least 100 sales:\", prob_at_least_100_sales)\n\n# Plotting the binomial probability distribution\nn_sessions = 500\nk_values = np.arange(500) + 1\np_binom_values = [stats.binom.pmf(k, n_sessions, increased_purchase_rate_returning) for k in k_values ] \nplt.bar(k_values, p_binom_values) \nplt.vlines(100, 0, 0.08, color='r', linestyle='dashed', label=\"sales=100\")\nplt.xlabel(\"number of sales\")\nplt.ylabel(\"probability\")\nplt.legend()\nplt.show()",
    "outputsMetadata": {
     "0": {
      "height": 521,
      "type": "stream"
     }
    }
   },
   "outputs": [
    {
     "name": "stdout",
     "output_type": "stream",
     "text": [
      "Current purchase rate for the returning customer: 0.1955937667920473\n"
     ]
    }
   ],
   "source": [
    "print(\"Current purchase rate for the returning customer:\", purchase_rate_returning)"
   ]
  },
  {
   "cell_type": "code",
   "execution_count": 8,
   "id": "33d71d06",
   "metadata": {},
   "outputs": [
    {
     "name": "stdout",
     "output_type": "stream",
     "text": [
      "Increased purchase rate for the returning customer: 0.22493283181085436\n"
     ]
    }
   ],
   "source": [
    "increased_purchase_rate_returning = 1.15 * purchase_rate_returning\n",
    "print(\"Increased purchase rate for the returning customer:\", increased_purchase_rate_returning)"
   ]
  },
  {
   "cell_type": "code",
   "execution_count": 9,
   "id": "a4187303",
   "metadata": {},
   "outputs": [
    {
     "name": "stdout",
     "output_type": "stream",
     "text": [
      "probability of having <100 sales: 0.0987778660962742\n"
     ]
    }
   ],
   "source": [
    "prob_sales_100_less = stats.binom.cdf(k=100, n=500, p=increased_purchase_rate_returning)\n",
    "print(\"probability of having <100 sales:\", prob_sales_100_less)"
   ]
  },
  {
   "cell_type": "code",
   "execution_count": 10,
   "id": "f6fe48e7",
   "metadata": {},
   "outputs": [
    {
     "name": "stdout",
     "output_type": "stream",
     "text": [
      "probability of having at least 100 sales: 0.9012221339037259\n"
     ]
    }
   ],
   "source": [
    "prob_at_least_100_sales = 1 - prob_sales_100_less\n",
    "print(\"probability of having at least 100 sales:\", prob_at_least_100_sales)"
   ]
  },
  {
   "cell_type": "code",
   "execution_count": 11,
   "id": "0260b088",
   "metadata": {},
   "outputs": [
    {
     "data": {
      "image/png": "[encoded data removed]",
      "text/plain": [
       "<Figure size 640x480 with 1 Axes>"
      ]
     },
     "metadata": {},
     "output_type": "display_data"
    }
   ],
   "source": [
    "n_sessions = 500\n",
    "k_values = np.arange(500) + 1\n",
    "p_binom_values = [stats.binom.pmf(k, n_sessions, increased_purchase_rate_returning) for k in k_values ] \n",
    "plt.bar(k_values, p_binom_values) \n",
    "plt.vlines(100, 0, 0.08, color='r', linestyle='dashed', label=\"sales=100\")\n",
    "plt.xlabel(\"number of sales\")\n",
    "plt.ylabel(\"probability\")\n",
    "plt.legend()\n",
    "plt.show()"
   ]
  }
 ],
 "metadata": {
  "editor": "DataLab",
  "kernelspec": {
   "display_name": "base",
   "language": "python",
   "name": "python3"
  },
  "language_info": {
   "codemirror_mode": {
    "name": "ipython",
    "version": 3
   },
   "file_extension": ".py",
   "mimetype": "text/x-python",
   "name": "python",
   "nbconvert_exporter": "python",
   "pygments_lexer": "ipython3",
   "version": "3.12.7"
  }
 },
 "nbformat": 4,
 "nbformat_minor": 5
}
