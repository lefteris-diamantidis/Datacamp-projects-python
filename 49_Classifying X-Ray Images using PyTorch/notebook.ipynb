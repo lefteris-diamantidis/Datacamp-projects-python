{
 "cells": [
  {
   "cell_type": "markdown",
   "id": "85dc467a-5830-44c0-ab74-435be0e5593c",
   "metadata": {},
   "source": [
    "Pneumonia is one of the leading respiratory illnesses worldwide, and its timely and accurate diagnosis is essential for effective treatment. Manually reviewing chest X-rays is a critical step in this process, and AI can provide valuable support by helping to expedite the assessment. In your role as a consultant data scientist, you will test the ability of a deep learning model to distinguish pneumonia cases from normal images of lungs in chest X-rays.\n",
    "\n",
    "By fine-tuning a pre-trained convolutional neural network, specifically the ResNet-18 model, your task is to classify X-ray images into two categories: normal lungs and those affected by pneumonia. You can leverage its already trained weights and get an accurate classifier trained faster and with fewer resources.\n",
    "\n",
    "## The Data\n",
    "\n",
    "<img src=\"x-rays_sample.png\" align=\"center\"/>\n",
    "&nbsp\n",
    "\n",
    "You have a dataset of chest X-rays that have been preprocessed for use with a ResNet-18 model. You can see a sample of 5 images from each category above. Upon unzipping the `chestxrays.zip` file (code provided below), you will find your dataset inside the `data/chestxrays` folder divided into `test` and `train` folders. \n",
    "\n",
    "There are 150 training images and 50 testing images for each category, NORMAL and PNEUMONIA (300 and 100 in total). For your convenience, this data has already been loaded into a `train_loader` and a `test_loader` using the `DataLoader` class from the PyTorch library. "
   ]
  },
  {
   "cell_type": "code",
   "execution_count": 1,
   "id": "0f522b79-2a5a-4472-adb9-0d924870bfa1",
   "metadata": {
    "executionCancelledAt": null,
    "executionTime": 3124,
    "lastExecutedAt": 1734809678545,
    "lastExecutedByKernel": "9624f72e-64f0-4981-b652-0709ade084df",
    "lastScheduledRunId": null,
    "lastSuccessfullyExecutedCode": "# # Make sure to run this cell to use torchmetrics.\n!pip install torch torchvision torchmetrics",
    "outputsMetadata": {
     "0": {
      "height": 528,
      "type": "stream"
     }
    }
   },
   "outputs": [],
   "source": [
    "# # Make sure to run this cell to use torchmetrics.\n",
    "# !pip install torch torchvision torchmetrics"
   ]
  },
  {
   "cell_type": "code",
   "execution_count": 10,
   "id": "cb1bedee-bcd5-4c80-a5ed-93df89af0295",
   "metadata": {
    "executionCancelledAt": null,
    "executionTime": 51,
    "lastExecutedAt": 1734809678597,
    "lastExecutedByKernel": "9624f72e-64f0-4981-b652-0709ade084df",
    "lastScheduledRunId": null,
    "lastSuccessfullyExecutedCode": "# Import required libraries\n# -------------------------\n# Data loading\nimport random\nimport numpy as np\nfrom torchvision.transforms import transforms\nfrom torchvision.datasets import ImageFolder\nfrom torch.utils.data import DataLoader\n\n# Train model\nimport torch\nfrom torchvision import models\nimport torch.nn as nn\nimport torch.optim as optim\n\n# Evaluate model\nfrom torchmetrics import Accuracy, F1Score\n\n# Set random seeds for reproducibility\ntorch.manual_seed(101010)\nnp.random.seed(101010)\nrandom.seed(101010)"
   },
   "outputs": [],
   "source": [
    "# Import required libraries\n",
    "# -------------------------\n",
    "# Data loading\n",
    "import random\n",
    "import numpy as np\n",
    "from torchvision.transforms import transforms\n",
    "from torchvision.datasets import ImageFolder\n",
    "from torch.utils.data import DataLoader\n",
    "\n",
    "# Train model\n",
    "import torch\n",
    "from torchvision import models\n",
    "import torch.nn as nn\n",
    "import torch.optim as optim\n",
    "\n",
    "# Evaluate model\n",
    "from torchmetrics import Accuracy, F1Score\n",
    "\n",
    "import os\n",
    "import zipfile\n",
    "import shutil\n",
    "import warnings\n",
    "warnings.filterwarnings(\"ignore\")\n",
    "\n",
    "# Set random seeds for reproducibility\n",
    "torch.manual_seed(101010)\n",
    "np.random.seed(101010)\n",
    "random.seed(101010)"
   ]
  },
  {
   "cell_type": "code",
   "execution_count": 3,
   "id": "dd91680d-cb63-4876-9a51-4ee6bb250c7d",
   "metadata": {
    "executionCancelledAt": null,
    "executionTime": 48,
    "lastExecutedAt": 1734809678645,
    "lastExecutedByKernel": "9624f72e-64f0-4981-b652-0709ade084df",
    "lastScheduledRunId": null,
    "lastSuccessfullyExecutedCode": "import os\nimport zipfile\n\n# Unzip the data folder\nif not os.path.exists('data/chestxrays'):\n    with zipfile.ZipFile('data/chestxrays.zip', 'r') as zip_ref:\n        zip_ref.extractall('data')"
   },
   "outputs": [],
   "source": [
    "# Unzip the data folder\n",
    "if not os.path.exists('data/chestxrays'):\n",
    "    with zipfile.ZipFile('data/chestxrays.zip', 'r') as zip_ref:\n",
    "        zip_ref.extractall('data')"
   ]
  },
  {
   "cell_type": "code",
   "execution_count": 4,
   "id": "0cc5591a-8dc1-4d7f-88d2-3b1a59fb2a5f",
   "metadata": {
    "executionCancelledAt": null,
    "executionTime": 55,
    "lastExecutedAt": 1734809678701,
    "lastExecutedByKernel": "9624f72e-64f0-4981-b652-0709ade084df",
    "lastScheduledRunId": null,
    "lastSuccessfullyExecutedCode": "# Define the transformations to apply to the images for use with ResNet-18\ntransform_mean = [0.485, 0.456, 0.406]\ntransform_std =[0.229, 0.224, 0.225]\ntransform = transforms.Compose([transforms.ToTensor(), \n                                transforms.Normalize(mean=transform_mean, std=transform_std)])\n\n# Apply the image transforms\ntrain_dataset = ImageFolder('data/chestxrays/train', transform=transform)\ntest_dataset = ImageFolder('data/chestxrays/test', transform=transform)\n\n# Create data loaders\ntrain_loader = DataLoader(train_dataset, batch_size=len(train_dataset) // 2, shuffle=True)\ntest_loader = DataLoader(test_dataset, batch_size=len(test_dataset))"
   },
   "outputs": [],
   "source": [
    "# Define the transformations to apply to the images for use with ResNet-18\n",
    "transform_mean = [0.485, 0.456, 0.406]\n",
    "transform_std =[0.229, 0.224, 0.225]\n",
    "transform = transforms.Compose([transforms.ToTensor(), \n",
    "                                transforms.Normalize(mean=transform_mean, std=transform_std)])\n",
    "\n",
    "# Apply the image transforms\n",
    "train_dataset = ImageFolder('data/chestxrays/train', transform=transform)\n",
    "test_dataset = ImageFolder('data/chestxrays/test', transform=transform)\n",
    "\n",
    "# Create data loaders\n",
    "train_loader = DataLoader(train_dataset, batch_size=len(train_dataset) // 2, shuffle=True)\n",
    "test_loader = DataLoader(test_dataset, batch_size=len(test_dataset))"
   ]
  },
  {
   "cell_type": "markdown",
   "id": "dade0911",
   "metadata": {},
   "source": [
    "Fine-tune a convolutional neural network to classify X-ray images into two categories: NORMAL and PNEUMONIA.\n",
    "\n",
    "- Load the pre-trained ResNet-18 model in a variable called `resnet18`."
   ]
  },
  {
   "cell_type": "code",
   "execution_count": 5,
   "id": "e90c3361",
   "metadata": {},
   "outputs": [
    {
     "name": "stdout",
     "output_type": "stream",
     "text": [
      "Downloading: \"https://download.pytorch.org/models/resnet18-f37072fd.pth\" to /Users/lefteris_karathanasis/.cache/torch/hub/checkpoints/resnet18-f37072fd.pth\n"
     ]
    },
    {
     "name": "stderr",
     "output_type": "stream",
     "text": [
      "100%|██████████| 44.7M/44.7M [00:05<00:00, 7.89MB/s]\n"
     ]
    }
   ],
   "source": [
    "resnet18 = models.resnet18(weights=models.ResNet18_Weights.DEFAULT)"
   ]
  },
  {
   "cell_type": "markdown",
   "id": "5b5dca5f",
   "metadata": {},
   "source": [
    "- Perform the appropriate adjustments to the model such that **only the weights in the last layer** are updated during training. Save any adjustments you make to the final layer in a variable `resnet18.fc`."
   ]
  },
  {
   "cell_type": "code",
   "execution_count": 6,
   "id": "754b774b",
   "metadata": {},
   "outputs": [],
   "source": [
    "for param in resnet18.parameters():\n",
    "    param.requires_grad = False\n",
    "\n",
    "# Modify the final layer for binary classification\n",
    "resnet18.fc = nn.Linear(resnet18.fc.in_features, 1)"
   ]
  },
  {
   "cell_type": "markdown",
   "id": "b34ca018",
   "metadata": {},
   "source": [
    "- Fine-tune your adjusted ResNet-18 model for **only 3 epochs** using the data from `train_loader`. You don't have to use a validation set during fine-tuning. Run the provided validation cell to see your model performance; print the `test_accuracy` and `test_f1_score` and round to three decimal points."
   ]
  },
  {
   "cell_type": "code",
   "execution_count": 7,
   "id": "5935946e",
   "metadata": {},
   "outputs": [],
   "source": [
    "def train(model, train_loader, criterion, optimizer, num_epochs):\n",
    "    \n",
    "    for epoch in range(num_epochs):\n",
    "    \n",
    "        model.train()\n",
    "\n",
    "        running_loss = 0.0\n",
    "        running_accuracy = 0\n",
    "\n",
    "        for inputs, labels in train_loader:\n",
    "\n",
    "            optimizer.zero_grad()\n",
    "            \n",
    "            labels = labels.float().unsqueeze(1)\n",
    "\n",
    "            outputs = model(inputs)\n",
    "            preds = torch.sigmoid(outputs) > 0.5 # Binary classification\n",
    "            loss = criterion(outputs, labels)\n",
    "\n",
    "            loss.backward()\n",
    "            optimizer.step()\n",
    "\n",
    "            # Update the running loss and accuracy\n",
    "            running_loss += loss.item() * inputs.size(0)\n",
    "            running_accuracy += torch.sum(preds == labels.data)\n",
    "\n",
    "        # Calculate the train loss and accuracy for the current epoch\n",
    "        train_loss = running_loss / len(train_dataset)\n",
    "        train_acc = running_accuracy.double() / len(train_dataset)\n",
    "\n",
    "\n",
    "        print('Epoch [{}/{}], train loss: {:.4f}, train acc: {:.4f}'.format(epoch+1, num_epochs, train_loss, train_acc))"
   ]
  },
  {
   "cell_type": "code",
   "execution_count": 8,
   "id": "888f31cd",
   "metadata": {},
   "outputs": [
    {
     "name": "stdout",
     "output_type": "stream",
     "text": [
      "Epoch [1/3], train loss: 1.3915, train acc: 0.4567\n",
      "Epoch [2/3], train loss: 0.8973, train acc: 0.4633\n",
      "Epoch [3/3], train loss: 0.9199, train acc: 0.5033\n"
     ]
    }
   ],
   "source": [
    "model = resnet18\n",
    "\n",
    "# Fine-tune the ResNet-18 model for 3 epochs using the train_loader\n",
    "optimizer = torch.optim.Adam(model.fc.parameters(), lr=0.01)\n",
    "criterion = torch.nn.BCEWithLogitsLoss()\n",
    "train(model, train_loader, criterion, optimizer, num_epochs=3)"
   ]
  },
  {
   "cell_type": "code",
   "execution_count": 9,
   "id": "ac9fb064",
   "metadata": {},
   "outputs": [
    {
     "name": "stdout",
     "output_type": "stream",
     "text": [
      "\n",
      "Test accuracy: 0.580\n",
      "Test F1-score: 0.704\n"
     ]
    }
   ],
   "source": [
    "model = resnet18\n",
    "model.eval()\n",
    "\n",
    "accuracy_metric = Accuracy(task=\"binary\")\n",
    "f1_metric = F1Score(task=\"binary\")\n",
    "\n",
    "all_preds = []\n",
    "all_labels = []\n",
    "\n",
    "with torch.no_grad():  # Disable gradient calculation for evaluation\n",
    "    for inputs, labels in test_loader:\n",
    "        outputs = model(inputs)\n",
    "        preds = torch.sigmoid(outputs).round()  # Round to 0 or 1\n",
    "\n",
    "        all_preds.extend(preds.tolist())\n",
    "        all_labels.extend(labels.unsqueeze(1).tolist())\n",
    "\n",
    "        all_preds = torch.tensor(all_preds)\n",
    "        all_labels = torch.tensor(all_labels)\n",
    "\n",
    "        test_accuracy = accuracy_metric(all_preds, all_labels).item()\n",
    "        test_f1_score = f1_metric(all_preds, all_labels).item()\n",
    "\n",
    "print(f\"\\nTest accuracy: {test_accuracy:.3f}\\nTest F1-score: {test_f1_score:.3f}\")"
   ]
  },
  {
   "cell_type": "markdown",
   "id": "12b4f656",
   "metadata": {},
   "source": [
    "**BONUS:** After the submission, you can play with your model further to see how well it can be trained. You can train it for more epochs and with a validation set. At the end of the provided solution, you can find a sample code that you can run to divide the training data into `train` and `val` subsets."
   ]
  },
  {
   "cell_type": "code",
   "execution_count": 11,
   "id": "d9f7de1a",
   "metadata": {},
   "outputs": [],
   "source": [
    "def move_files(src_class_dir, dest_class_dir, n=50):\n",
    "    if not os.path.exists(dest_class_dir):\n",
    "        os.makedirs(dest_class_dir)\n",
    "    files = os.listdir(src_class_dir)\n",
    "    random_files = random.sample(files, n)\n",
    "    for f in random_files:\n",
    "        shutil.move(os.path.join(src_class_dir, f), os.path.join(dest_class_dir, f))\n",
    "\n",
    "# Move 50 images from each class to validation folder\n",
    "move_files('data/chestxrays/train/NORMAL', 'data/chestxrays/val/NORMAL')\n",
    "move_files('data/chestxrays/train/PNEUMONIA', 'data/chestxrays/val/PNEUMONIA')"
   ]
  }
 ],
 "metadata": {
  "colab": {
   "name": "Welcome to DataCamp Workspaces.ipynb",
   "provenance": []
  },
  "editor": "DataLab",
  "kernelspec": {
   "display_name": "base",
   "language": "python",
   "name": "python3"
  },
  "language_info": {
   "codemirror_mode": {
    "name": "ipython",
    "version": 3
   },
   "file_extension": ".py",
   "mimetype": "text/x-python",
   "name": "python",
   "nbconvert_exporter": "python",
   "pygments_lexer": "ipython3",
   "version": "3.12.7"
  }
 },
 "nbformat": 4,
 "nbformat_minor": 5
}
