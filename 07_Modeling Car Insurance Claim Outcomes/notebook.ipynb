{
 "cells": [
  {
   "attachments": {},
   "cell_type": "markdown",
   "id": "c3f0e974-faf8-458f-bf2a-06a469d0ea5e",
   "metadata": {},
   "source": [
    "![car](car.jpg)\n",
    "\n",
    "Insurance companies invest a lot of [time and money](https://www.accenture.com/_acnmedia/pdf-84/accenture-machine-leaning-insurance.pdf) into optimizing their pricing and accurately estimating the likelihood that customers will make a claim. In many countries insurance it is a legal requirement to have car insurance in order to drive a vehicle on public roads, so the market is very large!\n",
    "\n",
    "Knowing all of this, On the Road car insurance have requested your services in building a model to predict whether a customer will make a claim on their insurance during the policy period. As they have very little expertise and infrastructure for deploying and monitoring machine learning models, they've asked you to identify the single feature that results in the best performing model, as measured by accuracy, so they can start with a simple model in production.\n",
    "\n",
    "They have supplied you with their customer data as a csv file called `car_insurance.csv`, along with a table detailing the column names and descriptions below."
   ]
  },
  {
   "cell_type": "markdown",
   "id": "8928ffdf-25d6-4ad9-909f-0dd8d10b9a42",
   "metadata": {},
   "source": [
    "\n",
    "\n",
    "## The dataset\n",
    "\n",
    "| Column | Description |\n",
    "|--------|-------------|\n",
    "| `id` | Unique client identifier |\n",
    "| `age` | Client's age: <br> <ul><li>`0`: 16-15</li><li>`1`: 26-39</li><li>`2`: 40-64</li><li>`3`: 65+</li></ul> |\n",
    "| `gender` | Client's gender: <br> <ul><li>`0`: Female</li><li>`1`: Male</li></ul> |\n",
    "| `driving_experience` | Years the client has been driving: <br> <ul><li>`0`: 0-9</li><li>`1`: 10-19</li><li>`2`: 20-29</li><li>`3`: 30+</li></ul> |\n",
    "| `education` | Client's level of education: <br> <ul><li>`0`: No education</li><li>`1`: High school</li><li>`2`: University</li></ul> |\n",
    "| `income` | Client's income level: <br> <ul><li>`0`: Poverty</li><li>`1`: Working class</li><li>`2`: Middle class</li><li>`3`: Upper class</li></ul> |\n",
    "| `credit_score` | Client's credit score (between zero and one) |\n",
    "| `vehicle_ownership` | Client's vehicle ownership status: <br><ul><li>`0`: Does not own their vehilce (paying off finance)</li><li>`1`: Owns their vehicle</li></ul> |\n",
    "| `vehcile_year` | Year of vehicle registration: <br><ul><li>`0`: Before 2015</li><li>`1`: 2015 or later</li></ul> |\n",
    "| `married` | Client's marital status: <br><ul><li>`0`: Not married</li><li>`1`: Married</li></ul> |\n",
    "| `children` | Client's number of children |\n",
    "| `postal_code` | Client's postal code | \n",
    "| `annual_mileage` | Number of miles driven by the client each year |\n",
    "| `vehicle_type` | Type of car: <br> <ul><li>`0`: Sedan</li><li>`1`: Sports car</li></ul> |\n",
    "| `speeding_violations` | Total number of speeding violations received by the client | \n",
    "| `duis` | Number of times the client has been caught driving under the influence of alcohol |\n",
    "| `past_accidents` | Total number of previous accidents the client has been involved in |\n",
    "| `outcome` | Whether the client made a claim on their car insurance (response variable): <br><ul><li>`0`: No claim</li><li>`1`: Made a claim</li></ul> |"
   ]
  },
  {
   "cell_type": "code",
   "execution_count": 3,
   "id": "9fa3979a",
   "metadata": {},
   "outputs": [
    {
     "name": "stdout",
     "output_type": "stream",
     "text": [
      "       id  age  gender driving_experience    education         income  credit_score  vehicle_ownership vehicle_year  married  children  postal_code  annual_mileage vehicle_type  speeding_violations  duis  past_accidents  outcome\n",
      "0  569520    3       0               0-9y  high school    upper class      0.629027                1.0   after 2015      0.0       1.0        10238         12000.0        sedan                    0     0               0      0.0\n",
      "1  750365    0       1               0-9y         none        poverty      0.357757                0.0  before 2015      0.0       0.0        10238         16000.0        sedan                    0     0               0      1.0\n",
      "2  199901    0       0               0-9y  high school  working class      0.493146                1.0  before 2015      0.0       0.0        10238         11000.0        sedan                    0     0               0      0.0\n",
      "3  478866    0       1               0-9y   university  working class      0.206013                1.0  before 2015      0.0       1.0        32765         11000.0        sedan                    0     0               0      0.0\n",
      "4  731664    1       1             10-19y         none  working class      0.388366                1.0  before 2015      0.0       0.0        32765         12000.0        sedan                    2     0               1      1.0 \n",
      "\n",
      "<class 'pandas.core.frame.DataFrame'>\n",
      "RangeIndex: 10000 entries, 0 to 9999\n",
      "Data columns (total 18 columns):\n",
      " #   Column               Non-Null Count  Dtype  \n",
      "---  ------               --------------  -----  \n",
      " 0   id                   10000 non-null  int64  \n",
      " 1   age                  10000 non-null  int64  \n",
      " 2   gender               10000 non-null  int64  \n",
      " 3   driving_experience   10000 non-null  object \n",
      " 4   education            10000 non-null  object \n",
      " 5   income               10000 non-null  object \n",
      " 6   credit_score         9018 non-null   float64\n",
      " 7   vehicle_ownership    10000 non-null  float64\n",
      " 8   vehicle_year         10000 non-null  object \n",
      " 9   married              10000 non-null  float64\n",
      " 10  children             10000 non-null  float64\n",
      " 11  postal_code          10000 non-null  int64  \n",
      " 12  annual_mileage       9043 non-null   float64\n",
      " 13  vehicle_type         10000 non-null  object \n",
      " 14  speeding_violations  10000 non-null  int64  \n",
      " 15  duis                 10000 non-null  int64  \n",
      " 16  past_accidents       10000 non-null  int64  \n",
      " 17  outcome              10000 non-null  float64\n",
      "dtypes: float64(6), int64(7), object(5)\n",
      "memory usage: 1.4+ MB\n"
     ]
    }
   ],
   "source": [
    "# Import required modules\n",
    "import pandas as pd\n",
    "import numpy as np\n",
    "from statsmodels.formula.api import logit\n",
    "\n",
    "pd.set_option(\"display.width\", 1000)\n",
    "\n",
    "# Start coding!\n",
    "# Read and explore df\n",
    "cars=pd.read_csv(\"car_insurance.csv\")\n",
    "print(cars.head(),\"\\n\")\n",
    "cars.info()"
   ]
  },
  {
   "cell_type": "markdown",
   "id": "049f4583",
   "metadata": {},
   "source": [
    "- Identify the single feature of the data that is the best predictor of whether a customer will put in a claim (the `\"outcome\"` column), excluding the `\"id\"` column\n",
    "\n",
    "- Store as a DataFrame called `best_feature_df`, containing columns named `\"best_feature\"` and `\"best_accuracy\"` with the name of the feature with the highest accuracy, and the respective accuracy score."
   ]
  },
  {
   "cell_type": "code",
   "execution_count": 4,
   "id": "f6bed505",
   "metadata": {},
   "outputs": [],
   "source": [
    "# Fill missing values with the mean\n",
    "cars[\"credit_score\"].fillna(cars[\"credit_score\"].mean(), inplace=True)\n",
    "cars[\"annual_mileage\"].fillna(cars[\"annual_mileage\"].mean(), inplace=True)"
   ]
  },
  {
   "cell_type": "code",
   "execution_count": 8,
   "id": "6ad8d9fe",
   "metadata": {},
   "outputs": [
    {
     "name": "stdout",
     "output_type": "stream",
     "text": [
      "Optimization terminated successfully.\n",
      "         Current function value: 0.511794\n",
      "         Iterations 6\n",
      "Optimization terminated successfully.\n",
      "         Current function value: 0.615951\n",
      "         Iterations 5\n",
      "Optimization terminated successfully.\n",
      "         Current function value: 0.467092\n",
      "         Iterations 8\n",
      "Optimization terminated successfully.\n",
      "         Current function value: 0.603742\n",
      "         Iterations 5\n",
      "Optimization terminated successfully.\n",
      "         Current function value: 0.531499\n",
      "         Iterations 6\n",
      "Optimization terminated successfully.\n",
      "         Current function value: 0.572557\n",
      "         Iterations 6\n",
      "Optimization terminated successfully.\n",
      "         Current function value: 0.552412\n",
      "         Iterations 5\n",
      "Optimization terminated successfully.\n",
      "         Current function value: 0.572668\n",
      "         Iterations 6\n",
      "Optimization terminated successfully.\n",
      "         Current function value: 0.586659\n",
      "         Iterations 5\n",
      "Optimization terminated successfully.\n",
      "         Current function value: 0.595431\n",
      "         Iterations 5\n",
      "Optimization terminated successfully.\n",
      "         Current function value: 0.617345\n",
      "         Iterations 5\n",
      "Optimization terminated successfully.\n",
      "         Current function value: 0.605716\n",
      "         Iterations 5\n",
      "Optimization terminated successfully.\n",
      "         Current function value: 0.621700\n",
      "         Iterations 5\n",
      "Optimization terminated successfully.\n",
      "         Current function value: 0.558922\n",
      "         Iterations 7\n",
      "Optimization terminated successfully.\n",
      "         Current function value: 0.598699\n",
      "         Iterations 6\n",
      "Optimization terminated successfully.\n",
      "         Current function value: 0.549220\n",
      "         Iterations 7\n",
      "[<statsmodels.discrete.discrete_model.BinaryResultsWrapper object at 0x142bb7ef0>, <statsmodels.discrete.discrete_model.BinaryResultsWrapper object at 0x1062a2d20>, <statsmodels.discrete.discrete_model.BinaryResultsWrapper object at 0x14351bbc0>, <statsmodels.discrete.discrete_model.BinaryResultsWrapper object at 0x143519f10>, <statsmodels.discrete.discrete_model.BinaryResultsWrapper object at 0x143518fe0>, <statsmodels.discrete.discrete_model.BinaryResultsWrapper object at 0x143519040>, <statsmodels.discrete.discrete_model.BinaryResultsWrapper object at 0x14348a090>, <statsmodels.discrete.discrete_model.BinaryResultsWrapper object at 0x14348b140>, <statsmodels.discrete.discrete_model.BinaryResultsWrapper object at 0x14348b1d0>, <statsmodels.discrete.discrete_model.BinaryResultsWrapper object at 0x14348ac60>, <statsmodels.discrete.discrete_model.BinaryResultsWrapper object at 0x14348acc0>, <statsmodels.discrete.discrete_model.BinaryResultsWrapper object at 0x1434f6780>, <statsmodels.discrete.discrete_model.BinaryResultsWrapper object at 0x1434f61b0>, <statsmodels.discrete.discrete_model.BinaryResultsWrapper object at 0x1434f6a80>, <statsmodels.discrete.discrete_model.BinaryResultsWrapper object at 0x1434f5d00>, <statsmodels.discrete.discrete_model.BinaryResultsWrapper object at 0x1434f5d60>]\n"
     ]
    }
   ],
   "source": [
    "models = []\n",
    "\n",
    "# Feature columns\n",
    "features = cars.drop(columns=[\"id\", \"outcome\"]).columns\n",
    "\n",
    "# Loop through features\n",
    "for col in features:\n",
    "    # Create a model\n",
    "    model = logit(f\"outcome ~ {col}\", data=cars).fit()\n",
    "    # Add each model to the models list\n",
    "    models.append(model)\n",
    "    \n",
    "print(models)"
   ]
  },
  {
   "cell_type": "code",
   "execution_count": 9,
   "id": "d0eb4f16-5a99-460d-a5ba-706b7ef0bbe7",
   "metadata": {
    "executionCancelledAt": null,
    "executionTime": 2837,
    "id": "bA5ajAmk7XH6",
    "lastExecutedAt": 1713951168157,
    "lastExecutedByKernel": "6e9ce82d-0709-4f9f-ba62-7288d3fb80ec",
    "lastScheduledRunId": null,
    "lastSuccessfullyExecutedCode": "# Import required modules\nimport pandas as pd\nimport numpy as np\nfrom statsmodels.formula.api import logit\n\n# Start coding!\n# Read and explore df\ncars=pd.read_csv(\"car_insurance.csv\")\ncars.info()\n\n# Filling missing values with mean\ncars[\"credit_score\"].fillna(cars[\"credit_score\"].mean(), inplace=True)\ncars[\"annual_mileage\"].fillna(cars[\"annual_mileage\"].mean(), inplace=True)\n\n# Preparing for modeling\nmodels=[]\nfeatures=cars.drop(columns=[\"id\",\"outcome\"]).columns\n\n# Building and storing the models\nfor col in features:\n    model=logit(f'outcome~{col}',data=cars).fit()\n    models.append(model)\n\n# Measuring performance\naccuracies=[]\nfor feature in range(0,len(models)):\n    conf_matrix=models[feature].pred_table()\n    tn=conf_matrix[0,0]\n    tp=conf_matrix[1,1]\n    fn=conf_matrix[1,0]\n    fp=conf_matrix[0,1]\n    acc=(tn+tp)/(tn+fn+fp+tp)\n    accuracies.append(acc)\n    \n# Finding the best performing model\nbest_feature=features[accuracies.index(max(accuracies))]\nbest_feature_df=pd.DataFrame({\"best_feature\":best_feature,\"best_accuracy\":max(accuracies)},index=[0])\nbest_feature_df\n",
    "outputsMetadata": {
     "0": {
      "height": 616,
      "type": "stream"
     },
     "1": {
      "height": 96,
      "type": "dataFrame"
     },
     "2": {
      "height": 616,
      "type": "stream"
     },
     "3": {
      "height": 286,
      "type": "dataFrame"
     },
     "4": {
      "height": 616,
      "type": "stream"
     }
    }
   },
   "outputs": [
    {
     "name": "stdout",
     "output_type": "stream",
     "text": [
      "[0.7747, 0.6867, 0.7771, 0.6867, 0.7425, 0.7054, 0.7351, 0.6867, 0.6867, 0.6867, 0.6867, 0.6904, 0.6867, 0.6867, 0.6867, 0.6867]\n"
     ]
    }
   ],
   "source": [
    "# Empty list to store accuracies\n",
    "accuracies = []\n",
    "\n",
    "# Loop through models\n",
    "for feature in range(0, len(models)):\n",
    "    # Compute the confusion matrix\n",
    "    conf_matrix = models[feature].pred_table()\n",
    "    # True negatives\n",
    "    tn = conf_matrix[0,0]\n",
    "    # True positives\n",
    "    tp = conf_matrix[1,1]\n",
    "    # False negatives\n",
    "    fn = conf_matrix[1,0]\n",
    "    # False positives\n",
    "    fp = conf_matrix[0,1]\n",
    "    # Compute accuracy\n",
    "    acc = (tn + tp) / (tn + fn + fp + tp)\n",
    "    accuracies.append(acc)\n",
    "\n",
    "print(accuracies)"
   ]
  },
  {
   "cell_type": "code",
   "execution_count": 11,
   "id": "9fb836b3",
   "metadata": {},
   "outputs": [
    {
     "name": "stdout",
     "output_type": "stream",
     "text": [
      "         best_feature  best_accuracy\n",
      "0  driving_experience         0.7771\n"
     ]
    }
   ],
   "source": [
    "# Find the feature with the largest accuracy\n",
    "best_feature = features[accuracies.index(max(accuracies))]\n",
    "\n",
    "# Create best_feature_df\n",
    "best_feature_df = pd.DataFrame({\"best_feature\": best_feature,\n",
    "                                \"best_accuracy\": max(accuracies)},\n",
    "                                index=[0])\n",
    "print(best_feature_df)"
   ]
  }
 ],
 "metadata": {
  "colab": {
   "name": "Welcome to DataCamp Workspaces.ipynb",
   "provenance": []
  },
  "editor": "DataCamp Workspace",
  "kernelspec": {
   "display_name": "base",
   "language": "python",
   "name": "python3"
  },
  "language_info": {
   "codemirror_mode": {
    "name": "ipython",
    "version": 3
   },
   "file_extension": ".py",
   "mimetype": "text/x-python",
   "name": "python",
   "nbconvert_exporter": "python",
   "pygments_lexer": "ipython3",
   "version": "3.12.7"
  }
 },
 "nbformat": 4,
 "nbformat_minor": 5
}
