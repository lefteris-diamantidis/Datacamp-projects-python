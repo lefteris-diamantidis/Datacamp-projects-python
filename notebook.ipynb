{
 "cells": [
  {
   "cell_type": "markdown",
   "id": "31ab2131-3049-4d8d-b9dc-d195f72af27a",
   "metadata": {},
   "source": [
    "![Los Angeles skyline](la_skyline.jpg)\n",
    "\n",
    "Los Angeles, California 😎. The City of Angels. Tinseltown. The Entertainment Capital of the World! \n",
    "\n",
    "Known for its warm weather, palm trees, sprawling coastline, and Hollywood, along with producing some of the most iconic films and songs. However, as with any highly populated city, it isn't always glamorous and there can be a large volume of crime. That's where you can help!\n",
    "\n",
    "You have been asked to support the Los Angeles Police Department (LAPD) by analyzing crime data to identify patterns in criminal behavior. They plan to use your insights to allocate resources effectively to tackle various crimes in different areas.\n",
    "\n",
    "## The Data\n",
    "\n",
    "They have provided you with a single dataset to use. A summary and preview are provided below.\n",
    "\n",
    "It is a modified version of the original data, which is publicly available from Los Angeles Open Data.\n",
    "\n",
    "# crimes.csv\n",
    "\n",
    "| Column     | Description              |\n",
    "|------------|--------------------------|\n",
    "| `'DR_NO'` | Division of Records Number: Official file number made up of a 2-digit year, area ID, and 5 digits. |\n",
    "| `'Date Rptd'` | Date reported - MM/DD/YYYY. |\n",
    "| `'DATE OCC'` | Date of occurrence - MM/DD/YYYY. |\n",
    "| `'TIME OCC'` | In 24-hour military time. |\n",
    "| `'AREA NAME'` | The 21 Geographic Areas or Patrol Divisions are also given a name designation that references a landmark or the surrounding community that it is responsible for. For example, the 77th Street Division is located at the intersection of South Broadway and 77th Street, serving neighborhoods in South Los Angeles. |\n",
    "| `'Crm Cd Desc'` | Indicates the crime committed. |\n",
    "| `'Vict Age'` | Victim's age in years. |\n",
    "| `'Vict Sex'` | Victim's sex: `F`: Female, `M`: Male, `X`: Unknown. |\n",
    "| `'Vict Descent'` | Victim's descent:<ul><li>`A` - Other Asian</li><li>`B` - Black</li><li>`C` - Chinese</li><li>`D` - Cambodian</li><li>`F` - Filipino</li><li>`G` - Guamanian</li><li>`H` - Hispanic/Latin/Mexican</li><li>`I` - American Indian/Alaskan Native</li><li>`J` - Japanese</li><li>`K` - Korean</li><li>`L` - Laotian</li><li>`O` - Other</li><li>`P` - Pacific Islander</li><li>`S` - Samoan</li><li>`U` - Hawaiian</li><li>`V` - Vietnamese</li><li>`W` - White</li><li>`X` - Unknown</li><li>`Z` - Asian Indian</li> |\n",
    "| `'Weapon Desc'` | Description of the weapon used (if applicable). |\n",
    "| `'Status Desc'` | Crime status. |\n",
    "| `'LOCATION'` | Street address of the crime. |"
   ]
  },
  {
   "cell_type": "code",
   "execution_count": 6,
   "id": "7c6c3c36-5c8b-4cce-8681-95292b8f0861",
   "metadata": {
    "executionCancelledAt": null,
    "executionTime": 424,
    "lastExecutedAt": 1709413861371,
    "lastScheduledRunId": null,
    "lastSuccessfullyExecutedCode": "# Re-run this cell\n# Import required libraries\nimport pandas as pd\nimport numpy as np\nimport matplotlib.pyplot as plt\nimport seaborn as sns\ncrimes = pd.read_csv(\"crimes.csv\", parse_dates=[\"Date Rptd\", \"DATE OCC\"], dtype={\"TIME OCC\": str})\ncrimes.head()",
    "outputsMetadata": {
     "0": {
      "height": 213,
      "type": "dataFrame"
     }
    }
   },
   "outputs": [
    {
     "data": {
      "application/vnd.microsoft.datawrangler.viewer.v0+json": {
       "columns": [
        {
         "name": "index",
         "rawType": "int64",
         "type": "integer"
        },
        {
         "name": "DR_NO",
         "rawType": "int64",
         "type": "integer"
        },
        {
         "name": "Date Rptd",
         "rawType": "datetime64[ns]",
         "type": "datetime"
        },
        {
         "name": "DATE OCC",
         "rawType": "datetime64[ns]",
         "type": "datetime"
        },
        {
         "name": "TIME OCC",
         "rawType": "object",
         "type": "string"
        },
        {
         "name": "AREA NAME",
         "rawType": "object",
         "type": "string"
        },
        {
         "name": "Crm Cd Desc",
         "rawType": "object",
         "type": "string"
        },
        {
         "name": "Vict Age",
         "rawType": "int64",
         "type": "integer"
        },
        {
         "name": "Vict Sex",
         "rawType": "object",
         "type": "unknown"
        },
        {
         "name": "Vict Descent",
         "rawType": "object",
         "type": "unknown"
        },
        {
         "name": "Weapon Desc",
         "rawType": "object",
         "type": "unknown"
        },
        {
         "name": "Status Desc",
         "rawType": "object",
         "type": "string"
        },
        {
         "name": "LOCATION",
         "rawType": "object",
         "type": "string"
        }
       ],
       "conversionMethod": "pd.DataFrame",
       "ref": "76aedd1e-eb8f-4427-a20c-1ec0e3d662e1",
       "rows": [
        [
         "0",
         "221412410",
         "2022-06-15 00:00:00",
         "2020-11-12 00:00:00",
         "1700",
         "Pacific",
         "THEFT FROM MOTOR VEHICLE - PETTY ($950 & UNDER)",
         "0",
         null,
         null,
         null,
         "Invest Cont",
         "13600    MARINA POINT                 DR"
        ],
        [
         "1",
         "220314085",
         "2022-07-22 00:00:00",
         "2020-05-12 00:00:00",
         "1110",
         "Southwest",
         "THEFT OF IDENTITY",
         "27",
         "F",
         "B",
         null,
         "Invest Cont",
         "2500 S  SYCAMORE                     AV"
        ],
        [
         "2",
         "222013040",
         "2022-08-06 00:00:00",
         "2020-06-04 00:00:00",
         "1620",
         "Olympic",
         "THEFT OF IDENTITY",
         "60",
         "M",
         "H",
         null,
         "Invest Cont",
         "3300    SAN MARINO                   ST"
        ],
        [
         "3",
         "220614831",
         "2022-08-18 00:00:00",
         "2020-08-17 00:00:00",
         "1200",
         "Hollywood",
         "THEFT OF IDENTITY",
         "28",
         "M",
         "H",
         null,
         "Invest Cont",
         "1900    TRANSIENT"
        ],
        [
         "4",
         "231207725",
         "2023-02-27 00:00:00",
         "2020-01-27 00:00:00",
         "0635",
         "77th Street",
         "THEFT OF IDENTITY",
         "37",
         "M",
         "H",
         null,
         "Invest Cont",
         "6200    4TH                          AV"
        ]
       ],
       "shape": {
        "columns": 12,
        "rows": 5
       }
      },
      "text/html": [
       "<div>\n",
       "<style scoped>\n",
       "    .dataframe tbody tr th:only-of-type {\n",
       "        vertical-align: middle;\n",
       "    }\n",
       "\n",
       "    .dataframe tbody tr th {\n",
       "        vertical-align: top;\n",
       "    }\n",
       "\n",
       "    .dataframe thead th {\n",
       "        text-align: right;\n",
       "    }\n",
       "</style>\n",
       "<table border=\"1\" class=\"dataframe\">\n",
       "  <thead>\n",
       "    <tr style=\"text-align: right;\">\n",
       "      <th></th>\n",
       "      <th>DR_NO</th>\n",
       "      <th>Date Rptd</th>\n",
       "      <th>DATE OCC</th>\n",
       "      <th>TIME OCC</th>\n",
       "      <th>AREA NAME</th>\n",
       "      <th>Crm Cd Desc</th>\n",
       "      <th>Vict Age</th>\n",
       "      <th>Vict Sex</th>\n",
       "      <th>Vict Descent</th>\n",
       "      <th>Weapon Desc</th>\n",
       "      <th>Status Desc</th>\n",
       "      <th>LOCATION</th>\n",
       "    </tr>\n",
       "  </thead>\n",
       "  <tbody>\n",
       "    <tr>\n",
       "      <th>0</th>\n",
       "      <td>221412410</td>\n",
       "      <td>2022-06-15</td>\n",
       "      <td>2020-11-12</td>\n",
       "      <td>1700</td>\n",
       "      <td>Pacific</td>\n",
       "      <td>THEFT FROM MOTOR VEHICLE - PETTY ($950 &amp; UNDER)</td>\n",
       "      <td>0</td>\n",
       "      <td>NaN</td>\n",
       "      <td>NaN</td>\n",
       "      <td>NaN</td>\n",
       "      <td>Invest Cont</td>\n",
       "      <td>13600    MARINA POINT                 DR</td>\n",
       "    </tr>\n",
       "    <tr>\n",
       "      <th>1</th>\n",
       "      <td>220314085</td>\n",
       "      <td>2022-07-22</td>\n",
       "      <td>2020-05-12</td>\n",
       "      <td>1110</td>\n",
       "      <td>Southwest</td>\n",
       "      <td>THEFT OF IDENTITY</td>\n",
       "      <td>27</td>\n",
       "      <td>F</td>\n",
       "      <td>B</td>\n",
       "      <td>NaN</td>\n",
       "      <td>Invest Cont</td>\n",
       "      <td>2500 S  SYCAMORE                     AV</td>\n",
       "    </tr>\n",
       "    <tr>\n",
       "      <th>2</th>\n",
       "      <td>222013040</td>\n",
       "      <td>2022-08-06</td>\n",
       "      <td>2020-06-04</td>\n",
       "      <td>1620</td>\n",
       "      <td>Olympic</td>\n",
       "      <td>THEFT OF IDENTITY</td>\n",
       "      <td>60</td>\n",
       "      <td>M</td>\n",
       "      <td>H</td>\n",
       "      <td>NaN</td>\n",
       "      <td>Invest Cont</td>\n",
       "      <td>3300    SAN MARINO                   ST</td>\n",
       "    </tr>\n",
       "    <tr>\n",
       "      <th>3</th>\n",
       "      <td>220614831</td>\n",
       "      <td>2022-08-18</td>\n",
       "      <td>2020-08-17</td>\n",
       "      <td>1200</td>\n",
       "      <td>Hollywood</td>\n",
       "      <td>THEFT OF IDENTITY</td>\n",
       "      <td>28</td>\n",
       "      <td>M</td>\n",
       "      <td>H</td>\n",
       "      <td>NaN</td>\n",
       "      <td>Invest Cont</td>\n",
       "      <td>1900    TRANSIENT</td>\n",
       "    </tr>\n",
       "    <tr>\n",
       "      <th>4</th>\n",
       "      <td>231207725</td>\n",
       "      <td>2023-02-27</td>\n",
       "      <td>2020-01-27</td>\n",
       "      <td>0635</td>\n",
       "      <td>77th Street</td>\n",
       "      <td>THEFT OF IDENTITY</td>\n",
       "      <td>37</td>\n",
       "      <td>M</td>\n",
       "      <td>H</td>\n",
       "      <td>NaN</td>\n",
       "      <td>Invest Cont</td>\n",
       "      <td>6200    4TH                          AV</td>\n",
       "    </tr>\n",
       "  </tbody>\n",
       "</table>\n",
       "</div>"
      ],
      "text/plain": [
       "       DR_NO  Date Rptd   DATE OCC TIME OCC    AREA NAME                                      Crm Cd Desc  Vict Age Vict Sex Vict Descent Weapon Desc  Status Desc                                  LOCATION\n",
       "0  221412410 2022-06-15 2020-11-12     1700      Pacific  THEFT FROM MOTOR VEHICLE - PETTY ($950 & UNDER)         0      NaN          NaN         NaN  Invest Cont  13600    MARINA POINT                 DR\n",
       "1  220314085 2022-07-22 2020-05-12     1110    Southwest                                THEFT OF IDENTITY        27        F            B         NaN  Invest Cont   2500 S  SYCAMORE                     AV\n",
       "2  222013040 2022-08-06 2020-06-04     1620      Olympic                                THEFT OF IDENTITY        60        M            H         NaN  Invest Cont   3300    SAN MARINO                   ST\n",
       "3  220614831 2022-08-18 2020-08-17     1200    Hollywood                                THEFT OF IDENTITY        28        M            H         NaN  Invest Cont                         1900    TRANSIENT\n",
       "4  231207725 2023-02-27 2020-01-27     0635  77th Street                                THEFT OF IDENTITY        37        M            H         NaN  Invest Cont   6200    4TH                          AV"
      ]
     },
     "execution_count": 6,
     "metadata": {},
     "output_type": "execute_result"
    }
   ],
   "source": [
    "# Re-run this cell\n",
    "# Import required libraries\n",
    "import pandas as pd\n",
    "import numpy as np\n",
    "import matplotlib.pyplot as plt\n",
    "import seaborn as sns\n",
    "\n",
    "pd.set_option(\"display.max_columns\", None)\n",
    "pd.set_option(\"display.width\", 1000)\n",
    "\n",
    "crimes = pd.read_csv(\"crimes.csv\", parse_dates=[\"Date Rptd\", \"DATE OCC\"], dtype={\"TIME OCC\": str})\n",
    "crimes.head()"
   ]
  },
  {
   "cell_type": "markdown",
   "id": "c706d682",
   "metadata": {},
   "source": [
    "- Which hour has the highest frequency of crimes? Store as an integer variable called `peak_crime_hour`"
   ]
  },
  {
   "cell_type": "code",
   "execution_count": 7,
   "id": "a0e839e4",
   "metadata": {},
   "outputs": [
    {
     "name": "stdout",
     "output_type": "stream",
     "text": [
      "       DR_NO  Date Rptd   DATE OCC TIME OCC    AREA NAME                                      Crm Cd Desc  Vict Age Vict Sex Vict Descent Weapon Desc  Status Desc                                  LOCATION  hour\n",
      "0  221412410 2022-06-15 2020-11-12     1700      Pacific  THEFT FROM MOTOR VEHICLE - PETTY ($950 & UNDER)         0      NaN          NaN         NaN  Invest Cont  13600    MARINA POINT                 DR    17\n",
      "1  220314085 2022-07-22 2020-05-12     1110    Southwest                                THEFT OF IDENTITY        27        F            B         NaN  Invest Cont   2500 S  SYCAMORE                     AV    11\n",
      "2  222013040 2022-08-06 2020-06-04     1620      Olympic                                THEFT OF IDENTITY        60        M            H         NaN  Invest Cont   3300    SAN MARINO                   ST    16\n",
      "3  220614831 2022-08-18 2020-08-17     1200    Hollywood                                THEFT OF IDENTITY        28        M            H         NaN  Invest Cont                         1900    TRANSIENT    12\n",
      "4  231207725 2023-02-27 2020-01-27     0635  77th Street                                THEFT OF IDENTITY        37        M            H         NaN  Invest Cont   6200    4TH                          AV     6\n"
     ]
    }
   ],
   "source": [
    "# Start coding here\n",
    "# Use as many cells as you need\n",
    "crimes[\"hour\"] = crimes[\"TIME OCC\"].str[:2].astype(int)\n",
    "print(crimes.head())"
   ]
  },
  {
   "cell_type": "code",
   "execution_count": 8,
   "id": "66c6571d",
   "metadata": {},
   "outputs": [
    {
     "data": {
      "text/plain": [
       "<Axes: xlabel='hour', ylabel='count'>"
      ]
     },
     "execution_count": 8,
     "metadata": {},
     "output_type": "execute_result"
    },
    {
     "data": {
      "image/png": "[encoded data removed]",
      "text/plain": [
       "<Figure size 640x480 with 1 Axes>"
      ]
     },
     "metadata": {},
     "output_type": "display_data"
    }
   ],
   "source": [
    "sns.countplot(data=crimes, x=\"hour\")"
   ]
  },
  {
   "cell_type": "code",
   "execution_count": 11,
   "id": "444ef3a8",
   "metadata": {},
   "outputs": [
    {
     "name": "stdout",
     "output_type": "stream",
     "text": [
      "The peak hour for crime is 12 o'clock.\n"
     ]
    }
   ],
   "source": [
    "peak_crime_hour = crimes[\"hour\"].mode()[0]\n",
    "print(f\"The peak hour for crime is {peak_crime_hour} o'clock.\")"
   ]
  },
  {
   "cell_type": "markdown",
   "id": "58b524cb",
   "metadata": {},
   "source": [
    "- Which area has the largest frequency of night crimes (crimes committed between 10pm and 3:59am)? Save as a string variable called `peak_night_crime_location`."
   ]
  },
  {
   "cell_type": "code",
   "execution_count": 12,
   "id": "e7430c13",
   "metadata": {},
   "outputs": [
    {
     "name": "stdout",
     "output_type": "stream",
     "text": [
      "The area with the largest volume of night crime is Central\n"
     ]
    }
   ],
   "source": [
    "night_time = crimes[crimes[\"hour\"].isin([22,23,0,1,2,3])]\n",
    "\n",
    "peak_night_crime_location = night_time.groupby(\"AREA NAME\", as_index=False)[\"hour\"].count().sort_values(\"hour\", ascending=False).iloc[0][\"AREA NAME\"]\n",
    "print(f\"The area with the largest volume of night crime is {peak_night_crime_location}\")"
   ]
  },
  {
   "cell_type": "markdown",
   "id": "534cad2c",
   "metadata": {},
   "source": [
    "- Identify the number of crimes committed against victims of different age groups. Save as a pandas Series called `victim_ages`, with age group labels `\"0-17\"`, `\"18-25\"`, `\"26-34\"`, `\"35-44\"`, `\"45-54\"`, `\"55-64\"`, and `\"65+\"` as the index and the frequency of crimes as the values."
   ]
  },
  {
   "cell_type": "code",
   "execution_count": 13,
   "id": "8819a2fa-93f9-44bc-9a84-59bba62c0a9e",
   "metadata": {
    "executionCancelledAt": null,
    "executionTime": 554,
    "lastExecutedAt": 1709413861925,
    "lastScheduledRunId": null,
    "lastSuccessfullyExecutedCode": "# Start coding here\n# Use as many cells as you need\n\n## Which hour has the highest frequency of crimes? Store as an integer variable called peak_crime_hour\n\n# Step 1\n# Extract the first two digits from \"TIME OCC\", representing the hour and convert to integer data type\ncrimes[\"HOUR OCC\"] = crimes[\"TIME OCC\"].str[:2].astype(int)\n\n# Preview the DataFrame to confirm the new column is correct\ncrimes.head()\n\n# Produce a countplot to find the largest frequency of crimes by hour\nsns.countplot(data=crimes, x=\"HOUR OCC\")\nplt.show()\n\n# Midday has the largest volume of crime\npeak_crime_hour = 12\n\n# Step 2\n## Which area has the largest frequency of night crimes (crimes committed between 10pm and 3:59am)? \n## Save as a string variable called peak_night_crime_location\n# Filter for the night-time hours\n# 0 = midnight; 3 = crimes between 3am and 3:59am, i.e., don't include 4\nnight_time = crimes[crimes[\"HOUR OCC\"].isin([22,23,0,1,2,3])]\n\n# Group by \"AREA NAME\" and count occurrences, filtering for the largest value and saving the \"AREA NAME\"\npeak_night_crime_location = night_time.groupby(\"AREA NAME\", as_index=False)[\"HOUR OCC\"].count().sort_values                                                                       (\"HOUR OCC\", ascending=False).iloc[0][\"AREA NAME\"]\n# Print the peak night crime location\nprint(f\"The area with the largest volume of night crime is {peak_night_crime_location}\")\n\n# Step 3\n## Identify the number of crimes committed against victims by age group (0-17, 18-25, 26-34, 35-44, 45-54, 55-64, 65+) \n## Save as a pandas Series called victim_ages\n# Create bins and labels for victim age ranges\nage_bins = [0, 17, 25, 34, 44, 54, 64, np.inf]\nage_labels = [\"0-17\", \"18-25\", \"26-34\", \"35-44\", \"45-54\", \"55-64\", \"65+\"]\n\n# Add a new column using pd.cut() to bin values into discrete intervals\ncrimes[\"Age Bracket\"] = pd.cut(crimes[\"Vict Age\"],\n                               bins=age_bins,\n                               labels=age_labels)\n\n# Find the category with the largest frequency\nvictim_ages = crimes[\"Age Bracket\"].value_counts()\nprint(victim_ages)\n",
    "outputsMetadata": {
     "1": {
      "height": 197,
      "type": "stream"
     }
    }
   },
   "outputs": [
    {
     "name": "stdout",
     "output_type": "stream",
     "text": [
      "Age Bracket\n",
      "26-34    47470\n",
      "35-44    42157\n",
      "45-54    28353\n",
      "18-25    28291\n",
      "55-64    20169\n",
      "65+      14747\n",
      "0-17      4528\n",
      "Name: count, dtype: int64\n"
     ]
    }
   ],
   "source": [
    "age_bins = [0, 17, 25, 34, 44, 54, 64, np.inf]\n",
    "age_labels = [\"0-17\", \"18-25\", \"26-34\", \"35-44\", \"45-54\", \"55-64\", \"65+\"]\n",
    "\n",
    "# Add a new column using pd.cut() to bin values into discrete intervals\n",
    "crimes[\"Age Bracket\"] = pd.cut(crimes[\"Vict Age\"], bins=age_bins, labels=age_labels)\n",
    "\n",
    "# Find the category with the largest frequency\n",
    "victim_ages = crimes[\"Age Bracket\"].value_counts()\n",
    "print(victim_ages)"
   ]
  }
 ],
 "metadata": {
  "colab": {
   "name": "Welcome to DataCamp Workspaces.ipynb",
   "provenance": []
  },
  "kernelspec": {
   "display_name": "base",
   "language": "python",
   "name": "python3"
  },
  "language_info": {
   "codemirror_mode": {
    "name": "ipython",
    "version": 3
   },
   "file_extension": ".py",
   "mimetype": "text/x-python",
   "name": "python",
   "nbconvert_exporter": "python",
   "pygments_lexer": "ipython3",
   "version": "3.12.7"
  }
 },
 "nbformat": 4,
 "nbformat_minor": 5
}
