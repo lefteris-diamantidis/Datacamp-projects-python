{
 "cells": [
  {
   "cell_type": "markdown",
   "id": "a72c3591-e237-49ba-b20f-a739b27b5a7e",
   "metadata": {},
   "source": [
    "<center><img src=\"MKn_Staffelter_Hof.jpeg\" alt=\"Picture of old business\"</center>\n",
    "<!--Image Credit: Martin Kraft https://commons.wikimedia.org/wiki/File:MKn_Staffelter_Hof.jpg -->"
   ]
  },
  {
   "cell_type": "markdown",
   "id": "3093f28a-1efc-4811-899f-278d698bd09b",
   "metadata": {},
   "source": [
    "Staffelter Hof Winery is Germany's oldest business, established in 862 under the Carolingian dynasty. It has continued to serve customers through dramatic changes in Europe, such as the Holy Roman Empire, the Ottoman Empire, and both world wars. What characteristics enable a business to stand the test of time?\n",
    "\n",
    "To help answer this question, BusinessFinancing.co.uk researched the oldest company still in business in **almost** every country and compiled the results into several CSV files. This dataset has been cleaned.\n",
    "\n",
    "Having useful information in different files is a common problem. While it's better to keep different types of data separate for data storage, you'll want all the data in one place for analysis. You'll use joining and data manipulation to work with this data and better understand the world's oldest businesses.\n",
    "\n",
    "## The Data\n",
    "`data/businesses.csv` and `data/new_businesses.csv`\n",
    "|Column|Description|\n",
    "|------|-----------|\n",
    "|`business`|Name of the business (varchar)|\n",
    "|`year_founded`|Year the business was founded (int)|\n",
    "|`category_code`|Code for the business category (varchar)|\n",
    "|`country_code`|ISO 3166-1 three-letter country code (char)|\n",
    "\n",
    "`data/countries.csv`\n",
    "|Column|Description|\n",
    "|------|-----------|\n",
    "|`country_code`|ISO 3166-1 three-letter country code (varchar)|\n",
    "|`country`|Name of the country (varchar)|\n",
    "|`continent`|Name of the continent the country exists in (varchar)|\n",
    "\n",
    "`data/categories.csv`\n",
    "|Column|Description|\n",
    "|------|-----------|\n",
    "|`category_code`|Code for the business category (varchar)|\n",
    "|`category`|Description of the business category (varchar)|"
   ]
  },
  {
   "cell_type": "code",
   "execution_count": 1,
   "id": "988f20e8",
   "metadata": {},
   "outputs": [],
   "source": [
    "# Import necessary libraries\n",
    "import pandas as pd\n",
    "\n",
    "pd.set_option(\"display.width\", 1000)\n",
    "\n",
    "# Load the data\n",
    "businesses = pd.read_csv(\"data/businesses.csv\")\n",
    "new_businesses = pd.read_csv(\"data/new_businesses.csv\")\n",
    "countries = pd.read_csv(\"data/countries.csv\")\n",
    "categories = pd.read_csv(\"data/categories.csv\")"
   ]
  },
  {
   "cell_type": "markdown",
   "id": "238802c9",
   "metadata": {},
   "source": [
    "Understand the factors that help a business be timeless by answering these questions:\n",
    "\n",
    "- What is the oldest business on each continent? Save your answer as a DataFrame called `oldest_business_continent` with four columns: `continent`, `country`, `business`, and `year_founded` in any order."
   ]
  },
  {
   "cell_type": "code",
   "execution_count": 2,
   "id": "9be5f7b1",
   "metadata": {},
   "outputs": [
    {
     "name": "stdout",
     "output_type": "stream",
     "text": [
      "       continent    country                     business  year_founded\n",
      "0         Africa  Mauritius               Mauritius Post          1772\n",
      "1           Asia      Japan                   Kongō Gumi           578\n",
      "2         Europe    Austria  St. Peter Stifts Kulinarium           803\n",
      "3  North America     Mexico  La Casa de Moneda de México          1534\n",
      "4        Oceania  Australia               Australia Post          1809\n",
      "5  South America       Peru      Casa Nacional de Moneda          1565\n"
     ]
    }
   ],
   "source": [
    "businesses_countries = businesses.merge(countries, on=\"country_code\")\n",
    "\n",
    "continent = businesses_countries.groupby(\"continent\").agg({\"year_founded\":\"min\"})\n",
    "\n",
    "merged_continent = continent.merge(businesses_countries, on=[\"continent\", \"year_founded\"])\n",
    "\n",
    "oldest_business_continent = merged_continent[[\"continent\", \"country\", \"business\", \"year_founded\"]]\n",
    "\n",
    "print(oldest_business_continent)"
   ]
  },
  {
   "cell_type": "markdown",
   "id": "43b11209",
   "metadata": {},
   "source": [
    "How many countries per continent lack data on the oldest businesses? Does including `new_businesses` change this? Count the number of countries per continent missing business data, including `new_businesses`, and store the results in a DataFrame named `count_missing` with columns for the continent and the count."
   ]
  },
  {
   "cell_type": "code",
   "execution_count": 3,
   "id": "2b6d2617",
   "metadata": {},
   "outputs": [
    {
     "name": "stdout",
     "output_type": "stream",
     "text": [
      "               count_missing\n",
      "continent                   \n",
      "Africa                     3\n",
      "Asia                       7\n",
      "Europe                     2\n",
      "North America              5\n",
      "Oceania                   10\n",
      "South America              3\n"
     ]
    }
   ],
   "source": [
    "all_businesses = pd.concat([new_businesses, businesses])\n",
    "\n",
    "new_all_countries = all_businesses.merge(countries, on=\"country_code\", how=\"outer\",  indicator=True)\n",
    "\n",
    "new_missing_countries = new_all_countries[new_all_countries[\"_merge\"] != \"both\"]\n",
    "\n",
    "count_missing = new_missing_countries.groupby(\"continent\").agg({\"country\":\"count\"})\n",
    "count_missing.columns = [\"count_missing\"]\n",
    "\n",
    "print(count_missing)"
   ]
  },
  {
   "cell_type": "markdown",
   "id": "49501e29",
   "metadata": {},
   "source": [
    "Which business categories are best suited to last many years, and on what continent are they? Create a DataFrame called `oldest_by_continent_category` that stores the oldest founding year for each continent and category combination. It should contain three columns: `continent`, `category`, and `year_founded`, in that order."
   ]
  },
  {
   "cell_type": "code",
   "execution_count": 5,
   "id": "53a4bde0",
   "metadata": {},
   "outputs": [
    {
     "name": "stdout",
     "output_type": "stream",
     "text": [
      "                                             year_founded\n",
      "continent category                                       \n",
      "Africa    Agriculture                                1947\n",
      "          Aviation & Transport                       1854\n",
      "          Banking & Finance                          1892\n",
      "          Distillers, Vintners, & Breweries          1933\n",
      "          Energy                                     1968\n"
     ]
    }
   ],
   "source": [
    "businesses_categories = businesses.merge(categories, on=\"category_code\")\n",
    "\n",
    "businesses_categories_countries = businesses_categories.merge(countries, on=\"country_code\")\n",
    "\n",
    "oldest_by_continent_category = businesses_categories_countries.groupby([\"continent\", \"category\"]).agg({\"year_founded\":\"min\"})\n",
    "\n",
    "print(oldest_by_continent_category.head())"
   ]
  }
 ],
 "metadata": {
  "editor": "DataLab",
  "kernelspec": {
   "display_name": "base",
   "language": "python",
   "name": "python3"
  },
  "language_info": {
   "codemirror_mode": {
    "name": "ipython",
    "version": 3
   },
   "file_extension": ".py",
   "mimetype": "text/x-python",
   "name": "python",
   "nbconvert_exporter": "python",
   "pygments_lexer": "ipython3",
   "version": "3.12.7"
  }
 },
 "nbformat": 4,
 "nbformat_minor": 5
}
