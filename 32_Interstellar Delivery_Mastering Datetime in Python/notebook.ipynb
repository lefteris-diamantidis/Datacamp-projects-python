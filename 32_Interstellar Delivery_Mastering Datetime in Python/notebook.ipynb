{
 "cells": [
  {
   "cell_type": "markdown",
   "id": "c0672a78-54fb-4e9b-b617-bf43e781f0ba",
   "metadata": {},
   "source": [
    "![rocket_img](rocket_img.jpg)\n",
    "\n",
    "\n"
   ]
  },
  {
   "cell_type": "markdown",
   "id": "d23e9759-c345-4665-9b02-eaf3932cfa51",
   "metadata": {},
   "source": [
    "You recently quit your job to start a space logistics company that uses rockets to deliver critical cargo to colonies on demand. Since you're still in the startup phase, you're handling everything yourself, including writing the software to manage complex scheduling and timing across different space colonies.\n",
    "\n",
    "Before developing a full rocket flight planning and logistics system, you want to create core functions using Python's datetime module to handle dates, times, and durations. These basic functions are essential for your rocket delivery service. In this project, you will make simple reusable functions for working with timestamps, calculating rocket landing times based on launch and travel duration, and figuring out days until a delivery deadline to keep those customers updated!\n",
    "\n",
    "This project is data-less, but you can test your functions by calling them in the workspace and passing them the required variables."
   ]
  },
  {
   "cell_type": "code",
   "execution_count": 1,
   "id": "b73875a4-ec41-4739-8670-764f75f2804f",
   "metadata": {
    "executionCancelledAt": null,
    "executionTime": 10,
    "lastExecutedAt": 1726905175039,
    "lastExecutedByKernel": "0589278c-0a96-4894-bf84-b87d55f72b79",
    "lastScheduledRunId": null,
    "lastSuccessfullyExecutedCode": "# Re-run this cell\nfrom datetime import datetime, timedelta"
   },
   "outputs": [],
   "source": [
    "# Re-run this cell\n",
    "from datetime import datetime, timedelta"
   ]
  },
  {
   "cell_type": "markdown",
   "id": "8d8ca8fc",
   "metadata": {},
   "source": [
    "Define a function called format_date(), which formats a timestamp into a readable datetime string.\n",
    "\n",
    "- It must accept **two** parameters: `timestamp` - the Unix timestamp integer, and `datetime_format` - a string specifying the desired date format.\n",
    "- The function should return the date correctly formatted as a string.\n",
    "- For example, calling `format_date(1514665153, \"%d-%m-%Y\")` should output `\"30-12-2017\"`."
   ]
  },
  {
   "cell_type": "code",
   "execution_count": 2,
   "id": "58329c22",
   "metadata": {},
   "outputs": [],
   "source": [
    "def format_date(timestamp, datetime_format):\n",
    "    datetime_obj = datetime.fromtimestamp(timestamp)  \n",
    "    datetime_str = datetime_obj.strftime(datetime_format)\n",
    "    return datetime_str"
   ]
  },
  {
   "cell_type": "code",
   "execution_count": 3,
   "id": "b1095f3a",
   "metadata": {},
   "outputs": [
    {
     "data": {
      "text/plain": [
       "'30-12-2017'"
      ]
     },
     "execution_count": 3,
     "metadata": {},
     "output_type": "execute_result"
    }
   ],
   "source": [
    "format_date(1514665153, \"%d-%m-%Y\")"
   ]
  },
  {
   "cell_type": "markdown",
   "id": "4e54d8da",
   "metadata": {},
   "source": [
    "Define a function called `calculate_landing_time()`, which calculates the estimated landing time.\n",
    "\n",
    "- It must accept **two** parameters: `rocket_launch_d`t - the rocket launch datetime object, and `travel_duration` - the expected travel time in days as an integer.\n",
    "- The function should return the estimated Mars landing time as a datetime **string** in the format `DD-MM-YYYY`.\n",
    "- For example, calling `calculate_landing_time(datetime(2023, 2, 15), 20)` should output `\"07-03-2023\"`."
   ]
  },
  {
   "cell_type": "code",
   "execution_count": 4,
   "id": "0593de65",
   "metadata": {},
   "outputs": [],
   "source": [
    "def calculate_landing_time(rocket_launch_dt, travel_duration):\n",
    "    landing_date = rocket_launch_dt + timedelta(days=travel_duration)\n",
    "    landing_date_string = landing_date.strftime(\"%d-%m-%Y\") \n",
    "    return landing_date_string"
   ]
  },
  {
   "cell_type": "code",
   "execution_count": 5,
   "id": "323173cb",
   "metadata": {},
   "outputs": [
    {
     "data": {
      "text/plain": [
       "'07-03-2023'"
      ]
     },
     "execution_count": 5,
     "metadata": {},
     "output_type": "execute_result"
    }
   ],
   "source": [
    "calculate_landing_time(datetime(2023, 2, 15), 20)"
   ]
  },
  {
   "cell_type": "markdown",
   "id": "9b09bb33",
   "metadata": {},
   "source": [
    "Define a function named `days_until_delivery()`, which calculates the days until a package arrives for customers.\n",
    "\n",
    "- It must accept **two** parameters: `expected_delivery_dt` - the estimated delivery date as a datetime object for the package, and `current_dt` - the current date as a datetime object.\n",
    "The function should calculate the difference in days between the expected delivery datetime and the current datetime, then return the number of days remaining as an **integer**.\n",
    "For example, calling `days_until_delivery(datetime(2023, 2, 15), datetime(2023, 2, 5))` should output `10`."
   ]
  },
  {
   "cell_type": "code",
   "execution_count": 6,
   "id": "b79a3cde-42f2-48da-879c-af8bbafa6a2e",
   "metadata": {
    "executionCancelledAt": null,
    "executionTime": 56,
    "lastExecutedAt": 1726905175096,
    "lastExecutedByKernel": "0589278c-0a96-4894-bf84-b87d55f72b79",
    "lastScheduledRunId": null,
    "lastSuccessfullyExecutedCode": "# Start coding here. Use as many cells as you need.\n\n# Define format_date function accepting timestamp and datetime format args\ndef format_date(timestamp, datetime_format):\n    # Convert timestamp arg to datetime object and save result in new variable\n    datetime_obj = datetime.fromtimestamp(timestamp)  \n    # Format datetime_obj to string using the datetime_format arg\n    datetime_str = datetime_obj.strftime(datetime_format)\n    # Return formatted datetime string\n    return datetime_str\n\n# Define calculate_landing_time function accepting launch datetime and duration\ndef calculate_landing_time(rocket_launch_dt, travel_duration):\n    # Calculate landing by adding travel_duration to rocket_launch_dt arg and save result in new variable\n    landing_date = rocket_launch_dt + timedelta(days=travel_duration)\n    # Format landing datetime to string in specified format\n    landing_date_string = landing_date.strftime(\"%d-%m-%Y\") \n    # Return landing date time string \n    return landing_date_string\n\n# Define days_until_delivery function accepting expected and current datetimes \ndef days_until_delivery(expected_delivery_dt, current_dt):\n    # Calculate the time until delivery by subtracting current_dt arg from the expected_delivery_dt arg \n    time_until_delivery = expected_delivery_dt - current_dt\n    # Access the date component of the datetime object\n    days_until = time_until_delivery.days\n    # Return number of days until delivery\n    return days_until"
   },
   "outputs": [],
   "source": [
    "def days_until_delivery(expected_delivery_dt, current_dt):\n",
    "    time_until_delivery = expected_delivery_dt - current_dt\n",
    "    days_until = time_until_delivery.days\n",
    "    return days_until"
   ]
  },
  {
   "cell_type": "code",
   "execution_count": 7,
   "id": "7fd15b07",
   "metadata": {},
   "outputs": [
    {
     "data": {
      "text/plain": [
       "10"
      ]
     },
     "execution_count": 7,
     "metadata": {},
     "output_type": "execute_result"
    }
   ],
   "source": [
    "days_until_delivery(datetime(2023, 2, 15), datetime(2023, 2, 5))"
   ]
  }
 ],
 "metadata": {
  "editor": "DataCamp Workspace",
  "kernelspec": {
   "display_name": "base",
   "language": "python",
   "name": "python3"
  },
  "language_info": {
   "codemirror_mode": {
    "name": "ipython",
    "version": 3
   },
   "file_extension": ".py",
   "mimetype": "text/x-python",
   "name": "python",
   "nbconvert_exporter": "python",
   "pygments_lexer": "ipython3",
   "version": "3.12.7"
  }
 },
 "nbformat": 4,
 "nbformat_minor": 5
}
